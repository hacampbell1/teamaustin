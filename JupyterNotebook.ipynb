{
 "cells": [
  {
   "cell_type": "markdown",
   "metadata": {},
   "source": [
    "# Computer Vision Industry Recommendation "
   ]
  },
  {
   "cell_type": "code",
   "execution_count": 1,
   "metadata": {},
   "outputs": [],
   "source": [
    "import pandas as pd\n",
    "import numpy as np\n",
    "import sqlite3 \n",
    "from pandasql import sqldf\n",
    "from scipy import stats\n",
    "import random\n",
    "import math\n",
    "import matplotlib.pyplot as plt\n",
    "%matplotlib inline\n",
    "import seaborn as sns\n",
    "import warnings\n",
    "warnings.filterwarnings('ignore')"
   ]
  },
  {
   "cell_type": "code",
   "execution_count": 2,
   "metadata": {},
   "outputs": [],
   "source": [
    "#Plot Parameters\n",
    "\n",
    "title_font = {'fontname':'Calibri', 'size':'18', 'color':'black', 'weight':'normal',\n",
    "              'verticalalignment':'bottom'} \n",
    "label_font = {'fontname':'Calibri', 'size':'16', 'weight':'normal'}"
   ]
  },
  {
   "cell_type": "markdown",
   "metadata": {},
   "source": [
    "## Overview"
   ]
  },
  {
   "cell_type": "markdown",
   "metadata": {},
   "source": [
    "Computer Vision is interested in entering the film industry for the first time. Movie data was analyzed from multiple databases in order to understand the most profitable and successful movies. This data was analyzed utilizing various statistical methods and data manipulation."
   ]
  },
  {
   "cell_type": "markdown",
   "metadata": {},
   "source": [
    "## Business Understanding"
   ]
  },
  {
   "cell_type": "markdown",
   "metadata": {},
   "source": [
    "Computer Vision is looking to produce original video content with the creation of a new movie studio. Their goal is to strategically release top-rated, and high grossing films, but lack of industry specific knowledge and experience is delaying this expansion. An uncalculated debut into the film industry may lead to poor brand recognition or unnecessary financial loss.\n",
    "\n",
    "By leveraging box office data sources to draw conclusions on variables like release month, genre, audience ratings, and profits our team seeks to answer the how, what, and when so Computer Vision can successfully begin creating films tailored to surpass their goals "
   ]
  },
  {
   "cell_type": "markdown",
   "metadata": {},
   "source": [
    "## Data Understanding and Analysis"
   ]
  },
  {
   "cell_type": "markdown",
   "metadata": {},
   "source": [
    "**Data Sources**\n",
    "- Box Office Mojo\n",
    "- IMDB\n",
    "- Rotten Tomatoes\n",
    "\n",
    "&nbsp;&nbsp;&nbsp;&nbsp;&nbsp;&nbsp;&nbsp;&nbsp;&nbsp;&nbsp;&nbsp;&nbsp;  - Movie Information \n",
    "\n",
    "&nbsp;&nbsp;&nbsp;&nbsp;&nbsp;&nbsp;&nbsp;&nbsp;&nbsp;&nbsp;&nbsp;&nbsp;  - Movie Reviews\n",
    "\n",
    "- The Movie DB\n",
    "- The Numbers"
   ]
  },
  {
   "cell_type": "markdown",
   "metadata": {},
   "source": [
    "#### Box Office Mojo "
   ]
  },
  {
   "cell_type": "code",
   "execution_count": 3,
   "metadata": {},
   "outputs": [
    {
     "data": {
      "text/html": [
       "<div>\n",
       "<style scoped>\n",
       "    .dataframe tbody tr th:only-of-type {\n",
       "        vertical-align: middle;\n",
       "    }\n",
       "\n",
       "    .dataframe tbody tr th {\n",
       "        vertical-align: top;\n",
       "    }\n",
       "\n",
       "    .dataframe thead th {\n",
       "        text-align: right;\n",
       "    }\n",
       "</style>\n",
       "<table border=\"1\" class=\"dataframe\">\n",
       "  <thead>\n",
       "    <tr style=\"text-align: right;\">\n",
       "      <th></th>\n",
       "      <th>title</th>\n",
       "      <th>studio</th>\n",
       "      <th>domestic_gross</th>\n",
       "      <th>foreign_gross</th>\n",
       "      <th>year</th>\n",
       "    </tr>\n",
       "  </thead>\n",
       "  <tbody>\n",
       "    <tr>\n",
       "      <th>0</th>\n",
       "      <td>Toy Story 3</td>\n",
       "      <td>BV</td>\n",
       "      <td>415000000.0</td>\n",
       "      <td>652000000</td>\n",
       "      <td>2010</td>\n",
       "    </tr>\n",
       "    <tr>\n",
       "      <th>1</th>\n",
       "      <td>Alice in Wonderland (2010)</td>\n",
       "      <td>BV</td>\n",
       "      <td>334200000.0</td>\n",
       "      <td>691300000</td>\n",
       "      <td>2010</td>\n",
       "    </tr>\n",
       "    <tr>\n",
       "      <th>2</th>\n",
       "      <td>Harry Potter and the Deathly Hallows Part 1</td>\n",
       "      <td>WB</td>\n",
       "      <td>296000000.0</td>\n",
       "      <td>664300000</td>\n",
       "      <td>2010</td>\n",
       "    </tr>\n",
       "  </tbody>\n",
       "</table>\n",
       "</div>"
      ],
      "text/plain": [
       "                                         title studio  domestic_gross  \\\n",
       "0                                  Toy Story 3     BV     415000000.0   \n",
       "1                   Alice in Wonderland (2010)     BV     334200000.0   \n",
       "2  Harry Potter and the Deathly Hallows Part 1     WB     296000000.0   \n",
       "\n",
       "  foreign_gross  year  \n",
       "0     652000000  2010  \n",
       "1     691300000  2010  \n",
       "2     664300000  2010  "
      ]
     },
     "execution_count": 3,
     "metadata": {},
     "output_type": "execute_result"
    }
   ],
   "source": [
    "bom_df = pd.read_csv('data/bom.movie_gross.csv.gz')\n",
    "bom_df.head(3)"
   ]
  },
  {
   "cell_type": "markdown",
   "metadata": {},
   "source": [
    "From Box Office Mojo, 3387 records of films during the years 2010-2018, studio name, and their corresponding domestic and foreign gross box-office revenue are given.The Box Office Mojo data type accuratley described the string data as object. However, foreign gross total was listed as \"object\" and domestic gross was listed as a float even though no decimal value was indicated. Cleaning the dataset included changing the data type of foreign and domestic gross to integer. There were less than 40 NaNs between the studio, and domestic gross columns so dropping these rows was applicable. Alternatively, with over 1,300 NaN values under foreign gross column, the missing data was too significant to draw conclusions and limited analysis. The team concurred that replacing such NaNs with the related mean or another significant value would disproportionaly skew the data. As a result, the team utilized the .describe and .info methods to return the following descriptive statistics for only domestic gross:"
   ]
  },
  {
   "cell_type": "markdown",
   "metadata": {},
   "source": [
    "**Domestic Gross:**\n",
    "\n",
    "&nbsp;&nbsp;&nbsp;&nbsp;&nbsp;&nbsp; **Mean:** $28,745,845.07\n",
    "\n",
    "&nbsp;&nbsp;&nbsp;&nbsp;&nbsp;&nbsp; **Q1:**   $120,000.00\n",
    "\n",
    "&nbsp;&nbsp;&nbsp;&nbsp;&nbsp;&nbsp; **Q3:**   $27,900,000.00\n",
    "\n",
    "&nbsp;&nbsp;&nbsp;&nbsp;&nbsp;&nbsp; **Standard Deviation:**   $66,982,498.24\n"
   ]
  },
  {
   "cell_type": "markdown",
   "metadata": {},
   "source": [
    "Without knowing expenses incurred during production, both domestic and foreign gross revenues cannot be interpreted to the necessary extent. Although, neither release year nor movie title were relevant, an option to compare title to foreign or domestic gross could provide slight insight into title success.\n",
    "\n",
    "Although the Box Office Mojo provides intriguing data, analyzing the irrelevant and missing data values limits its ability to provide actionable next steps for Computer Vision. Therefore, the team did not use the Box Office Mojo dataset for analyses."
   ]
  },
  {
   "cell_type": "markdown",
   "metadata": {},
   "source": [
    "#### IMDB"
   ]
  },
  {
   "cell_type": "code",
   "execution_count": 4,
   "metadata": {},
   "outputs": [
    {
     "data": {
      "text/html": [
       "<div>\n",
       "<style scoped>\n",
       "    .dataframe tbody tr th:only-of-type {\n",
       "        vertical-align: middle;\n",
       "    }\n",
       "\n",
       "    .dataframe tbody tr th {\n",
       "        vertical-align: top;\n",
       "    }\n",
       "\n",
       "    .dataframe thead th {\n",
       "        text-align: right;\n",
       "    }\n",
       "</style>\n",
       "<table border=\"1\" class=\"dataframe\">\n",
       "  <thead>\n",
       "    <tr style=\"text-align: right;\">\n",
       "      <th></th>\n",
       "      <th>movie_id</th>\n",
       "      <th>primary_title</th>\n",
       "      <th>original_title</th>\n",
       "      <th>start_year</th>\n",
       "      <th>runtime_minutes</th>\n",
       "      <th>genres</th>\n",
       "      <th>movie_id</th>\n",
       "      <th>averagerating</th>\n",
       "      <th>numvotes</th>\n",
       "    </tr>\n",
       "  </thead>\n",
       "  <tbody>\n",
       "    <tr>\n",
       "      <th>0</th>\n",
       "      <td>tt0066787</td>\n",
       "      <td>One Day Before the Rainy Season</td>\n",
       "      <td>Ashad Ka Ek Din</td>\n",
       "      <td>2019</td>\n",
       "      <td>114.0</td>\n",
       "      <td>Biography,Drama</td>\n",
       "      <td>tt0066787</td>\n",
       "      <td>7.2</td>\n",
       "      <td>43</td>\n",
       "    </tr>\n",
       "    <tr>\n",
       "      <th>1</th>\n",
       "      <td>tt0263814</td>\n",
       "      <td>On kadin</td>\n",
       "      <td>On kadin</td>\n",
       "      <td>2019</td>\n",
       "      <td>NaN</td>\n",
       "      <td>Drama</td>\n",
       "      <td>tt0263814</td>\n",
       "      <td>7.1</td>\n",
       "      <td>100</td>\n",
       "    </tr>\n",
       "    <tr>\n",
       "      <th>2</th>\n",
       "      <td>tt0285423</td>\n",
       "      <td>Abolição</td>\n",
       "      <td>Abolição</td>\n",
       "      <td>2019</td>\n",
       "      <td>NaN</td>\n",
       "      <td>Documentary</td>\n",
       "      <td>tt0285423</td>\n",
       "      <td>7.4</td>\n",
       "      <td>35</td>\n",
       "    </tr>\n",
       "  </tbody>\n",
       "</table>\n",
       "</div>"
      ],
      "text/plain": [
       "    movie_id                    primary_title   original_title  start_year  \\\n",
       "0  tt0066787  One Day Before the Rainy Season  Ashad Ka Ek Din        2019   \n",
       "1  tt0263814                         On kadin         On kadin        2019   \n",
       "2  tt0285423                         Abolição         Abolição        2019   \n",
       "\n",
       "   runtime_minutes           genres   movie_id  averagerating  numvotes  \n",
       "0            114.0  Biography,Drama  tt0066787            7.2        43  \n",
       "1              NaN            Drama  tt0263814            7.1       100  \n",
       "2              NaN      Documentary  tt0285423            7.4        35  "
      ]
     },
     "execution_count": 4,
     "metadata": {},
     "output_type": "execute_result"
    }
   ],
   "source": [
    "\"\"\" Loading in SQL database \"\"\"\n",
    "pysqldf = lambda q: sqldf(q, globals())\n",
    "conn = sqlite3.connect(\"data/im.db\")\n",
    "\n",
    "\"\"\" Combining the 'Movie Ratings' table and 'Movie Basics' table to analyze variables \"\"\"\n",
    "imdb_df = pd.read_sql(\"\"\"SELECT * FROM movie_basics\n",
    "                    JOIN movie_ratings ON movie_basics.movie_id = movie_ratings.movie_id\n",
    "                    ORDER BY start_year DESC\"\"\" , conn)\n",
    "\n",
    "imdb_df.head(3)"
   ]
  },
  {
   "cell_type": "markdown",
   "metadata": {},
   "source": [
    "Provides in depth information on various movies from the year 2010 to 2019. The most relevant of the information provided includes movie ratings, number of ratings for a given movie, genre, and year published\n"
   ]
  },
  {
   "cell_type": "markdown",
   "metadata": {},
   "source": [
    "#### Rotten Tomatoes"
   ]
  },
  {
   "cell_type": "code",
   "execution_count": 5,
   "metadata": {},
   "outputs": [
    {
     "data": {
      "text/html": [
       "<div>\n",
       "<style scoped>\n",
       "    .dataframe tbody tr th:only-of-type {\n",
       "        vertical-align: middle;\n",
       "    }\n",
       "\n",
       "    .dataframe tbody tr th {\n",
       "        vertical-align: top;\n",
       "    }\n",
       "\n",
       "    .dataframe thead th {\n",
       "        text-align: right;\n",
       "    }\n",
       "</style>\n",
       "<table border=\"1\" class=\"dataframe\">\n",
       "  <thead>\n",
       "    <tr style=\"text-align: right;\">\n",
       "      <th></th>\n",
       "      <th>id</th>\n",
       "      <th>review</th>\n",
       "      <th>rating</th>\n",
       "      <th>fresh</th>\n",
       "      <th>critic</th>\n",
       "      <th>top_critic</th>\n",
       "      <th>publisher</th>\n",
       "      <th>date</th>\n",
       "    </tr>\n",
       "  </thead>\n",
       "  <tbody>\n",
       "    <tr>\n",
       "      <th>0</th>\n",
       "      <td>3</td>\n",
       "      <td>A distinctly gallows take on contemporary fina...</td>\n",
       "      <td>3/5</td>\n",
       "      <td>fresh</td>\n",
       "      <td>PJ Nabarro</td>\n",
       "      <td>0</td>\n",
       "      <td>Patrick Nabarro</td>\n",
       "      <td>November 10, 2018</td>\n",
       "    </tr>\n",
       "    <tr>\n",
       "      <th>1</th>\n",
       "      <td>3</td>\n",
       "      <td>It's an allegory in search of a meaning that n...</td>\n",
       "      <td>NaN</td>\n",
       "      <td>rotten</td>\n",
       "      <td>Annalee Newitz</td>\n",
       "      <td>0</td>\n",
       "      <td>io9.com</td>\n",
       "      <td>May 23, 2018</td>\n",
       "    </tr>\n",
       "    <tr>\n",
       "      <th>2</th>\n",
       "      <td>3</td>\n",
       "      <td>... life lived in a bubble in financial dealin...</td>\n",
       "      <td>NaN</td>\n",
       "      <td>fresh</td>\n",
       "      <td>Sean Axmaker</td>\n",
       "      <td>0</td>\n",
       "      <td>Stream on Demand</td>\n",
       "      <td>January 4, 2018</td>\n",
       "    </tr>\n",
       "  </tbody>\n",
       "</table>\n",
       "</div>"
      ],
      "text/plain": [
       "   id                                             review rating   fresh  \\\n",
       "0   3  A distinctly gallows take on contemporary fina...    3/5   fresh   \n",
       "1   3  It's an allegory in search of a meaning that n...    NaN  rotten   \n",
       "2   3  ... life lived in a bubble in financial dealin...    NaN   fresh   \n",
       "\n",
       "           critic  top_critic         publisher               date  \n",
       "0      PJ Nabarro           0   Patrick Nabarro  November 10, 2018  \n",
       "1  Annalee Newitz           0           io9.com       May 23, 2018  \n",
       "2    Sean Axmaker           0  Stream on Demand    January 4, 2018  "
      ]
     },
     "execution_count": 5,
     "metadata": {},
     "output_type": "execute_result"
    }
   ],
   "source": [
    "rt_r_df = pd.read_csv('data/rt.reviews.tsv', sep = '\\t', encoding = 'latin1')\n",
    "rt_r_df.head(3)"
   ]
  },
  {
   "cell_type": "code",
   "execution_count": 6,
   "metadata": {},
   "outputs": [
    {
     "data": {
      "text/html": [
       "<div>\n",
       "<style scoped>\n",
       "    .dataframe tbody tr th:only-of-type {\n",
       "        vertical-align: middle;\n",
       "    }\n",
       "\n",
       "    .dataframe tbody tr th {\n",
       "        vertical-align: top;\n",
       "    }\n",
       "\n",
       "    .dataframe thead th {\n",
       "        text-align: right;\n",
       "    }\n",
       "</style>\n",
       "<table border=\"1\" class=\"dataframe\">\n",
       "  <thead>\n",
       "    <tr style=\"text-align: right;\">\n",
       "      <th></th>\n",
       "      <th>id</th>\n",
       "      <th>synopsis</th>\n",
       "      <th>rating</th>\n",
       "      <th>genre</th>\n",
       "      <th>director</th>\n",
       "      <th>writer</th>\n",
       "      <th>theater_date</th>\n",
       "      <th>dvd_date</th>\n",
       "      <th>currency</th>\n",
       "      <th>box_office</th>\n",
       "      <th>runtime</th>\n",
       "      <th>studio</th>\n",
       "    </tr>\n",
       "  </thead>\n",
       "  <tbody>\n",
       "    <tr>\n",
       "      <th>0</th>\n",
       "      <td>1</td>\n",
       "      <td>This gritty, fast-paced, and innovative police...</td>\n",
       "      <td>R</td>\n",
       "      <td>Action and Adventure|Classics|Drama</td>\n",
       "      <td>William Friedkin</td>\n",
       "      <td>Ernest Tidyman</td>\n",
       "      <td>Oct 9, 1971</td>\n",
       "      <td>Sep 25, 2001</td>\n",
       "      <td>NaN</td>\n",
       "      <td>NaN</td>\n",
       "      <td>104 minutes</td>\n",
       "      <td>NaN</td>\n",
       "    </tr>\n",
       "    <tr>\n",
       "      <th>1</th>\n",
       "      <td>3</td>\n",
       "      <td>New York City, not-too-distant-future: Eric Pa...</td>\n",
       "      <td>R</td>\n",
       "      <td>Drama|Science Fiction and Fantasy</td>\n",
       "      <td>David Cronenberg</td>\n",
       "      <td>David Cronenberg|Don DeLillo</td>\n",
       "      <td>Aug 17, 2012</td>\n",
       "      <td>Jan 1, 2013</td>\n",
       "      <td>$</td>\n",
       "      <td>600,000</td>\n",
       "      <td>108 minutes</td>\n",
       "      <td>Entertainment One</td>\n",
       "    </tr>\n",
       "    <tr>\n",
       "      <th>2</th>\n",
       "      <td>5</td>\n",
       "      <td>Illeana Douglas delivers a superb performance ...</td>\n",
       "      <td>R</td>\n",
       "      <td>Drama|Musical and Performing Arts</td>\n",
       "      <td>Allison Anders</td>\n",
       "      <td>Allison Anders</td>\n",
       "      <td>Sep 13, 1996</td>\n",
       "      <td>Apr 18, 2000</td>\n",
       "      <td>NaN</td>\n",
       "      <td>NaN</td>\n",
       "      <td>116 minutes</td>\n",
       "      <td>NaN</td>\n",
       "    </tr>\n",
       "  </tbody>\n",
       "</table>\n",
       "</div>"
      ],
      "text/plain": [
       "   id                                           synopsis rating  \\\n",
       "0   1  This gritty, fast-paced, and innovative police...      R   \n",
       "1   3  New York City, not-too-distant-future: Eric Pa...      R   \n",
       "2   5  Illeana Douglas delivers a superb performance ...      R   \n",
       "\n",
       "                                 genre          director  \\\n",
       "0  Action and Adventure|Classics|Drama  William Friedkin   \n",
       "1    Drama|Science Fiction and Fantasy  David Cronenberg   \n",
       "2    Drama|Musical and Performing Arts    Allison Anders   \n",
       "\n",
       "                         writer  theater_date      dvd_date currency  \\\n",
       "0                Ernest Tidyman   Oct 9, 1971  Sep 25, 2001      NaN   \n",
       "1  David Cronenberg|Don DeLillo  Aug 17, 2012   Jan 1, 2013        $   \n",
       "2                Allison Anders  Sep 13, 1996  Apr 18, 2000      NaN   \n",
       "\n",
       "  box_office      runtime             studio  \n",
       "0        NaN  104 minutes                NaN  \n",
       "1    600,000  108 minutes  Entertainment One  \n",
       "2        NaN  116 minutes                NaN  "
      ]
     },
     "execution_count": 6,
     "metadata": {},
     "output_type": "execute_result"
    }
   ],
   "source": [
    "rt_info_df = pd.read_csv('data/rt.movie_info.tsv', sep = '\\t', encoding = 'latin1')\n",
    "rt_info_df.head(3)"
   ]
  },
  {
   "cell_type": "markdown",
   "metadata": {},
   "source": [
    "Rotten Tomatoes was the source for both the movie_info and reviews dataset.\n",
    "\n",
    "**Rotten Tomatoes' movie information** dataset contained a total of 1,560 entries. The 12 column headers provided data for each films': synopsis, rating, genre, director, writer, release date, dvd date, box office revenue, run time, and studio. Every column had NaN values, excluding id. The most significant NaN columns were currency, box office, and studio, each with less than 350 records. This means we are missing 78% of the data for each of these columns. Film ratings ranged from NC17 to G and .dropna was used to remove NaN values since only 3 occurred. The currency value was either USD ($) or NaN. Without data on the release location of each film, the team was unable to substitute the missing currencies. Similarly, with such a deficit of data points for box office revenue amounts, filling in mean or similar profit values would disrupt the accuracy of the dataset significantly. Whether box office revenue is foreign, domestic or a combination of both is also unknown. Genre was analyzed within a separate dataset, and therefore remained untouched. Theater date and dvd date were converted using Python's datetime module. "
   ]
  },
  {
   "cell_type": "markdown",
   "metadata": {},
   "source": [
    "**Run Time:**\n",
    "\n",
    "&nbsp;&nbsp;&nbsp;&nbsp;&nbsp;&nbsp; **Mean:** \n",
    "\n",
    "&nbsp;&nbsp;&nbsp;&nbsp;&nbsp;&nbsp; **Q1:**\n",
    "\n",
    "&nbsp;&nbsp;&nbsp;&nbsp;&nbsp;&nbsp; **Q3:** \n",
    "\n",
    "&nbsp;&nbsp;&nbsp;&nbsp;&nbsp;&nbsp; **Standard Deviation:** "
   ]
  },
  {
   "cell_type": "markdown",
   "metadata": {},
   "source": [
    "Given the large number of limitations of the dataset, and missing film titles the team did not analyze this data to provide recommendations. Although with further comparison of other tables, examining genre, synopsis, and revenue could provide Computer Vision with data on successful storylines, and characters."
   ]
  },
  {
   "cell_type": "markdown",
   "metadata": {},
   "source": [
    "**Rotten Tomatoes' movie reviews** dataset contained 54,432 entries with 8 columns listed as: id, review, rating, fresh, critic, top critic, publisher and date. The majority of the dataset contained details on the sentiment data of film reviews. The types of rating per review varied greatly. There were some on a 0-5 scale, some 0-10, and others used a grade scale, for example: B-, C, F. Some ratings included floating numbers as well, such as 2.5/5. In addition, the ratings column had the most NaN values, 13,517. The missing and inconsistent rating data was one of the largest limitations within this dataset along with lack of film titles associated with each rating. The team did utilize .strip to remove unnecessary white spaces and punctuation from each review. Following Python's boolean type expressions, it is assumed that a top critic value of 0 indicates False, and a value of 1 indicates True. Although, this does not provide deeper insight of the review or add value to Computer Vision's current business problem. As before, review data was adapted using Python's datetime module. \n",
    "\n",
    "With much of the data being subjective based, and limited background on the fresh and rating methodology, the team did not use this dataset as a basis for recommendations. Descriptive statistics are not listed, as a majority of the data is qualitative versus quantitative. In the future, more complex sentiment analysis of critic reviews and an established rating scale may be used to compare film success or profitability. \n"
   ]
  },
  {
   "cell_type": "markdown",
   "metadata": {},
   "source": [
    "#### The Movie DB"
   ]
  },
  {
   "cell_type": "code",
   "execution_count": 7,
   "metadata": {},
   "outputs": [
    {
     "data": {
      "text/html": [
       "<div>\n",
       "<style scoped>\n",
       "    .dataframe tbody tr th:only-of-type {\n",
       "        vertical-align: middle;\n",
       "    }\n",
       "\n",
       "    .dataframe tbody tr th {\n",
       "        vertical-align: top;\n",
       "    }\n",
       "\n",
       "    .dataframe thead th {\n",
       "        text-align: right;\n",
       "    }\n",
       "</style>\n",
       "<table border=\"1\" class=\"dataframe\">\n",
       "  <thead>\n",
       "    <tr style=\"text-align: right;\">\n",
       "      <th></th>\n",
       "      <th>genre_ids</th>\n",
       "      <th>id</th>\n",
       "      <th>original_language</th>\n",
       "      <th>original_title</th>\n",
       "      <th>popularity</th>\n",
       "      <th>release_date</th>\n",
       "      <th>title</th>\n",
       "      <th>vote_average</th>\n",
       "      <th>vote_count</th>\n",
       "    </tr>\n",
       "  </thead>\n",
       "  <tbody>\n",
       "    <tr>\n",
       "      <th>0</th>\n",
       "      <td>[12, 14, 10751]</td>\n",
       "      <td>12444</td>\n",
       "      <td>en</td>\n",
       "      <td>Harry Potter and the Deathly Hallows: Part 1</td>\n",
       "      <td>33.533</td>\n",
       "      <td>2010-11-19</td>\n",
       "      <td>Harry Potter and the Deathly Hallows: Part 1</td>\n",
       "      <td>7.7</td>\n",
       "      <td>10788</td>\n",
       "    </tr>\n",
       "    <tr>\n",
       "      <th>1</th>\n",
       "      <td>[14, 12, 16, 10751]</td>\n",
       "      <td>10191</td>\n",
       "      <td>en</td>\n",
       "      <td>How to Train Your Dragon</td>\n",
       "      <td>28.734</td>\n",
       "      <td>2010-03-26</td>\n",
       "      <td>How to Train Your Dragon</td>\n",
       "      <td>7.7</td>\n",
       "      <td>7610</td>\n",
       "    </tr>\n",
       "    <tr>\n",
       "      <th>2</th>\n",
       "      <td>[12, 28, 878]</td>\n",
       "      <td>10138</td>\n",
       "      <td>en</td>\n",
       "      <td>Iron Man 2</td>\n",
       "      <td>28.515</td>\n",
       "      <td>2010-05-07</td>\n",
       "      <td>Iron Man 2</td>\n",
       "      <td>6.8</td>\n",
       "      <td>12368</td>\n",
       "    </tr>\n",
       "  </tbody>\n",
       "</table>\n",
       "</div>"
      ],
      "text/plain": [
       "             genre_ids     id original_language  \\\n",
       "0      [12, 14, 10751]  12444                en   \n",
       "1  [14, 12, 16, 10751]  10191                en   \n",
       "2        [12, 28, 878]  10138                en   \n",
       "\n",
       "                                 original_title  popularity release_date  \\\n",
       "0  Harry Potter and the Deathly Hallows: Part 1      33.533   2010-11-19   \n",
       "1                      How to Train Your Dragon      28.734   2010-03-26   \n",
       "2                                    Iron Man 2      28.515   2010-05-07   \n",
       "\n",
       "                                          title  vote_average  vote_count  \n",
       "0  Harry Potter and the Deathly Hallows: Part 1           7.7       10788  \n",
       "1                      How to Train Your Dragon           7.7        7610  \n",
       "2                                    Iron Man 2           6.8       12368  "
      ]
     },
     "execution_count": 7,
     "metadata": {},
     "output_type": "execute_result"
    }
   ],
   "source": [
    "tmdb_df = pd.read_csv('data/tmdb.movies.csv.gz', index_col = 0)\n",
    "tmdb_df.head(3)"
   ]
  },
  {
   "cell_type": "markdown",
   "metadata": {},
   "source": [
    "The movie database contained a total of 26,517 entries with 9 columns. The columns provided were: genre id, id, original language, original title, popularity, release date, title, vote average, and vote count. The dataset was complete, with no NaN values. The genre ids were given by number, for example: [12,14,10751] which is assumed to relate a specific genre. However, the key for genre id was not listed to a corresponding genre type. As usual, release date was converted to Python's datetime format to more easily filter through data values. Original title versus title is due to language translation such as es, or ja. The popularity values ranged from a minimum of .6 and a maximum of 80.77 however, the mean was 3.13. This indicates outliers within the popularity column. The team was limited in their interpretation of popularity data because there was no associated scale showing how this value was computed. This value was not used in the final recommendation analysis. The film titles were included which provides greater opportunity for analysis when joining with other databases. \n",
    "The data types for both vote average and vote count were accurately labeled as float and int. The voting scale ranges from 0 to 10 based on a .describe return showing a min of 0.00 and max of 10.00. Vote count was also disproportionally skewed with outliers, as the mean was 194 and the max returned 22,186 votes. The team did not use this dataset as a basis for recommendations. \n",
    "\n",
    "Below are descriptive statistics of relevant data values: \n"
   ]
  },
  {
   "cell_type": "markdown",
   "metadata": {},
   "source": [
    "**Vote Average:**\n",
    "\n",
    "&nbsp;&nbsp;&nbsp;&nbsp;&nbsp;&nbsp; **Mean:** 5.99\n",
    "\n",
    "&nbsp;&nbsp;&nbsp;&nbsp;&nbsp;&nbsp; **Q1:** 5.00\n",
    "\n",
    "&nbsp;&nbsp;&nbsp;&nbsp;&nbsp;&nbsp; **Q3:** 3.69\n",
    "\n",
    "&nbsp;&nbsp;&nbsp;&nbsp;&nbsp;&nbsp; **Standard Deviation:** 1.85\n",
    "\n",
    "\n",
    "**Vote Count:**\n",
    "\n",
    "&nbsp;&nbsp;&nbsp;&nbsp;&nbsp;&nbsp; **Mean:** 194.22\n",
    "\n",
    "&nbsp;&nbsp;&nbsp;&nbsp;&nbsp;&nbsp; **Q1:** 2.00\n",
    "\n",
    "&nbsp;&nbsp;&nbsp;&nbsp;&nbsp;&nbsp; **Q3:** 28.00\n",
    "\n",
    "&nbsp;&nbsp;&nbsp;&nbsp;&nbsp;&nbsp; **Standard Deviation:** 960.96"
   ]
  },
  {
   "cell_type": "markdown",
   "metadata": {},
   "source": [
    "#### The Numbers DB"
   ]
  },
  {
   "cell_type": "code",
   "execution_count": 8,
   "metadata": {},
   "outputs": [
    {
     "data": {
      "text/html": [
       "<div>\n",
       "<style scoped>\n",
       "    .dataframe tbody tr th:only-of-type {\n",
       "        vertical-align: middle;\n",
       "    }\n",
       "\n",
       "    .dataframe tbody tr th {\n",
       "        vertical-align: top;\n",
       "    }\n",
       "\n",
       "    .dataframe thead th {\n",
       "        text-align: right;\n",
       "    }\n",
       "</style>\n",
       "<table border=\"1\" class=\"dataframe\">\n",
       "  <thead>\n",
       "    <tr style=\"text-align: right;\">\n",
       "      <th></th>\n",
       "      <th>id</th>\n",
       "      <th>release_date</th>\n",
       "      <th>movie</th>\n",
       "      <th>production_budget</th>\n",
       "      <th>domestic_gross</th>\n",
       "      <th>worldwide_gross</th>\n",
       "    </tr>\n",
       "  </thead>\n",
       "  <tbody>\n",
       "    <tr>\n",
       "      <th>0</th>\n",
       "      <td>1</td>\n",
       "      <td>Dec 18, 2009</td>\n",
       "      <td>Avatar</td>\n",
       "      <td>$425,000,000</td>\n",
       "      <td>$760,507,625</td>\n",
       "      <td>$2,776,345,279</td>\n",
       "    </tr>\n",
       "    <tr>\n",
       "      <th>1</th>\n",
       "      <td>2</td>\n",
       "      <td>May 20, 2011</td>\n",
       "      <td>Pirates of the Caribbean: On Stranger Tides</td>\n",
       "      <td>$410,600,000</td>\n",
       "      <td>$241,063,875</td>\n",
       "      <td>$1,045,663,875</td>\n",
       "    </tr>\n",
       "    <tr>\n",
       "      <th>2</th>\n",
       "      <td>3</td>\n",
       "      <td>Jun 7, 2019</td>\n",
       "      <td>Dark Phoenix</td>\n",
       "      <td>$350,000,000</td>\n",
       "      <td>$42,762,350</td>\n",
       "      <td>$149,762,350</td>\n",
       "    </tr>\n",
       "  </tbody>\n",
       "</table>\n",
       "</div>"
      ],
      "text/plain": [
       "   id  release_date                                        movie  \\\n",
       "0   1  Dec 18, 2009                                       Avatar   \n",
       "1   2  May 20, 2011  Pirates of the Caribbean: On Stranger Tides   \n",
       "2   3   Jun 7, 2019                                 Dark Phoenix   \n",
       "\n",
       "  production_budget domestic_gross worldwide_gross  \n",
       "0      $425,000,000   $760,507,625  $2,776,345,279  \n",
       "1      $410,600,000   $241,063,875  $1,045,663,875  \n",
       "2      $350,000,000    $42,762,350    $149,762,350  "
      ]
     },
     "execution_count": 8,
     "metadata": {},
     "output_type": "execute_result"
    }
   ],
   "source": [
    "tn_df = pd.read_csv('data/tn.movie_budgets.csv.gz')\n",
    "tn_df.head(3)"
   ]
  },
  {
   "cell_type": "markdown",
   "metadata": {},
   "source": [
    "This provides a list a movies and their corresponding production budget, domestic gross income, and worldwide gross income \n",
    "Description of data\n",
    "Three visualizations (the same visualizations presented in the slides and notebook)"
   ]
  },
  {
   "cell_type": "markdown",
   "metadata": {},
   "source": [
    "## Data Preparation and Methodology"
   ]
  },
  {
   "cell_type": "markdown",
   "metadata": {},
   "source": [
    "After we have an understanding about the shape and variables for each dataset, we can now begin to preprocess and filter the data into the appropriate form for further analysis. We followed the methodologies below:\n",
    "\n",
    "1. Apply appropriate filters to the SQL Dataset\n",
    "2. Handling NaN values\n",
    "3. Checking duplicate rows\n",
    "4. Transforming specific columns\n",
    "5. Merging DataFrames\n",
    "6. Feature engineering\n"
   ]
  },
  {
   "cell_type": "markdown",
   "metadata": {},
   "source": [
    "### 1. Applying appropriate filters for SQL dataset"
   ]
  },
  {
   "cell_type": "markdown",
   "metadata": {},
   "source": [
    "Within the IMDB data, we observed that certain movies only had one rating. Descriptive statistics showed that at least 75% of the movies have at least 14 ratings. We want to preserve as much data as possible while excluding outliers. Therefore we chose the lower quartile as the minimum number of ratings neccesary to be included. This allows us to keep maximum data without our average ratings because skewed up or down by movings that have one review. Additionally, the dataset has information regarding movies past the current year of 2023. In turn we want to exclude any movies released (start_year) beyond 2023. Additional filters are applied to address the null values, which will be discussed next. "
   ]
  },
  {
   "cell_type": "code",
   "execution_count": 9,
   "metadata": {},
   "outputs": [
    {
     "data": {
      "text/html": [
       "<div>\n",
       "<style scoped>\n",
       "    .dataframe tbody tr th:only-of-type {\n",
       "        vertical-align: middle;\n",
       "    }\n",
       "\n",
       "    .dataframe tbody tr th {\n",
       "        vertical-align: top;\n",
       "    }\n",
       "\n",
       "    .dataframe thead th {\n",
       "        text-align: right;\n",
       "    }\n",
       "</style>\n",
       "<table border=\"1\" class=\"dataframe\">\n",
       "  <thead>\n",
       "    <tr style=\"text-align: right;\">\n",
       "      <th></th>\n",
       "      <th>movie_id</th>\n",
       "      <th>averagerating</th>\n",
       "      <th>numvotes</th>\n",
       "      <th>movie_id</th>\n",
       "      <th>primary_title</th>\n",
       "      <th>original_title</th>\n",
       "      <th>start_year</th>\n",
       "      <th>runtime_minutes</th>\n",
       "      <th>genres</th>\n",
       "    </tr>\n",
       "  </thead>\n",
       "  <tbody>\n",
       "    <tr>\n",
       "      <th>0</th>\n",
       "      <td>tt10356526</td>\n",
       "      <td>8.3</td>\n",
       "      <td>31</td>\n",
       "      <td>tt10356526</td>\n",
       "      <td>Laiye Je Yaarian</td>\n",
       "      <td>Laiye Je Yaarian</td>\n",
       "      <td>2019</td>\n",
       "      <td>117.0</td>\n",
       "      <td>Romance</td>\n",
       "    </tr>\n",
       "    <tr>\n",
       "      <th>1</th>\n",
       "      <td>tt10384606</td>\n",
       "      <td>8.9</td>\n",
       "      <td>559</td>\n",
       "      <td>tt10384606</td>\n",
       "      <td>Borderless</td>\n",
       "      <td>Borderless</td>\n",
       "      <td>2019</td>\n",
       "      <td>87.0</td>\n",
       "      <td>Documentary</td>\n",
       "    </tr>\n",
       "    <tr>\n",
       "      <th>2</th>\n",
       "      <td>tt1673732</td>\n",
       "      <td>8.0</td>\n",
       "      <td>20</td>\n",
       "      <td>tt1673732</td>\n",
       "      <td>Break Clause</td>\n",
       "      <td>Break Clause</td>\n",
       "      <td>2019</td>\n",
       "      <td>NaN</td>\n",
       "      <td>Drama,Thriller</td>\n",
       "    </tr>\n",
       "    <tr>\n",
       "      <th>3</th>\n",
       "      <td>tt10243678</td>\n",
       "      <td>6.5</td>\n",
       "      <td>1394</td>\n",
       "      <td>tt10243678</td>\n",
       "      <td>Chopsticks</td>\n",
       "      <td>Chopsticks</td>\n",
       "      <td>2019</td>\n",
       "      <td>100.0</td>\n",
       "      <td>Comedy,Drama</td>\n",
       "    </tr>\n",
       "    <tr>\n",
       "      <th>4</th>\n",
       "      <td>tt10254986</td>\n",
       "      <td>7.0</td>\n",
       "      <td>15</td>\n",
       "      <td>tt10254986</td>\n",
       "      <td>Q Ball</td>\n",
       "      <td>Q Ball</td>\n",
       "      <td>2019</td>\n",
       "      <td>96.0</td>\n",
       "      <td>Documentary</td>\n",
       "    </tr>\n",
       "    <tr>\n",
       "      <th>...</th>\n",
       "      <td>...</td>\n",
       "      <td>...</td>\n",
       "      <td>...</td>\n",
       "      <td>...</td>\n",
       "      <td>...</td>\n",
       "      <td>...</td>\n",
       "      <td>...</td>\n",
       "      <td>...</td>\n",
       "      <td>...</td>\n",
       "    </tr>\n",
       "    <tr>\n",
       "      <th>55515</th>\n",
       "      <td>tt2344840</td>\n",
       "      <td>6.6</td>\n",
       "      <td>37</td>\n",
       "      <td>tt2344840</td>\n",
       "      <td>H2-Oh!</td>\n",
       "      <td>Narm Pee Nong Sayong Kwan</td>\n",
       "      <td>2010</td>\n",
       "      <td>NaN</td>\n",
       "      <td>Comedy,Horror</td>\n",
       "    </tr>\n",
       "    <tr>\n",
       "      <th>55516</th>\n",
       "      <td>tt2349630</td>\n",
       "      <td>3.7</td>\n",
       "      <td>165</td>\n",
       "      <td>tt2349630</td>\n",
       "      <td>Whatever God Wants</td>\n",
       "      <td>Whatever God Wants</td>\n",
       "      <td>2010</td>\n",
       "      <td>100.0</td>\n",
       "      <td>Comedy,Family</td>\n",
       "    </tr>\n",
       "    <tr>\n",
       "      <th>55517</th>\n",
       "      <td>tt2365937</td>\n",
       "      <td>7.2</td>\n",
       "      <td>87</td>\n",
       "      <td>tt2365937</td>\n",
       "      <td>Re-encounter</td>\n",
       "      <td>Hye-hwa, dong</td>\n",
       "      <td>2010</td>\n",
       "      <td>108.0</td>\n",
       "      <td>Drama</td>\n",
       "    </tr>\n",
       "    <tr>\n",
       "      <th>55518</th>\n",
       "      <td>tt2575400</td>\n",
       "      <td>7.1</td>\n",
       "      <td>15</td>\n",
       "      <td>tt2575400</td>\n",
       "      <td>Cinémas d'Horreur - Apocalypse, Virus, Zombies</td>\n",
       "      <td>Cinémas d'Horreur - Apocalypse, Virus, Zombies</td>\n",
       "      <td>2010</td>\n",
       "      <td>55.0</td>\n",
       "      <td>Documentary</td>\n",
       "    </tr>\n",
       "    <tr>\n",
       "      <th>55519</th>\n",
       "      <td>tt2612162</td>\n",
       "      <td>5.4</td>\n",
       "      <td>19</td>\n",
       "      <td>tt2612162</td>\n",
       "      <td>Ranbhool</td>\n",
       "      <td>Ranbhool</td>\n",
       "      <td>2010</td>\n",
       "      <td>110.0</td>\n",
       "      <td>Thriller</td>\n",
       "    </tr>\n",
       "  </tbody>\n",
       "</table>\n",
       "<p>55520 rows × 9 columns</p>\n",
       "</div>"
      ],
      "text/plain": [
       "         movie_id  averagerating  numvotes    movie_id  \\\n",
       "0      tt10356526            8.3        31  tt10356526   \n",
       "1      tt10384606            8.9       559  tt10384606   \n",
       "2       tt1673732            8.0        20   tt1673732   \n",
       "3      tt10243678            6.5      1394  tt10243678   \n",
       "4      tt10254986            7.0        15  tt10254986   \n",
       "...           ...            ...       ...         ...   \n",
       "55515   tt2344840            6.6        37   tt2344840   \n",
       "55516   tt2349630            3.7       165   tt2349630   \n",
       "55517   tt2365937            7.2        87   tt2365937   \n",
       "55518   tt2575400            7.1        15   tt2575400   \n",
       "55519   tt2612162            5.4        19   tt2612162   \n",
       "\n",
       "                                        primary_title  \\\n",
       "0                                    Laiye Je Yaarian   \n",
       "1                                          Borderless   \n",
       "2                                        Break Clause   \n",
       "3                                          Chopsticks   \n",
       "4                                              Q Ball   \n",
       "...                                               ...   \n",
       "55515                                          H2-Oh!   \n",
       "55516                              Whatever God Wants   \n",
       "55517                                    Re-encounter   \n",
       "55518  Cinémas d'Horreur - Apocalypse, Virus, Zombies   \n",
       "55519                                        Ranbhool   \n",
       "\n",
       "                                       original_title  start_year  \\\n",
       "0                                    Laiye Je Yaarian        2019   \n",
       "1                                          Borderless        2019   \n",
       "2                                        Break Clause        2019   \n",
       "3                                          Chopsticks        2019   \n",
       "4                                              Q Ball        2019   \n",
       "...                                               ...         ...   \n",
       "55515                       Narm Pee Nong Sayong Kwan        2010   \n",
       "55516                              Whatever God Wants        2010   \n",
       "55517                                   Hye-hwa, dong        2010   \n",
       "55518  Cinémas d'Horreur - Apocalypse, Virus, Zombies        2010   \n",
       "55519                                        Ranbhool        2010   \n",
       "\n",
       "       runtime_minutes          genres  \n",
       "0                117.0         Romance  \n",
       "1                 87.0     Documentary  \n",
       "2                  NaN  Drama,Thriller  \n",
       "3                100.0    Comedy,Drama  \n",
       "4                 96.0     Documentary  \n",
       "...                ...             ...  \n",
       "55515              NaN   Comedy,Horror  \n",
       "55516            100.0   Comedy,Family  \n",
       "55517            108.0           Drama  \n",
       "55518             55.0     Documentary  \n",
       "55519            110.0        Thriller  \n",
       "\n",
       "[55520 rows x 9 columns]"
      ]
     },
     "execution_count": 9,
     "metadata": {},
     "output_type": "execute_result"
    }
   ],
   "source": [
    "\"\"\" Creating the combined data set with the parameters set above \"\"\"\n",
    "cleaning_query = \"\"\"\n",
    "        SELECT *\n",
    "        FROM movie_ratings mr\n",
    "        JOIN movie_basics mb\n",
    "            ON mr.movie_id = mb.movie_id\n",
    "        WHERE mr.numvotes >=14 AND mb.genres is not null AND mr.averagerating is not null\n",
    "        ORDER BY mb.start_year DESC\"\"\"\n",
    "\n",
    "cleaned_sqldata = pd.read_sql(cleaning_query, conn)\n",
    "cleaned_sqldata"
   ]
  },
  {
   "cell_type": "markdown",
   "metadata": {},
   "source": [
    "### 2. Handling NaN values"
   ]
  },
  {
   "cell_type": "markdown",
   "metadata": {},
   "source": [
    "For null values, we need to decide what to do with them as they prevent further analysis. For variables containing null values, we need to decide if it is appropriate to drop the missing data, or fill with a relevant value such as the mean or median. For the SQL data, we saw that after filtering for more than 14 ratings, there was only ~600 (<2%) of empty values for the averagerating and genres features, therefore we decided to drop them since very little data are lost. For the other datasets, we looked at the proportion of nulls to the number of records in entire dataframe (for each variable)."
   ]
  },
  {
   "cell_type": "code",
   "execution_count": 10,
   "metadata": {},
   "outputs": [
    {
     "data": {
      "text/plain": [
       "id                   0.0\n",
       "release_date         0.0\n",
       "movie                0.0\n",
       "production_budget    0.0\n",
       "domestic_gross       0.0\n",
       "worldwide_gross      0.0\n",
       "dtype: float64"
      ]
     },
     "execution_count": 10,
     "metadata": {},
     "output_type": "execute_result"
    }
   ],
   "source": [
    "def proportion_na(df):\n",
    "    return df.isna().sum()/len(df) * 100\n",
    "\n",
    "# Check NA\n",
    "proportion_na(tn_df)"
   ]
  },
  {
   "cell_type": "code",
   "execution_count": 11,
   "metadata": {},
   "outputs": [
    {
     "data": {
      "text/plain": [
       "id               0.000000\n",
       "synopsis         3.974359\n",
       "rating           0.192308\n",
       "genre            0.512821\n",
       "director        12.756410\n",
       "writer          28.782051\n",
       "theater_date    23.012821\n",
       "dvd_date        23.012821\n",
       "currency        78.205128\n",
       "box_office      78.205128\n",
       "runtime          1.923077\n",
       "studio          68.333333\n",
       "dtype: float64"
      ]
     },
     "execution_count": 11,
     "metadata": {},
     "output_type": "execute_result"
    }
   ],
   "source": [
    "proportion_na(rt_info_df)"
   ]
  },
  {
   "cell_type": "markdown",
   "metadata": {},
   "source": [
    "The Movie DB and The Numbers dataset are entirely free of empty values, which makes it very convenient to work with. The Rotten Tomatoes datasets contain a lot of nulls, and since they only contain individual reviews, we decided to not filter them as they don't contain variables we're interested in. "
   ]
  },
  {
   "cell_type": "markdown",
   "metadata": {},
   "source": [
    "### 3. Handling duplicate rows"
   ]
  },
  {
   "cell_type": "markdown",
   "metadata": {},
   "source": [
    "Next, it is important to check for duplicate within the datasets, as they can distort the features and lead to inaccurate analysis. For Box Office Mojo, The Movie DB and The Numbers data, we do not have duplicate rows. The Movie DB has 1020 duplicate rows, and we looked into some of the duplicated records to see if we can drop them."
   ]
  },
  {
   "cell_type": "code",
   "execution_count": 12,
   "metadata": {},
   "outputs": [
    {
     "name": "stdout",
     "output_type": "stream",
     "text": [
      "0 0 0\n"
     ]
    }
   ],
   "source": [
    "print(len(bom_df[bom_df.duplicated()]), len(tn_df[tn_df.duplicated()]), len(cleaned_sqldata[cleaned_sqldata.duplicated()]))"
   ]
  },
  {
   "cell_type": "code",
   "execution_count": 13,
   "metadata": {},
   "outputs": [
    {
     "data": {
      "text/plain": [
       "1020"
      ]
     },
     "execution_count": 13,
     "metadata": {},
     "output_type": "execute_result"
    }
   ],
   "source": [
    "len(tmdb_df[tmdb_df.duplicated()])"
   ]
  },
  {
   "cell_type": "code",
   "execution_count": 14,
   "metadata": {},
   "outputs": [
    {
     "data": {
      "text/html": [
       "<div>\n",
       "<style scoped>\n",
       "    .dataframe tbody tr th:only-of-type {\n",
       "        vertical-align: middle;\n",
       "    }\n",
       "\n",
       "    .dataframe tbody tr th {\n",
       "        vertical-align: top;\n",
       "    }\n",
       "\n",
       "    .dataframe thead th {\n",
       "        text-align: right;\n",
       "    }\n",
       "</style>\n",
       "<table border=\"1\" class=\"dataframe\">\n",
       "  <thead>\n",
       "    <tr style=\"text-align: right;\">\n",
       "      <th></th>\n",
       "      <th>genre_ids</th>\n",
       "      <th>id</th>\n",
       "      <th>original_language</th>\n",
       "      <th>original_title</th>\n",
       "      <th>popularity</th>\n",
       "      <th>release_date</th>\n",
       "      <th>title</th>\n",
       "      <th>vote_average</th>\n",
       "      <th>vote_count</th>\n",
       "    </tr>\n",
       "  </thead>\n",
       "  <tbody>\n",
       "    <tr>\n",
       "      <th>3</th>\n",
       "      <td>[16, 35, 10751]</td>\n",
       "      <td>862</td>\n",
       "      <td>en</td>\n",
       "      <td>Toy Story</td>\n",
       "      <td>28.005</td>\n",
       "      <td>1995-11-22</td>\n",
       "      <td>Toy Story</td>\n",
       "      <td>7.9</td>\n",
       "      <td>10174</td>\n",
       "    </tr>\n",
       "    <tr>\n",
       "      <th>2473</th>\n",
       "      <td>[16, 35, 10751]</td>\n",
       "      <td>862</td>\n",
       "      <td>en</td>\n",
       "      <td>Toy Story</td>\n",
       "      <td>28.005</td>\n",
       "      <td>1995-11-22</td>\n",
       "      <td>Toy Story</td>\n",
       "      <td>7.9</td>\n",
       "      <td>10174</td>\n",
       "    </tr>\n",
       "  </tbody>\n",
       "</table>\n",
       "</div>"
      ],
      "text/plain": [
       "            genre_ids   id original_language original_title  popularity  \\\n",
       "3     [16, 35, 10751]  862                en      Toy Story      28.005   \n",
       "2473  [16, 35, 10751]  862                en      Toy Story      28.005   \n",
       "\n",
       "     release_date      title  vote_average  vote_count  \n",
       "3      1995-11-22  Toy Story           7.9       10174  \n",
       "2473   1995-11-22  Toy Story           7.9       10174  "
      ]
     },
     "execution_count": 14,
     "metadata": {},
     "output_type": "execute_result"
    }
   ],
   "source": [
    "# Look into movies with duplicate IDs\n",
    "\n",
    "tmdb_df[tmdb_df['id'] == 862]"
   ]
  },
  {
   "cell_type": "code",
   "execution_count": 15,
   "metadata": {},
   "outputs": [
    {
     "data": {
      "text/html": [
       "<div>\n",
       "<style scoped>\n",
       "    .dataframe tbody tr th:only-of-type {\n",
       "        vertical-align: middle;\n",
       "    }\n",
       "\n",
       "    .dataframe tbody tr th {\n",
       "        vertical-align: top;\n",
       "    }\n",
       "\n",
       "    .dataframe thead th {\n",
       "        text-align: right;\n",
       "    }\n",
       "</style>\n",
       "<table border=\"1\" class=\"dataframe\">\n",
       "  <thead>\n",
       "    <tr style=\"text-align: right;\">\n",
       "      <th></th>\n",
       "      <th>genre_ids</th>\n",
       "      <th>id</th>\n",
       "      <th>original_language</th>\n",
       "      <th>original_title</th>\n",
       "      <th>popularity</th>\n",
       "      <th>release_date</th>\n",
       "      <th>title</th>\n",
       "      <th>vote_average</th>\n",
       "      <th>vote_count</th>\n",
       "    </tr>\n",
       "  </thead>\n",
       "  <tbody>\n",
       "    <tr>\n",
       "      <th>5838</th>\n",
       "      <td>[18, 53]</td>\n",
       "      <td>292086</td>\n",
       "      <td>en</td>\n",
       "      <td>Come Morning</td>\n",
       "      <td>3.013</td>\n",
       "      <td>2012-10-21</td>\n",
       "      <td>Come Morning</td>\n",
       "      <td>6.3</td>\n",
       "      <td>5</td>\n",
       "    </tr>\n",
       "    <tr>\n",
       "      <th>11836</th>\n",
       "      <td>[18, 53]</td>\n",
       "      <td>292086</td>\n",
       "      <td>en</td>\n",
       "      <td>Come Morning</td>\n",
       "      <td>3.013</td>\n",
       "      <td>2012-10-21</td>\n",
       "      <td>Come Morning</td>\n",
       "      <td>6.3</td>\n",
       "      <td>5</td>\n",
       "    </tr>\n",
       "    <tr>\n",
       "      <th>21565</th>\n",
       "      <td>[18, 53]</td>\n",
       "      <td>292086</td>\n",
       "      <td>en</td>\n",
       "      <td>Come Morning</td>\n",
       "      <td>3.013</td>\n",
       "      <td>2012-10-21</td>\n",
       "      <td>Come Morning</td>\n",
       "      <td>6.3</td>\n",
       "      <td>5</td>\n",
       "    </tr>\n",
       "  </tbody>\n",
       "</table>\n",
       "</div>"
      ],
      "text/plain": [
       "      genre_ids      id original_language original_title  popularity  \\\n",
       "5838   [18, 53]  292086                en   Come Morning       3.013   \n",
       "11836  [18, 53]  292086                en   Come Morning       3.013   \n",
       "21565  [18, 53]  292086                en   Come Morning       3.013   \n",
       "\n",
       "      release_date         title  vote_average  vote_count  \n",
       "5838    2012-10-21  Come Morning           6.3           5  \n",
       "11836   2012-10-21  Come Morning           6.3           5  \n",
       "21565   2012-10-21  Come Morning           6.3           5  "
      ]
     },
     "execution_count": 15,
     "metadata": {},
     "output_type": "execute_result"
    }
   ],
   "source": [
    "tmdb_df[tmdb_df['id'] == 292086]"
   ]
  },
  {
   "cell_type": "code",
   "execution_count": 16,
   "metadata": {},
   "outputs": [],
   "source": [
    "tmdb_df.drop_duplicates(subset = 'id', inplace = True)"
   ]
  },
  {
   "cell_type": "markdown",
   "metadata": {},
   "source": [
    "It appears that they are the same movies, with the exact same values for all features. Therefore we decided that it is safe to drop these duplicates."
   ]
  },
  {
   "cell_type": "markdown",
   "metadata": {},
   "source": [
    "### 4. Transforming specific columns"
   ]
  },
  {
   "cell_type": "markdown",
   "metadata": {},
   "source": [
    "Currently the genre column for IMDB invovles multiple genres for each movie. Therefore we want to seperate these genres to view them indvidually. This will help us to look at genres on their own and be able to recommend the movie genres Computer Vision should focus on. \n",
    "\n",
    "We also need to reformat and clean the production_budget, domestic gross and worldwide_gross columns for The Numbers dataset, as they contain special characters such as $ and commas. \n",
    "\n",
    "Additionally, we would like to analyze if there are certain months of the year that will be best for releasing new movies. Thus, we trasformed the release dates to DateTime objects and extracted the months. Here we saw four movies that have a release date before year 2000; we filtered those out to focus on the records after 2000."
   ]
  },
  {
   "cell_type": "code",
   "execution_count": 17,
   "metadata": {},
   "outputs": [
    {
     "data": {
      "text/html": [
       "<div>\n",
       "<style scoped>\n",
       "    .dataframe tbody tr th:only-of-type {\n",
       "        vertical-align: middle;\n",
       "    }\n",
       "\n",
       "    .dataframe tbody tr th {\n",
       "        vertical-align: top;\n",
       "    }\n",
       "\n",
       "    .dataframe thead th {\n",
       "        text-align: right;\n",
       "    }\n",
       "</style>\n",
       "<table border=\"1\" class=\"dataframe\">\n",
       "  <thead>\n",
       "    <tr style=\"text-align: right;\">\n",
       "      <th></th>\n",
       "      <th>movie_id</th>\n",
       "      <th>averagerating</th>\n",
       "      <th>numvotes</th>\n",
       "      <th>movie_id</th>\n",
       "      <th>primary_title</th>\n",
       "      <th>original_title</th>\n",
       "      <th>start_year</th>\n",
       "      <th>runtime_minutes</th>\n",
       "      <th>genres</th>\n",
       "    </tr>\n",
       "  </thead>\n",
       "  <tbody>\n",
       "    <tr>\n",
       "      <th>0</th>\n",
       "      <td>tt10356526</td>\n",
       "      <td>8.3</td>\n",
       "      <td>31</td>\n",
       "      <td>tt10356526</td>\n",
       "      <td>Laiye Je Yaarian</td>\n",
       "      <td>Laiye Je Yaarian</td>\n",
       "      <td>2019</td>\n",
       "      <td>117.0</td>\n",
       "      <td>Romance</td>\n",
       "    </tr>\n",
       "    <tr>\n",
       "      <th>1</th>\n",
       "      <td>tt10384606</td>\n",
       "      <td>8.9</td>\n",
       "      <td>559</td>\n",
       "      <td>tt10384606</td>\n",
       "      <td>Borderless</td>\n",
       "      <td>Borderless</td>\n",
       "      <td>2019</td>\n",
       "      <td>87.0</td>\n",
       "      <td>Documentary</td>\n",
       "    </tr>\n",
       "    <tr>\n",
       "      <th>2</th>\n",
       "      <td>tt1673732</td>\n",
       "      <td>8.0</td>\n",
       "      <td>20</td>\n",
       "      <td>tt1673732</td>\n",
       "      <td>Break Clause</td>\n",
       "      <td>Break Clause</td>\n",
       "      <td>2019</td>\n",
       "      <td>NaN</td>\n",
       "      <td>Drama</td>\n",
       "    </tr>\n",
       "    <tr>\n",
       "      <th>2</th>\n",
       "      <td>tt1673732</td>\n",
       "      <td>8.0</td>\n",
       "      <td>20</td>\n",
       "      <td>tt1673732</td>\n",
       "      <td>Break Clause</td>\n",
       "      <td>Break Clause</td>\n",
       "      <td>2019</td>\n",
       "      <td>NaN</td>\n",
       "      <td>Thriller</td>\n",
       "    </tr>\n",
       "    <tr>\n",
       "      <th>3</th>\n",
       "      <td>tt10243678</td>\n",
       "      <td>6.5</td>\n",
       "      <td>1394</td>\n",
       "      <td>tt10243678</td>\n",
       "      <td>Chopsticks</td>\n",
       "      <td>Chopsticks</td>\n",
       "      <td>2019</td>\n",
       "      <td>100.0</td>\n",
       "      <td>Comedy</td>\n",
       "    </tr>\n",
       "  </tbody>\n",
       "</table>\n",
       "</div>"
      ],
      "text/plain": [
       "     movie_id  averagerating  numvotes    movie_id     primary_title  \\\n",
       "0  tt10356526            8.3        31  tt10356526  Laiye Je Yaarian   \n",
       "1  tt10384606            8.9       559  tt10384606        Borderless   \n",
       "2   tt1673732            8.0        20   tt1673732      Break Clause   \n",
       "2   tt1673732            8.0        20   tt1673732      Break Clause   \n",
       "3  tt10243678            6.5      1394  tt10243678        Chopsticks   \n",
       "\n",
       "     original_title  start_year  runtime_minutes       genres  \n",
       "0  Laiye Je Yaarian        2019            117.0      Romance  \n",
       "1        Borderless        2019             87.0  Documentary  \n",
       "2      Break Clause        2019              NaN        Drama  \n",
       "2      Break Clause        2019              NaN     Thriller  \n",
       "3        Chopsticks        2019            100.0       Comedy  "
      ]
     },
     "execution_count": 17,
     "metadata": {},
     "output_type": "execute_result"
    }
   ],
   "source": [
    "\"\"\" Splitting the rows into individual genres with all the data \"\"\"\n",
    "\n",
    "# Making the genres into strings so it can be split\n",
    "\n",
    "cleaned_sqldata['genres'] = cleaned_sqldata['genres'].astype(str)\n",
    "\n",
    "# Splitting the genres \n",
    "cleaned_sqldata[\"genres\"] = cleaned_sqldata[\"genres\"].str.split(\",\")\n",
    "cleaned_sqldata = cleaned_sqldata.apply(pd.Series.explode)\n",
    "cleaned_sqldata.head(5)"
   ]
  },
  {
   "cell_type": "code",
   "execution_count": 18,
   "metadata": {},
   "outputs": [],
   "source": [
    "\"\"\" Clean the production budget, domestic gross and worldwide gross columns \"\"\"\n",
    "\n",
    "# Remove $ and ,\n",
    "\n",
    "tn_df['production_budget'] = tn_df['production_budget'].map(lambda x: int(x.strip('$').replace(',', '')))\n",
    "tn_df['domestic_gross'] = tn_df['domestic_gross'].map(lambda x: int(x.strip('$').replace(',', '')))\n",
    "tn_df['worldwide_gross'] = tn_df['worldwide_gross'].map(lambda x: int(x.strip('$').replace(',', '')))"
   ]
  },
  {
   "cell_type": "code",
   "execution_count": 19,
   "metadata": {},
   "outputs": [],
   "source": [
    "\"\"\" Use DateTime to extract months \"\"\"\n",
    "\n",
    "tn_df['release_date'] = pd.to_datetime(tn_df['release_date'])\n",
    "tn_df['year'] = tn_df['release_date'].dt.year\n",
    "tn_df = tn_df[tn_df['year'] > 2000]\n",
    "\n",
    "tn_df['month'] = tn_df['release_date'].dt.month"
   ]
  },
  {
   "cell_type": "markdown",
   "metadata": {},
   "source": [
    "### 5. Feature Engineering"
   ]
  },
  {
   "cell_type": "markdown",
   "metadata": {},
   "source": [
    "We created a variable named profitability to capture the profit generated for movies as a multiplier of production budget. We will use the feature engineered column to measure profitability across the months.\n",
    "\n",
    "$$ \\textrm{Profitability} =\\frac{\\textrm{Worldwide Gross}}{\\textrm{Production Budget}}$$ "
   ]
  },
  {
   "cell_type": "code",
   "execution_count": 20,
   "metadata": {},
   "outputs": [
    {
     "data": {
      "text/html": [
       "<div>\n",
       "<style scoped>\n",
       "    .dataframe tbody tr th:only-of-type {\n",
       "        vertical-align: middle;\n",
       "    }\n",
       "\n",
       "    .dataframe tbody tr th {\n",
       "        vertical-align: top;\n",
       "    }\n",
       "\n",
       "    .dataframe thead th {\n",
       "        text-align: right;\n",
       "    }\n",
       "</style>\n",
       "<table border=\"1\" class=\"dataframe\">\n",
       "  <thead>\n",
       "    <tr style=\"text-align: right;\">\n",
       "      <th></th>\n",
       "      <th>id</th>\n",
       "      <th>release_date</th>\n",
       "      <th>movie</th>\n",
       "      <th>production_budget</th>\n",
       "      <th>domestic_gross</th>\n",
       "      <th>worldwide_gross</th>\n",
       "      <th>year</th>\n",
       "      <th>month</th>\n",
       "      <th>profitability</th>\n",
       "    </tr>\n",
       "  </thead>\n",
       "  <tbody>\n",
       "    <tr>\n",
       "      <th>5492</th>\n",
       "      <td>93</td>\n",
       "      <td>2009-09-25</td>\n",
       "      <td>Paranormal Activity</td>\n",
       "      <td>450000</td>\n",
       "      <td>107918810</td>\n",
       "      <td>194183034</td>\n",
       "      <td>2009</td>\n",
       "      <td>9</td>\n",
       "      <td>431.517853</td>\n",
       "    </tr>\n",
       "    <tr>\n",
       "      <th>5679</th>\n",
       "      <td>80</td>\n",
       "      <td>2015-07-10</td>\n",
       "      <td>The Gallows</td>\n",
       "      <td>100000</td>\n",
       "      <td>22764410</td>\n",
       "      <td>41656474</td>\n",
       "      <td>2015</td>\n",
       "      <td>7</td>\n",
       "      <td>416.564740</td>\n",
       "    </tr>\n",
       "    <tr>\n",
       "      <th>5709</th>\n",
       "      <td>10</td>\n",
       "      <td>2004-05-07</td>\n",
       "      <td>Super Size Me</td>\n",
       "      <td>65000</td>\n",
       "      <td>11529368</td>\n",
       "      <td>22233808</td>\n",
       "      <td>2004</td>\n",
       "      <td>5</td>\n",
       "      <td>342.058585</td>\n",
       "    </tr>\n",
       "  </tbody>\n",
       "</table>\n",
       "</div>"
      ],
      "text/plain": [
       "      id release_date                movie  production_budget  domestic_gross  \\\n",
       "5492  93   2009-09-25  Paranormal Activity             450000       107918810   \n",
       "5679  80   2015-07-10          The Gallows             100000        22764410   \n",
       "5709  10   2004-05-07        Super Size Me              65000        11529368   \n",
       "\n",
       "      worldwide_gross  year  month  profitability  \n",
       "5492        194183034  2009      9     431.517853  \n",
       "5679         41656474  2015      7     416.564740  \n",
       "5709         22233808  2004      5     342.058585  "
      ]
     },
     "execution_count": 20,
     "metadata": {},
     "output_type": "execute_result"
    }
   ],
   "source": [
    "# Profitability Multiplier\n",
    "\n",
    "tn_df['profitability'] = tn_df['worldwide_gross']/tn_df['production_budget']\n",
    "tn_df.sort_values(by = 'profitability', ascending = False)[:3]"
   ]
  },
  {
   "cell_type": "markdown",
   "metadata": {},
   "source": [
    "### 6. Merging DataFrames"
   ]
  },
  {
   "cell_type": "markdown",
   "metadata": {},
   "source": [
    "Lastly, we want to combine the IMDB data which contains the genres of movies with The Numbers data, which contains the production budget and gross variables. We merge these to create a common DataFrame in order to analyze the effect of genres on profit (profitability). Again, we expand those movies with multiple genres on a single row."
   ]
  },
  {
   "cell_type": "code",
   "execution_count": 21,
   "metadata": {},
   "outputs": [
    {
     "data": {
      "text/html": [
       "<div>\n",
       "<style scoped>\n",
       "    .dataframe tbody tr th:only-of-type {\n",
       "        vertical-align: middle;\n",
       "    }\n",
       "\n",
       "    .dataframe tbody tr th {\n",
       "        vertical-align: top;\n",
       "    }\n",
       "\n",
       "    .dataframe thead th {\n",
       "        text-align: right;\n",
       "    }\n",
       "</style>\n",
       "<table border=\"1\" class=\"dataframe\">\n",
       "  <thead>\n",
       "    <tr style=\"text-align: right;\">\n",
       "      <th></th>\n",
       "      <th>movie_id</th>\n",
       "      <th>primary_title</th>\n",
       "      <th>original_title</th>\n",
       "      <th>start_year</th>\n",
       "      <th>runtime_minutes</th>\n",
       "      <th>genres</th>\n",
       "      <th>movie_id</th>\n",
       "      <th>averagerating</th>\n",
       "      <th>numvotes</th>\n",
       "      <th>id</th>\n",
       "      <th>release_date</th>\n",
       "      <th>movie</th>\n",
       "      <th>production_budget</th>\n",
       "      <th>domestic_gross</th>\n",
       "      <th>worldwide_gross</th>\n",
       "      <th>year</th>\n",
       "      <th>month</th>\n",
       "      <th>profitability</th>\n",
       "    </tr>\n",
       "  </thead>\n",
       "  <tbody>\n",
       "    <tr>\n",
       "      <th>0</th>\n",
       "      <td>tt0437086</td>\n",
       "      <td>Alita: Battle Angel</td>\n",
       "      <td>Alita: Battle Angel</td>\n",
       "      <td>2019</td>\n",
       "      <td>122.0</td>\n",
       "      <td>[Action, Adventure, Sci-Fi]</td>\n",
       "      <td>tt0437086</td>\n",
       "      <td>7.5</td>\n",
       "      <td>88207</td>\n",
       "      <td>24</td>\n",
       "      <td>2019-02-14</td>\n",
       "      <td>Alita: Battle Angel</td>\n",
       "      <td>170000000</td>\n",
       "      <td>85710210</td>\n",
       "      <td>402976036</td>\n",
       "      <td>2019</td>\n",
       "      <td>2</td>\n",
       "      <td>2.370447</td>\n",
       "    </tr>\n",
       "    <tr>\n",
       "      <th>1</th>\n",
       "      <td>tt0448115</td>\n",
       "      <td>Shazam!</td>\n",
       "      <td>Shazam!</td>\n",
       "      <td>2019</td>\n",
       "      <td>132.0</td>\n",
       "      <td>[Action, Adventure, Comedy]</td>\n",
       "      <td>tt0448115</td>\n",
       "      <td>7.4</td>\n",
       "      <td>109051</td>\n",
       "      <td>97</td>\n",
       "      <td>2019-04-05</td>\n",
       "      <td>Shazam!</td>\n",
       "      <td>85000000</td>\n",
       "      <td>139606856</td>\n",
       "      <td>362899733</td>\n",
       "      <td>2019</td>\n",
       "      <td>4</td>\n",
       "      <td>4.269409</td>\n",
       "    </tr>\n",
       "    <tr>\n",
       "      <th>2</th>\n",
       "      <td>tt0837563</td>\n",
       "      <td>Pet Sematary</td>\n",
       "      <td>Pet Sematary</td>\n",
       "      <td>2019</td>\n",
       "      <td>101.0</td>\n",
       "      <td>[Horror, Mystery, Thriller]</td>\n",
       "      <td>tt0837563</td>\n",
       "      <td>6.0</td>\n",
       "      <td>34472</td>\n",
       "      <td>61</td>\n",
       "      <td>2019-04-05</td>\n",
       "      <td>Pet Sematary</td>\n",
       "      <td>21000000</td>\n",
       "      <td>54724696</td>\n",
       "      <td>109501146</td>\n",
       "      <td>2019</td>\n",
       "      <td>4</td>\n",
       "      <td>5.214340</td>\n",
       "    </tr>\n",
       "  </tbody>\n",
       "</table>\n",
       "</div>"
      ],
      "text/plain": [
       "    movie_id        primary_title       original_title  start_year  \\\n",
       "0  tt0437086  Alita: Battle Angel  Alita: Battle Angel        2019   \n",
       "1  tt0448115              Shazam!              Shazam!        2019   \n",
       "2  tt0837563         Pet Sematary         Pet Sematary        2019   \n",
       "\n",
       "   runtime_minutes                       genres   movie_id  averagerating  \\\n",
       "0            122.0  [Action, Adventure, Sci-Fi]  tt0437086            7.5   \n",
       "1            132.0  [Action, Adventure, Comedy]  tt0448115            7.4   \n",
       "2            101.0  [Horror, Mystery, Thriller]  tt0837563            6.0   \n",
       "\n",
       "   numvotes  id release_date                movie  production_budget  \\\n",
       "0     88207  24   2019-02-14  Alita: Battle Angel          170000000   \n",
       "1    109051  97   2019-04-05              Shazam!           85000000   \n",
       "2     34472  61   2019-04-05         Pet Sematary           21000000   \n",
       "\n",
       "   domestic_gross  worldwide_gross  year  month  profitability  \n",
       "0        85710210        402976036  2019      2       2.370447  \n",
       "1       139606856        362899733  2019      4       4.269409  \n",
       "2        54724696        109501146  2019      4       5.214340  "
      ]
     },
     "execution_count": 21,
     "metadata": {},
     "output_type": "execute_result"
    }
   ],
   "source": [
    "# Merge IMDB and The Numbers based on common movies\n",
    "\n",
    "merge_df = pd.merge(imdb_df, tn_df, how = 'inner', left_on = 'primary_title', right_on = 'movie')\n",
    "merged_df = merge_df[merge_df['worldwide_gross'] != 0]\n",
    "merged_df['genres'] = merged_df['genres'].str.split(',')\n",
    "merged_df.head(3)"
   ]
  },
  {
   "cell_type": "markdown",
   "metadata": {},
   "source": [
    "## Univariate Analysis"
   ]
  },
  {
   "cell_type": "markdown",
   "metadata": {},
   "source": [
    "Now that the data has been preprocessed, we are ready for the next stage of our EDA. We conducted univariate analysis on the individual features we're interested in, such as budget and gross. We seek to understand the distribution of these variables and identify any noticeble patterns. "
   ]
  },
  {
   "cell_type": "code",
   "execution_count": 22,
   "metadata": {},
   "outputs": [
    {
     "data": {
      "text/plain": [
       "Text(0, 0.5, 'Number of Movies')"
      ]
     },
     "execution_count": 22,
     "metadata": {},
     "output_type": "execute_result"
    },
    {
     "data": {
      "image/png": "[encoded data removed]",
      "text/plain": [
       "<Figure size 1800x900 with 1 Axes>"
      ]
     },
     "metadata": {
      "needs_background": "light"
     },
     "output_type": "display_data"
    }
   ],
   "source": [
    "#Visualizing Production Budget using Histogram\n",
    "\n",
    "fig, ax = plt.subplots(figsize = (12, 6), dpi = 150)\n",
    "\n",
    "sns.histplot(merged_df['production_budget']/1000000, bins = 20, kde = True, ax = ax)\n",
    "ax.set_title('Distribution for Production Budget', title_font)\n",
    "ax.set_xlabel('Production Budget ($ Millions)', label_font)\n",
    "ax.set_ylabel('Number of Movies', label_font)"
   ]
  },
  {
   "cell_type": "code",
   "execution_count": 23,
   "metadata": {},
   "outputs": [
    {
     "data": {
      "text/plain": [
       "Text(0, 0.5, 'Number of Movies')"
      ]
     },
     "execution_count": 23,
     "metadata": {},
     "output_type": "execute_result"
    },
    {
     "data": {
      "image/png": "[encoded data removed]",
      "text/plain": [
       "<Figure size 1800x900 with 1 Axes>"
      ]
     },
     "metadata": {
      "needs_background": "light"
     },
     "output_type": "display_data"
    }
   ],
   "source": [
    "#Visualizing Worldwide Gross using Histogram\n",
    "\n",
    "fig, ax = plt.subplots(figsize = (12, 6), dpi = 150)\n",
    "\n",
    "sns.histplot(merged_df['worldwide_gross']/1000000, bins = 20, kde = True, ax = ax)\n",
    "ax.set_title('Distribution for Worldwide Gross', title_font)\n",
    "ax.set_xlabel('Worldwide Gross ($ Millions)', label_font)\n",
    "ax.set_ylabel('Number of Movies', label_font)"
   ]
  },
  {
   "cell_type": "markdown",
   "metadata": {},
   "source": [
    "The distribution of these two variables are both skewed to the right with extremely long tails; this tells us that while the majority of the movies have low budgets (under 50 Million) and low gross (under 100 million), there are some movies with extremely high budget and gross. These could be blockbuster hits, highly anticipated movies or movies from a major production company. Although these \"outliers\" have a large impact on the data, we decided to keep them in order to capture the effect of these high-budget, high-gross movies in our analysis."
   ]
  },
  {
   "cell_type": "markdown",
   "metadata": {},
   "source": [
    "## Actionable Recommendations"
   ]
  },
  {
   "cell_type": "markdown",
   "metadata": {},
   "source": [
    "#### Highest Rated Movie Genres "
   ]
  },
  {
   "cell_type": "code",
   "execution_count": 17,
   "metadata": {},
   "outputs": [
    {
     "data": {
      "image/png": "[encoded data removed]",
      "text/plain": [
       "<Figure size 1800x1200 with 1 Axes>"
      ]
     },
     "metadata": {
      "needs_background": "light"
     },
     "output_type": "display_data"
    }
   ],
   "source": [
    "\"\"\" Visualizing the top 5 genres compared to all other genres \"\"\"\n",
    "\n",
    "title_font = {'fontname':'Calibri', 'size':'18', 'color':'black', 'weight':'normal',\n",
    "              'verticalalignment':'bottom'} \n",
    "label_font = {'fontname':'Calibri', 'size':'16', 'weight':'normal'}\n",
    "\n",
    "lowest_top_5_rating = grouped_genre_ratings['averagerating'][4]\n",
    "\n",
    "average_rating = grouped_genre_ratings['averagerating'].mean()\n",
    "\n",
    "median_rating = grouped_genre_ratings['averagerating'].median()\n",
    "\n",
    "\n",
    "fig, ax = plt.subplots(figsize = (12, 8), dpi = 150)\n",
    "cols = ['lightsteelblue' if x < lowest_top_5_rating else 'orangered' for x in grouped_genre_ratings['averagerating']]\n",
    "sns.barplot(x = grouped_genre_ratings['averagerating'], y = grouped_genre_ratings['genres'], palette = cols, alpha = 0.85, ax = ax, orient ='h')\n",
    "ax.set_title('Average Ratings by Genre', title_font)\n",
    "ax.set_xlabel('Genre', label_font, labelpad = 10)\n",
    "ax.set_ylabel('Average Rating', label_font, labelpad = 20)\n",
    "ax.axvline(average_rating, c='k', ls='-', lw=2.5)\n",
    "#ax.axvline(median_rating, c='orange', ls='--', lw=2.5)\n",
    "plt.tight_layout()"
   ]
  },
  {
   "cell_type": "code",
   "execution_count": 18,
   "metadata": {},
   "outputs": [
    {
     "data": {
      "image/png": "[encoded data removed]",
      "text/plain": [
       "<Figure size 1800x1200 with 1 Axes>"
      ]
     },
     "metadata": {
      "needs_background": "light"
     },
     "output_type": "display_data"
    }
   ],
   "source": [
    "\"\"\" Visualizing top 5 genres against themselves \"\"\"\n",
    "\n",
    "top_5_genres = grouped_genre_ratings[0:6]\n",
    "\n",
    "fig, ax = plt.subplots(figsize = (12, 8), dpi = 150)\n",
    "cols = ['lightsteelblue']\n",
    "sns.barplot(x = top_5_genres['averagerating'], y = top_5_genres['genres'], palette = cols, alpha = 0.85, ax = ax, orient ='h')\n",
    "ax.set_title('Average Ratings for Top Five Genres', title_font)\n",
    "ax.set_xlabel('Genre', label_font, labelpad = 10)\n",
    "ax.set_ylabel('Average Rating', label_font, labelpad = 20)\n",
    "ax.axvline(average_rating, c='k', ls='-', lw=2.5)\n",
    "#ax.axvline(median_rating, c='orange', ls='--', lw=2.5)\n",
    "plt.tight_layout()"
   ]
  },
  {
   "cell_type": "markdown",
   "metadata": {},
   "source": [
    "#### Most Profitable Release Month "
   ]
  },
  {
   "cell_type": "code",
   "execution_count": 25,
   "metadata": {},
   "outputs": [
    {
     "data": {
      "image/png": "[encoded data removed]",
      "text/plain": [
       "<Figure size 1800x1200 with 1 Axes>"
      ]
     },
     "metadata": {
      "needs_background": "light"
     },
     "output_type": "display_data"
    }
   ],
   "source": [
    "wg_month = (tn_df.groupby(['month'])['worldwide_gross'].mean()/1000000).reset_index()\n",
    "\n",
    "fig, ax = plt.subplots(figsize = (12, 8), dpi = 150)\n",
    "\n",
    "cols = ['lightsteelblue' if x < wg_month['worldwide_gross'].max() else 'orangered' for x in wg_month['worldwide_gross']]\n",
    "sns.barplot(x = wg_month['month'], y = wg_month['worldwide_gross'], palette = cols, alpha = 0.85, ax = ax)\n",
    "ax.set_title('Worldwide Gross Across the Months', title_font)\n",
    "ax.set_xlabel('Month', label_font, labelpad = 10)\n",
    "ax.set_ylabel('Avg Worldwide Gross (Millions $)', label_font, labelpad = 20)\n",
    "plt.tight_layout()"
   ]
  },
  {
   "cell_type": "code",
   "execution_count": 26,
   "metadata": {},
   "outputs": [
    {
     "data": {
      "image/png": "[encoded data removed]",
      "text/plain": [
       "<Figure size 1800x1200 with 1 Axes>"
      ]
     },
     "metadata": {
      "needs_background": "light"
     },
     "output_type": "display_data"
    }
   ],
   "source": [
    "profit_month = (tn_df.groupby(['month'])[['profitability']].mean()).reset_index()\n",
    "\n",
    "fig, ax = plt.subplots(figsize = (12, 8), dpi = 150)\n",
    "\n",
    "cols = ['lightsteelblue' if x < profit_month['profitability'].max() else 'orangered' for x in profit_month['profitability']]\n",
    "sns.barplot(x = profit_month['month'], y = profit_month['profitability'], palette = cols, alpha = 0.85, ax = ax)\n",
    "ax.set_title('Profitability Across the Months', title_font)\n",
    "ax.set_xlabel('Month', label_font, labelpad = 10)\n",
    "ax.set_ylabel('Avg Profitability Multiplier', label_font, labelpad = 20)\n",
    "plt.tight_layout()"
   ]
  },
  {
   "cell_type": "markdown",
   "metadata": {},
   "source": [
    "#### Budget Interval Per Top 5 Genres"
   ]
  },
  {
   "cell_type": "code",
   "execution_count": 27,
   "metadata": {},
   "outputs": [],
   "source": [
    "#code cell to show work and visualizations"
   ]
  },
  {
   "cell_type": "markdown",
   "metadata": {},
   "source": [
    "### Statistical Communication "
   ]
  },
  {
   "cell_type": "markdown",
   "metadata": {},
   "source": [
    "TEXT HERE: Results of Statistical inference \n",
    "Interpreation of these results in the context of the problem \n",
    "\n",
    "-discussion of confidence interval/results"
   ]
  },
  {
   "cell_type": "markdown",
   "metadata": {},
   "source": [
    "### Conclusion"
   ]
  },
  {
   "cell_type": "markdown",
   "metadata": {},
   "source": [
    "TEXT HERE: Summary of conclusions including three relevant findings "
   ]
  }
 ],
 "metadata": {
  "kernelspec": {
   "display_name": "Python (learn-env)",
   "language": "python",
   "name": "learn-env"
  },
  "language_info": {
   "codemirror_mode": {
    "name": "ipython",
    "version": 3
   },
   "file_extension": ".py",
   "mimetype": "text/x-python",
   "name": "python",
   "nbconvert_exporter": "python",
   "pygments_lexer": "ipython3",
   "version": "3.8.5"
  }
 },
 "nbformat": 4,
 "nbformat_minor": 5
}
