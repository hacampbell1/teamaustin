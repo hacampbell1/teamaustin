{
 "cells": [
  {
   "cell_type": "markdown",
   "metadata": {},
   "source": [
    "# Computer Vision Industry Recommendation "
   ]
  },
  {
   "cell_type": "markdown",
   "metadata": {},
   "source": [
    "### Overview"
   ]
  },
  {
   "cell_type": "markdown",
   "metadata": {},
   "source": [
    "Computer Vision is attempting to enter the film industry. Movie data was analyzed from multiple databases in order to understand the most profitable and successful movies. This data was analyzed utilizing various statistical methods and data manipulation."
   ]
  },
  {
   "cell_type": "markdown",
   "metadata": {},
   "source": [
    "### Business Understanding"
   ]
  },
  {
   "cell_type": "markdown",
   "metadata": {},
   "source": [
    "Computer Vision is looking to produce original video content with the creation of a new movie studio. Their goal is to strategically release top-rated, and high grossing films, but lack of industry specific knowledge and experience is delaying this expansion. An uncalculated debut into the film industry may lead to poor brand recognition or unnecessary financial loss.\n",
    "\n",
    "By leveraging box office data sources to draw conclusions on variables like release month, genre, audience ratings, and profits our team seeks to answer the how, what, and when so Computer Vision can successfully begin creating films tailored to surpass their goals "
   ]
  },
  {
   "cell_type": "markdown",
   "metadata": {},
   "source": [
    "### Data Understanding and Analysis"
   ]
  },
  {
   "cell_type": "markdown",
   "metadata": {},
   "source": [
    "Source of data\n",
    "The data used in analysis included the following. \n",
    "- Box Office Mojo\n",
    "- IMDB\n",
    "- Rotten Tomatoes\n",
    "- TheMovieDB\n",
    "- The Numbers"
   ]
  },
  {
   "cell_type": "markdown",
   "metadata": {},
   "source": [
    "#### Box Office Mojo "
   ]
  },
  {
   "cell_type": "markdown",
   "metadata": {},
   "source": [
    "From Box Office Mojo, 3387 records of films during the years 2010-2018, studio name, and their corresponding domestic and foreign gross box-office revenue are given.The Box Office Mojo data type accuratley described the string data as object. However, foreign gross total was listed as \"object\" and domestic gross was listed as a float even though no decimal value was indicated. Cleaning the dataset included changing the data type of foreign and domestic gross to integer. There were less than 40 NaNs between the studio, and domestic gross columns so dropping these rows was applicable. Alternatively, with over 1,300 NaN values under foreign gross column, the missing data was too significant to draw conclusions and limited analysis. The team concurred that replacing such NaNs with the related mean or another significant value would disproportionaly skew the data. As a result, the team utilized the .describe and .info methods to return the following descriptive statistics for only domestic gross:"
   ]
  },
  {
   "cell_type": "markdown",
   "metadata": {},
   "source": [
    "**Domestic Gross:**\n",
    "\n",
    "&nbsp;&nbsp;&nbsp;&nbsp;&nbsp;&nbsp; **Mean:** $28,745,845.07\n",
    "\n",
    "&nbsp;&nbsp;&nbsp;&nbsp;&nbsp;&nbsp; **Q1:**   $120,000.00\n",
    "\n",
    "&nbsp;&nbsp;&nbsp;&nbsp;&nbsp;&nbsp; **Q3:**   $27,900,000.00\n",
    "\n",
    "&nbsp;&nbsp;&nbsp;&nbsp;&nbsp;&nbsp; **Standard Deviation:**   $66,982,498.24\n"
   ]
  },
  {
   "cell_type": "markdown",
   "metadata": {},
   "source": [
    "Without knowing expenses incurred during production, both domestic and foreign gross revenues cannot be interpreted to the necessary extent. Although, neither release year nor movie title were relevant, an option to compare title to foreign or domestic gross could provide slight insight into title success.\n",
    "\n",
    "Although the Box Office Mojo provides intriguing data, analyzing the irrelevant and missing data values limits its ability to provide actionable next steps for Computer Vision. Therefore, the team did not use the Box Office Mojo dataset for analyses."
   ]
  },
  {
   "cell_type": "markdown",
   "metadata": {},
   "source": [
    "#### IMDB"
   ]
  },
  {
   "cell_type": "markdown",
   "metadata": {},
   "source": [
    "Provides in depth information on various movies from the year 2010 to 2019. The most relevant of the information provided includes movie ratings, number of ratings for a given movie, genre, and year published\n"
   ]
  },
  {
   "cell_type": "markdown",
   "metadata": {},
   "source": [
    "#### Rotten Tomatoes"
   ]
  },
  {
   "attachments": {},
   "cell_type": "markdown",
   "metadata": {},
   "source": [
    "Rotten Tomatoes was the source for both the movie_info and reviews dataset.\n",
    "\n",
    "**Rotten Tomatoes' movie information** dataset contained a total of 1,560 entries. The 12 column headers provided data for each films': synopsis, rating, genre, director, writer, release date, dvd date, box office revenue, run time, and studio. Every column had NaN values, excluding id. The most significant NaN columns were currency, box office, and studio, each with less than 350 records. This means 78% of the data for each of these columns is missing. The currency value was either USD ($) or NaN. Without data on the release location of each film, the team was unable to substitute the missing currencies. Similarly, with such a deficit of data points for box office revenue amounts, filling in mean or similar profit values would disrupt the accuracy of the dataset significantly. Genre was analyzed within a separate dataset, and therefore remained untouched. Theater date and dvd date were converted using Python's datetime module. "
   ]
  },
  {
   "cell_type": "markdown",
   "id": "19713718",
   "metadata": {},
   "source": [
    "**Run Time:**\n",
    "\n",
    "&nbsp;&nbsp;&nbsp;&nbsp;&nbsp;&nbsp; **Mean:** \n",
    "\n",
    "&nbsp;&nbsp;&nbsp;&nbsp;&nbsp;&nbsp; **Q1:**\n",
    "\n",
    "&nbsp;&nbsp;&nbsp;&nbsp;&nbsp;&nbsp; **Q3:** \n",
    "\n",
    "&nbsp;&nbsp;&nbsp;&nbsp;&nbsp;&nbsp; **Standard Deviation:** "
   ]
  },
  {
   "cell_type": "markdown",
   "id": "c830de9e",
   "metadata": {},
   "source": [
    "Given the large number of limitations of the dataset, the team did not analyze this data to provide recommendations. Although with further comparison of other tables, examining genre, synopsis, and revenue could provide Computer Vision with data on successful storylines, and characters."
   ]
  },
  {
   "cell_type": "markdown",
   "id": "ab3983e9",
   "metadata": {},
   "source": [
    "**Rotten Tomatoes' movie reviews** ..... "
   ]
  },
  {
   "cell_type": "markdown",
   "metadata": {},
   "source": [
    "**Run Time:**\n",
    "\n",
    "&nbsp;&nbsp;&nbsp;&nbsp;&nbsp;&nbsp; **Mean:** \n",
    "\n",
    "&nbsp;&nbsp;&nbsp;&nbsp;&nbsp;&nbsp; **Q1:**  \n",
    "\n",
    "&nbsp;&nbsp;&nbsp;&nbsp;&nbsp;&nbsp; **Q3:**  \n",
    "\n",
    "&nbsp;&nbsp;&nbsp;&nbsp;&nbsp;&nbsp; **Standard Deviation:**   \n"
   ]
  },
  {
   "cell_type": "markdown",
   "metadata": {},
   "source": [
    "#### The Movie DB"
   ]
  },
  {
   "cell_type": "markdown",
   "metadata": {},
   "source": [
    "This is another source containing movies and their corresponding number of ratings and average ratings. \n"
   ]
  },
  {
   "cell_type": "markdown",
   "metadata": {},
   "source": [
    "#### The Numbers DB"
   ]
  },
  {
   "cell_type": "markdown",
   "metadata": {},
   "source": [
    "This provides a list a movies and their corresponding production budget, domestic gross income, and worldwide gross income \n",
    "Description of data\n",
    "Three visualizations (the same visualizations presented in the slides and notebook)"
   ]
  },
  {
   "cell_type": "markdown",
   "metadata": {},
   "source": [
    "### Data Preparation and Methodology"
   ]
  },
  {
   "cell_type": "markdown",
   "metadata": {},
   "source": [
    "TEXT HERE: explanation of data prep/cleaning methods "
   ]
  },
  {
   "cell_type": "markdown",
   "metadata": {},
   "source": [
    "#### 1. Loading in Libraries"
   ]
  },
  {
   "cell_type": "code",
   "execution_count": 11,
   "metadata": {},
   "outputs": [],
   "source": [
    "import pandas as pd\n",
    "import numpy as np\n",
    "import sqlite3 \n",
    "from pandasql import sqldf\n",
    "from scipy import stats\n",
    "import random\n",
    "import math\n",
    "import matplotlib.pyplot as plt\n",
    "%matplotlib inline\n",
    "import seaborn as sns\n",
    "import warnings\n",
    "warnings.filterwarnings('ignore')"
   ]
  },
  {
   "cell_type": "markdown",
   "metadata": {},
   "source": [
    "#### 1. Reading in datasets"
   ]
  },
  {
   "cell_type": "code",
   "execution_count": 12,
   "metadata": {},
   "outputs": [],
   "source": [
    "\"\"\" Loading in SQL database \"\"\"\n",
    "pysqldf = lambda q: sqldf(q, globals())\n",
    "conn = sqlite3.connect(\"data/im.db\")"
   ]
  },
  {
   "cell_type": "markdown",
   "metadata": {},
   "source": [
    "#### 2. Analyzing Variables"
   ]
  },
  {
   "cell_type": "code",
   "execution_count": 13,
   "metadata": {},
   "outputs": [
    {
     "name": "stdout",
     "output_type": "stream",
     "text": [
      "         start_year  runtime_minutes  averagerating      numvotes\n",
      "count  73856.000000     66236.000000   73856.000000  7.385600e+04\n",
      "mean    2014.276132        94.654040       6.332729  3.523662e+03\n",
      "std        2.614807       208.574111       1.474978  3.029402e+04\n",
      "min     2010.000000         3.000000       1.000000  5.000000e+00\n",
      "25%     2012.000000        81.000000       5.500000  1.400000e+01\n",
      "50%     2014.000000        91.000000       6.500000  4.900000e+01\n",
      "75%     2016.000000       104.000000       7.400000  2.820000e+02\n",
      "max     2019.000000     51420.000000      10.000000  1.841066e+06\n"
     ]
    },
    {
     "data": {
      "text/html": [
       "<div>\n",
       "<style scoped>\n",
       "    .dataframe tbody tr th:only-of-type {\n",
       "        vertical-align: middle;\n",
       "    }\n",
       "\n",
       "    .dataframe tbody tr th {\n",
       "        vertical-align: top;\n",
       "    }\n",
       "\n",
       "    .dataframe thead th {\n",
       "        text-align: right;\n",
       "    }\n",
       "</style>\n",
       "<table border=\"1\" class=\"dataframe\">\n",
       "  <thead>\n",
       "    <tr style=\"text-align: right;\">\n",
       "      <th></th>\n",
       "      <th>oldest_movie</th>\n",
       "      <th>newest_movie</th>\n",
       "    </tr>\n",
       "  </thead>\n",
       "  <tbody>\n",
       "    <tr>\n",
       "      <th>0</th>\n",
       "      <td>2010</td>\n",
       "      <td>2115</td>\n",
       "    </tr>\n",
       "  </tbody>\n",
       "</table>\n",
       "</div>"
      ],
      "text/plain": [
       "   oldest_movie  newest_movie\n",
       "0          2010          2115"
      ]
     },
     "execution_count": 13,
     "metadata": {},
     "output_type": "execute_result"
    }
   ],
   "source": [
    "\"\"\" Combining the 'Movie Ratings' table and 'Movie Basics' table to analyze variables \"\"\"\n",
    "imdb_df = pd.read_sql(\"\"\"SELECT * FROM movie_basics\n",
    "                    JOIN movie_ratings ON movie_basics.movie_id = movie_ratings.movie_id\n",
    "                    ORDER BY start_year DESC\"\"\" , conn)\n",
    "\n",
    "# Basic statistical variables\n",
    "print(imdb_df.describe())\n",
    "\n",
    "# Finding the range of years for the database\n",
    "year_query = \"\"\"\n",
    "        SELECT min(start_year) as oldest_movie, max(start_year) as newest_movie\n",
    "        FROM movie_basics\"\"\"\n",
    "year_range = pd.read_sql(year_query, conn)\n",
    "year_range"
   ]
  },
  {
   "cell_type": "markdown",
   "metadata": {},
   "source": [
    "The data above shows that at least 75% of the movies have at least 14 ratings. We want to preserve as much data as possible while excluding outliers. Therefore we chose the lower quartile as the minimum number of ratings neccesary to be included. This allows us to keep maximum data without our average ratings because skewed up or down by movings that have one review. Additionally, the dataset has information regarding movies past the current year of 2023. In turn we want to exclude any movies released (start_year) beyond 2023. We also want to get rid of any rows that do not have values for the genre row and average rating row."
   ]
  },
  {
   "cell_type": "markdown",
   "metadata": {},
   "source": [
    "#### 3. Filtering and sorting data into desired dataframe"
   ]
  },
  {
   "cell_type": "code",
   "execution_count": 14,
   "metadata": {},
   "outputs": [
    {
     "data": {
      "text/html": [
       "<div>\n",
       "<style scoped>\n",
       "    .dataframe tbody tr th:only-of-type {\n",
       "        vertical-align: middle;\n",
       "    }\n",
       "\n",
       "    .dataframe tbody tr th {\n",
       "        vertical-align: top;\n",
       "    }\n",
       "\n",
       "    .dataframe thead th {\n",
       "        text-align: right;\n",
       "    }\n",
       "</style>\n",
       "<table border=\"1\" class=\"dataframe\">\n",
       "  <thead>\n",
       "    <tr style=\"text-align: right;\">\n",
       "      <th></th>\n",
       "      <th>movie_id</th>\n",
       "      <th>averagerating</th>\n",
       "      <th>numvotes</th>\n",
       "      <th>movie_id</th>\n",
       "      <th>primary_title</th>\n",
       "      <th>original_title</th>\n",
       "      <th>start_year</th>\n",
       "      <th>runtime_minutes</th>\n",
       "      <th>genres</th>\n",
       "    </tr>\n",
       "  </thead>\n",
       "  <tbody>\n",
       "    <tr>\n",
       "      <th>0</th>\n",
       "      <td>tt10356526</td>\n",
       "      <td>8.3</td>\n",
       "      <td>31</td>\n",
       "      <td>tt10356526</td>\n",
       "      <td>Laiye Je Yaarian</td>\n",
       "      <td>Laiye Je Yaarian</td>\n",
       "      <td>2019</td>\n",
       "      <td>117.0</td>\n",
       "      <td>Romance</td>\n",
       "    </tr>\n",
       "    <tr>\n",
       "      <th>1</th>\n",
       "      <td>tt10384606</td>\n",
       "      <td>8.9</td>\n",
       "      <td>559</td>\n",
       "      <td>tt10384606</td>\n",
       "      <td>Borderless</td>\n",
       "      <td>Borderless</td>\n",
       "      <td>2019</td>\n",
       "      <td>87.0</td>\n",
       "      <td>Documentary</td>\n",
       "    </tr>\n",
       "    <tr>\n",
       "      <th>2</th>\n",
       "      <td>tt1673732</td>\n",
       "      <td>8.0</td>\n",
       "      <td>20</td>\n",
       "      <td>tt1673732</td>\n",
       "      <td>Break Clause</td>\n",
       "      <td>Break Clause</td>\n",
       "      <td>2019</td>\n",
       "      <td>NaN</td>\n",
       "      <td>Drama,Thriller</td>\n",
       "    </tr>\n",
       "    <tr>\n",
       "      <th>3</th>\n",
       "      <td>tt10243678</td>\n",
       "      <td>6.5</td>\n",
       "      <td>1394</td>\n",
       "      <td>tt10243678</td>\n",
       "      <td>Chopsticks</td>\n",
       "      <td>Chopsticks</td>\n",
       "      <td>2019</td>\n",
       "      <td>100.0</td>\n",
       "      <td>Comedy,Drama</td>\n",
       "    </tr>\n",
       "    <tr>\n",
       "      <th>4</th>\n",
       "      <td>tt10254986</td>\n",
       "      <td>7.0</td>\n",
       "      <td>15</td>\n",
       "      <td>tt10254986</td>\n",
       "      <td>Q Ball</td>\n",
       "      <td>Q Ball</td>\n",
       "      <td>2019</td>\n",
       "      <td>96.0</td>\n",
       "      <td>Documentary</td>\n",
       "    </tr>\n",
       "    <tr>\n",
       "      <th>...</th>\n",
       "      <td>...</td>\n",
       "      <td>...</td>\n",
       "      <td>...</td>\n",
       "      <td>...</td>\n",
       "      <td>...</td>\n",
       "      <td>...</td>\n",
       "      <td>...</td>\n",
       "      <td>...</td>\n",
       "      <td>...</td>\n",
       "    </tr>\n",
       "    <tr>\n",
       "      <th>55515</th>\n",
       "      <td>tt2344840</td>\n",
       "      <td>6.6</td>\n",
       "      <td>37</td>\n",
       "      <td>tt2344840</td>\n",
       "      <td>H2-Oh!</td>\n",
       "      <td>Narm Pee Nong Sayong Kwan</td>\n",
       "      <td>2010</td>\n",
       "      <td>NaN</td>\n",
       "      <td>Comedy,Horror</td>\n",
       "    </tr>\n",
       "    <tr>\n",
       "      <th>55516</th>\n",
       "      <td>tt2349630</td>\n",
       "      <td>3.7</td>\n",
       "      <td>165</td>\n",
       "      <td>tt2349630</td>\n",
       "      <td>Whatever God Wants</td>\n",
       "      <td>Whatever God Wants</td>\n",
       "      <td>2010</td>\n",
       "      <td>100.0</td>\n",
       "      <td>Comedy,Family</td>\n",
       "    </tr>\n",
       "    <tr>\n",
       "      <th>55517</th>\n",
       "      <td>tt2365937</td>\n",
       "      <td>7.2</td>\n",
       "      <td>87</td>\n",
       "      <td>tt2365937</td>\n",
       "      <td>Re-encounter</td>\n",
       "      <td>Hye-hwa, dong</td>\n",
       "      <td>2010</td>\n",
       "      <td>108.0</td>\n",
       "      <td>Drama</td>\n",
       "    </tr>\n",
       "    <tr>\n",
       "      <th>55518</th>\n",
       "      <td>tt2575400</td>\n",
       "      <td>7.1</td>\n",
       "      <td>15</td>\n",
       "      <td>tt2575400</td>\n",
       "      <td>Cinémas d'Horreur - Apocalypse, Virus, Zombies</td>\n",
       "      <td>Cinémas d'Horreur - Apocalypse, Virus, Zombies</td>\n",
       "      <td>2010</td>\n",
       "      <td>55.0</td>\n",
       "      <td>Documentary</td>\n",
       "    </tr>\n",
       "    <tr>\n",
       "      <th>55519</th>\n",
       "      <td>tt2612162</td>\n",
       "      <td>5.4</td>\n",
       "      <td>19</td>\n",
       "      <td>tt2612162</td>\n",
       "      <td>Ranbhool</td>\n",
       "      <td>Ranbhool</td>\n",
       "      <td>2010</td>\n",
       "      <td>110.0</td>\n",
       "      <td>Thriller</td>\n",
       "    </tr>\n",
       "  </tbody>\n",
       "</table>\n",
       "<p>55520 rows × 9 columns</p>\n",
       "</div>"
      ],
      "text/plain": [
       "         movie_id  averagerating  numvotes    movie_id  \\\n",
       "0      tt10356526            8.3        31  tt10356526   \n",
       "1      tt10384606            8.9       559  tt10384606   \n",
       "2       tt1673732            8.0        20   tt1673732   \n",
       "3      tt10243678            6.5      1394  tt10243678   \n",
       "4      tt10254986            7.0        15  tt10254986   \n",
       "...           ...            ...       ...         ...   \n",
       "55515   tt2344840            6.6        37   tt2344840   \n",
       "55516   tt2349630            3.7       165   tt2349630   \n",
       "55517   tt2365937            7.2        87   tt2365937   \n",
       "55518   tt2575400            7.1        15   tt2575400   \n",
       "55519   tt2612162            5.4        19   tt2612162   \n",
       "\n",
       "                                        primary_title  \\\n",
       "0                                    Laiye Je Yaarian   \n",
       "1                                          Borderless   \n",
       "2                                        Break Clause   \n",
       "3                                          Chopsticks   \n",
       "4                                              Q Ball   \n",
       "...                                               ...   \n",
       "55515                                          H2-Oh!   \n",
       "55516                              Whatever God Wants   \n",
       "55517                                    Re-encounter   \n",
       "55518  Cinémas d'Horreur - Apocalypse, Virus, Zombies   \n",
       "55519                                        Ranbhool   \n",
       "\n",
       "                                       original_title  start_year  \\\n",
       "0                                    Laiye Je Yaarian        2019   \n",
       "1                                          Borderless        2019   \n",
       "2                                        Break Clause        2019   \n",
       "3                                          Chopsticks        2019   \n",
       "4                                              Q Ball        2019   \n",
       "...                                               ...         ...   \n",
       "55515                       Narm Pee Nong Sayong Kwan        2010   \n",
       "55516                              Whatever God Wants        2010   \n",
       "55517                                   Hye-hwa, dong        2010   \n",
       "55518  Cinémas d'Horreur - Apocalypse, Virus, Zombies        2010   \n",
       "55519                                        Ranbhool        2010   \n",
       "\n",
       "       runtime_minutes          genres  \n",
       "0                117.0         Romance  \n",
       "1                 87.0     Documentary  \n",
       "2                  NaN  Drama,Thriller  \n",
       "3                100.0    Comedy,Drama  \n",
       "4                 96.0     Documentary  \n",
       "...                ...             ...  \n",
       "55515              NaN   Comedy,Horror  \n",
       "55516            100.0   Comedy,Family  \n",
       "55517            108.0           Drama  \n",
       "55518             55.0     Documentary  \n",
       "55519            110.0        Thriller  \n",
       "\n",
       "[55520 rows x 9 columns]"
      ]
     },
     "execution_count": 14,
     "metadata": {},
     "output_type": "execute_result"
    }
   ],
   "source": [
    "\"\"\" Creating the combined data set with the parameters set above \"\"\"\n",
    "cleaning_query = \"\"\"\n",
    "        SELECT *\n",
    "        FROM movie_ratings mr\n",
    "        JOIN movie_basics mb\n",
    "            ON mr.movie_id = mb.movie_id\n",
    "        WHERE mb.start_year <=2023 AND mr.numvotes >=14 AND mb.genres is not null AND mr.averagerating is not null\n",
    "        ORDER BY mb.start_year DESC\"\"\"\n",
    "\n",
    "cleaned_sqldata = pd.read_sql(cleaning_query, conn)\n",
    "cleaned_sqldata"
   ]
  },
  {
   "cell_type": "markdown",
   "metadata": {},
   "source": [
    "Currently the genre column invovles multiple genres for each movie. Therefore we want to seperate these genres to view them indvidually. This will help us to look at genres on their own and be able to recommend the movie genres Computer Vision should focus on. "
   ]
  },
  {
   "cell_type": "code",
   "execution_count": 15,
   "metadata": {},
   "outputs": [
    {
     "name": "stdout",
     "output_type": "stream",
     "text": [
      "<class 'pandas.core.frame.DataFrame'>\n",
      "Int64Index: 100832 entries, 0 to 55519\n",
      "Data columns (total 9 columns):\n",
      " #   Column           Non-Null Count   Dtype  \n",
      "---  ------           --------------   -----  \n",
      " 0   movie_id         100832 non-null  object \n",
      " 1   averagerating    100832 non-null  float64\n",
      " 2   numvotes         100832 non-null  int64  \n",
      " 3   movie_id         100832 non-null  object \n",
      " 4   primary_title    100832 non-null  object \n",
      " 5   original_title   100832 non-null  object \n",
      " 6   start_year       100832 non-null  int64  \n",
      " 7   runtime_minutes  95085 non-null   float64\n",
      " 8   genres           100832 non-null  object \n",
      "dtypes: float64(2), int64(2), object(5)\n",
      "memory usage: 7.7+ MB\n"
     ]
    }
   ],
   "source": [
    "\"\"\" Splitting the rows into individual genres with all the data \"\"\"\n",
    "\n",
    "# Making the genres into strings so it can be split\n",
    "\n",
    "cleaned_sqldata['genres'] = cleaned_sqldata['genres'].astype(str)\n",
    "\n",
    "# Splitting the genres \n",
    "cleaned_sqldata[\"genres\"] = cleaned_sqldata[\"genres\"].str.split(\",\")\n",
    "cleaned_sqldata = cleaned_sqldata.apply(pd.Series.explode)\n",
    "cleaned_sqldata.info()"
   ]
  },
  {
   "cell_type": "markdown",
   "metadata": {},
   "source": [
    "Now that the data has been cleaned and filtered we can group the data by genres and find statistical information regarding each genre. Then find the highly rated genres and display the top genres accordingly."
   ]
  },
  {
   "cell_type": "code",
   "execution_count": 16,
   "metadata": {},
   "outputs": [
    {
     "name": "stdout",
     "output_type": "stream",
     "text": [
      "<class 'pandas.core.frame.DataFrame'>\n",
      "RangeIndex: 25 entries, 0 to 24\n",
      "Data columns (total 2 columns):\n",
      " #   Column         Non-Null Count  Dtype  \n",
      "---  ------         --------------  -----  \n",
      " 0   genres         25 non-null     object \n",
      " 1   averagerating  25 non-null     float64\n",
      "dtypes: float64(1), object(1)\n",
      "memory usage: 528.0+ bytes\n"
     ]
    }
   ],
   "source": [
    "\"\"\" Creating a grouped dataset to analyze \"\"\"\n",
    "#(tn_df.groupby(['month'])[['profitability']].mean()).reset_index()\n",
    "\n",
    "grouped_genre_ratings = (cleaned_sqldata.groupby(['genres']).mean())\n",
    "grouped_genre_ratings = grouped_genre_ratings[['averagerating']]\n",
    "\n",
    "# Sorting the genres based on highest average rating to lowest\n",
    "grouped_genre_ratings = grouped_genre_ratings.sort_values(by='averagerating', ascending = False)\n",
    "grouped_genre_ratings.reset_index(inplace = True)\n",
    "grouped_genre_ratings.info()"
   ]
  },
  {
   "cell_type": "markdown",
   "metadata": {},
   "source": [
    "#### 4. Visualizing Data"
   ]
  },
  {
   "cell_type": "code",
   "execution_count": 17,
   "metadata": {},
   "outputs": [
    {
     "data": {
      "image/png": "[encoded data removed]",
      "text/plain": [
       "<Figure size 1800x1200 with 1 Axes>"
      ]
     },
     "metadata": {
      "needs_background": "light"
     },
     "output_type": "display_data"
    }
   ],
   "source": [
    "\"\"\" Visualizing the top 5 genres compared to all other genres \"\"\"\n",
    "\n",
    "title_font = {'fontname':'Calibri', 'size':'18', 'color':'black', 'weight':'normal',\n",
    "              'verticalalignment':'bottom'} \n",
    "label_font = {'fontname':'Calibri', 'size':'16', 'weight':'normal'}\n",
    "\n",
    "lowest_top_5_rating = grouped_genre_ratings['averagerating'][4]\n",
    "\n",
    "average_rating = grouped_genre_ratings['averagerating'].mean()\n",
    "\n",
    "median_rating = grouped_genre_ratings['averagerating'].median()\n",
    "\n",
    "\n",
    "fig, ax = plt.subplots(figsize = (12, 8), dpi = 150)\n",
    "cols = ['lightsteelblue' if x < lowest_top_5_rating else 'orangered' for x in grouped_genre_ratings['averagerating']]\n",
    "sns.barplot(x = grouped_genre_ratings['averagerating'], y = grouped_genre_ratings['genres'], palette = cols, alpha = 0.85, ax = ax, orient ='h')\n",
    "ax.set_title('Average Ratings by Genre', title_font)\n",
    "ax.set_xlabel('Genre', label_font, labelpad = 10)\n",
    "ax.set_ylabel('Average Rating', label_font, labelpad = 20)\n",
    "ax.axvline(average_rating, c='k', ls='-', lw=2.5)\n",
    "#ax.axvline(median_rating, c='orange', ls='--', lw=2.5)\n",
    "plt.tight_layout()"
   ]
  },
  {
   "cell_type": "code",
   "execution_count": 18,
   "metadata": {},
   "outputs": [
    {
     "data": {
      "image/png": "[encoded data removed]",
      "text/plain": [
       "<Figure size 1800x1200 with 1 Axes>"
      ]
     },
     "metadata": {
      "needs_background": "light"
     },
     "output_type": "display_data"
    }
   ],
   "source": [
    "\"\"\" Visualizing top 5 genres against themselves \"\"\"\n",
    "\n",
    "top_5_genres = grouped_genre_ratings[0:6]\n",
    "\n",
    "fig, ax = plt.subplots(figsize = (12, 8), dpi = 150)\n",
    "cols = ['lightsteelblue']\n",
    "sns.barplot(x = top_5_genres['averagerating'], y = top_5_genres['genres'], palette = cols, alpha = 0.85, ax = ax, orient ='h')\n",
    "ax.set_title('Average Ratings for Top Five Genres', title_font)\n",
    "ax.set_xlabel('Genre', label_font, labelpad = 10)\n",
    "ax.set_ylabel('Average Rating', label_font, labelpad = 20)\n",
    "ax.axvline(average_rating, c='k', ls='-', lw=2.5)\n",
    "#ax.axvline(median_rating, c='orange', ls='--', lw=2.5)\n",
    "plt.tight_layout()"
   ]
  },
  {
   "cell_type": "code",
   "execution_count": 17,
   "metadata": {},
   "outputs": [],
   "source": [
    "#code cell here if needed"
   ]
  },
  {
   "cell_type": "markdown",
   "metadata": {},
   "source": [
    "### Actionable Recommendations"
   ]
  },
  {
   "cell_type": "markdown",
   "metadata": {},
   "source": [
    "#### Most Profitable Release Month "
   ]
  },
  {
   "cell_type": "code",
   "execution_count": 13,
   "metadata": {},
   "outputs": [],
   "source": [
    "#code cell to show work and visualizations"
   ]
  },
  {
   "cell_type": "markdown",
   "metadata": {},
   "source": [
    "#### Highest Rated Movie Genres "
   ]
  },
  {
   "cell_type": "code",
   "execution_count": 15,
   "metadata": {},
   "outputs": [],
   "source": [
    "#code cell to show work and visualizations"
   ]
  },
  {
   "cell_type": "markdown",
   "metadata": {},
   "source": [
    "#### Budget Interval Per Top 5 Genres"
   ]
  },
  {
   "cell_type": "code",
   "execution_count": 16,
   "metadata": {},
   "outputs": [],
   "source": [
    "#code cell to show work and visualizations"
   ]
  },
  {
   "cell_type": "markdown",
   "metadata": {},
   "source": [
    "### Statistical Communication "
   ]
  },
  {
   "cell_type": "markdown",
   "metadata": {},
   "source": [
    "TEXT HERE: Results of Statistical inference \n",
    "Interpreation of these results in the context of the problem \n",
    "\n",
    "-discussion of confidence interval/results"
   ]
  },
  {
   "cell_type": "markdown",
   "metadata": {},
   "source": [
    "### Conclusion"
   ]
  },
  {
   "cell_type": "markdown",
   "metadata": {},
   "source": [
    "TEXT HERE: Summary of conclusions including three relevant findings "
   ]
  }
 ],
 "metadata": {
  "kernelspec": {
   "display_name": "Python (learn-env)",
   "language": "python",
   "name": "learn-env"
  },
  "language_info": {
   "codemirror_mode": {
    "name": "ipython",
    "version": 3
   },
   "file_extension": ".py",
   "mimetype": "text/x-python",
   "name": "python",
   "nbconvert_exporter": "python",
   "pygments_lexer": "ipython3",
   "version": "3.8.5"
  }
 },
 "nbformat": 4,
 "nbformat_minor": 5
}
