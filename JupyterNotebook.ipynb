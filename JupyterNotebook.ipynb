{
 "cells": [
  {
   "cell_type": "markdown",
   "id": "b3887462",
   "metadata": {},
   "source": [
    "# Computer Vision Industry Recommendation "
   ]
  },
  {
   "cell_type": "markdown",
   "id": "8afbf779",
   "metadata": {},
   "source": [
    "### Overview"
   ]
  },
  {
   "cell_type": "markdown",
   "id": "eed89cff",
   "metadata": {},
   "source": [
    "Computer Vision is attempting to enter the film industry. Movie data was analyzed from multiple databases in order to understand the most profitable and successful movies. This data was analyzed utilizing various statistical methods and data manipulation."
   ]
  },
  {
   "cell_type": "markdown",
   "id": "36876876",
   "metadata": {},
   "source": [
    "### Business Understanding"
   ]
  },
  {
   "cell_type": "markdown",
   "id": "df1ba1e6",
   "metadata": {},
   "source": [
    "Computer Vision is looking to produce original video content with the creation of a new movie studio. Their goal is to strategically release top-rated, and high grossing films, but lack of industry specific knowledge and experience is delaying this expansion. An uncalculated debut into the film industry may lead to poor brand recognition or unnecessary financial loss.\n",
    "\n",
    "By leveraging box office data sources to draw conclusions on variables like release month, genre, audience ratings, and profits our team seeks to answer the how, what, and when so Computer Vision can successfully begin creating films tailored to surpass their goals "
   ]
  },
  {
   "cell_type": "markdown",
   "id": "e5629945",
   "metadata": {},
   "source": [
    "### Data Understanding and Analysis"
   ]
  },
  {
   "cell_type": "markdown",
   "id": "27f99dd3",
   "metadata": {},
   "source": [
    "Source of data\n",
    "The data used in analysis included the following. \n",
    "- Box Office Mojo\n",
    "- IMDB\n",
    "- Rotten Tomatoes\n",
    "- TheMovieDB\n",
    "- The Numbers"
   ]
  },
  {
   "cell_type": "markdown",
   "id": "fafedf3a",
   "metadata": {},
   "source": [
    "#### Box Office Mojo "
   ]
  },
  {
   "cell_type": "markdown",
   "id": "39edc0dc",
   "metadata": {},
   "source": [
    "From Box Office Mojo, 3387 records of films during the years 2010-2018, studio name, and their corresponding domestic and foreign gross box-office revenue are given.The Box Office Mojo data type accuratley described the string data as object. However, foreign gross total was listed as \"object\" and domestic gross was listed as a float even though no decimal value was indicated. Cleaning the dataset included changing the data type of foreign and domestic gross to integer. There were less than 40 NaNs between the studio, and domestic gross columns so dropping these rows was applicable. Alternatively, with over 1,300 NaN values under foreign gross column, the missing data was too significant to draw conclusions and limited analysis. The team concurred that replacing such NaNs with the related mean or another significant value would disproportionaly skew the data. As a result, the team utilized the .describe and .info methods to return the following descriptive statistics for only domestic gross:"
   ]
  },
  {
   "cell_type": "markdown",
   "id": "25c896ff",
   "metadata": {},
   "source": [
    "**Domestic Gross:**\n",
    "\n",
    "&nbsp;&nbsp;&nbsp;&nbsp;&nbsp;&nbsp; **Mean:** $28,745,845.07\n",
    "\n",
    "&nbsp;&nbsp;&nbsp;&nbsp;&nbsp;&nbsp; **Q1:**   $120,000.00\n",
    "\n",
    "&nbsp;&nbsp;&nbsp;&nbsp;&nbsp;&nbsp; **Q3:**   $27,900,000.00\n",
    "\n",
    "&nbsp;&nbsp;&nbsp;&nbsp;&nbsp;&nbsp; **Standard Deviation:**   $66,982,498.24\n"
   ]
  },
  {
   "cell_type": "markdown",
   "id": "42d73bfd",
   "metadata": {},
   "source": [
    "Without knowing expenses incurred during production, both domestic and foreign gross revenues cannot be interpreted to the necessary extent. Although, neither release year nor movie title were relevant, an option to compare title to foreign or domestic gross could provide slight insight into title success.\n",
    "\n",
    "Although the Box Office Mojo provides intriguing data, analyzing the irrelevant and missing data values limits its ability to provide actionable next steps for Computer Vision. Therefore, the team did not use the Box Office Mojo dataset for analyses."
   ]
  },
  {
   "cell_type": "markdown",
   "id": "5f3b67b2",
   "metadata": {},
   "source": [
    "#### IMDB"
   ]
  },
  {
   "cell_type": "markdown",
   "id": "f3b3e9e7",
   "metadata": {},
   "source": [
    "Provides in depth information on various movies from the year 2010 to 2019. The most relevant of the information provided includes movie ratings, number of ratings for a given movie, genre, and year published\n"
   ]
  },
  {
   "cell_type": "markdown",
   "id": "f0d5ca75",
   "metadata": {},
   "source": [
    "#### Rotten Tomatoes"
   ]
  },
  {
   "attachments": {},
   "cell_type": "markdown",
   "id": "6b96acb3",
   "metadata": {},
   "source": [
    "Rotten Tomatoes was the source for both the movie_info and reviews dataset.\n",
    "\n",
    "**Rotten Tomatoes' movie information** dataset contained a total of 1,560 entries. The 12 column headers provided data for each films': synopsis, rating, genre, director, writer, release date, dvd date, box office revenue, run time, and studio. Every column had NaN values, excluding id. The most significant NaN columns were currency, box office, and studio, each with less than 350 records. This means 78% of the data for each of these columns is missing. The currency value was either USD ($) or NaN. Without data on the release location of each film, the team was unable to substitute the missing currencies. Similarly, with such a deficit of data points for box office revenue amounts, filling in mean or similar profit values would disrupt the accuracy of the dataset significantly. Genre was analyzed within a separate dataset, and therefore remained untouched. Theater date and dvd date were converted using Python's datetime module. "
   ]
  },
  {
   "cell_type": "markdown",
   "id": "19713718",
   "metadata": {},
   "source": [
    "**Run Time:**\n",
    "\n",
    "&nbsp;&nbsp;&nbsp;&nbsp;&nbsp;&nbsp; **Mean:** \n",
    "\n",
    "&nbsp;&nbsp;&nbsp;&nbsp;&nbsp;&nbsp; **Q1:**\n",
    "\n",
    "&nbsp;&nbsp;&nbsp;&nbsp;&nbsp;&nbsp; **Q3:** \n",
    "\n",
    "&nbsp;&nbsp;&nbsp;&nbsp;&nbsp;&nbsp; **Standard Deviation:** "
   ]
  },
  {
   "cell_type": "markdown",
   "id": "c830de9e",
   "metadata": {},
   "source": [
    "Given the large number of limitations of the dataset, the team did not analyze this data to provide recommendations. Although with further comparison of other tables, examining genre, synopsis, and revenue could provide Computer Vision with data on successful storylines, and characters."
   ]
  },
  {
   "cell_type": "markdown",
   "id": "ab3983e9",
   "metadata": {},
   "source": [
    "**Rotten Tomatoes' movie reviews** ..... "
   ]
  },
  {
   "cell_type": "markdown",
   "id": "d188ba03",
   "metadata": {},
   "source": [
    "**Run Time:**\n",
    "\n",
    "&nbsp;&nbsp;&nbsp;&nbsp;&nbsp;&nbsp; **Mean:** \n",
    "\n",
    "&nbsp;&nbsp;&nbsp;&nbsp;&nbsp;&nbsp; **Q1:**  \n",
    "\n",
    "&nbsp;&nbsp;&nbsp;&nbsp;&nbsp;&nbsp; **Q3:**  \n",
    "\n",
    "&nbsp;&nbsp;&nbsp;&nbsp;&nbsp;&nbsp; **Standard Deviation:**   \n"
   ]
  },
  {
   "cell_type": "markdown",
   "id": "9d79fa60",
   "metadata": {},
   "source": [
    "#### The Movie DB"
   ]
  },
  {
   "cell_type": "markdown",
   "id": "86a56f86",
   "metadata": {},
   "source": [
    "This is another source containing movies and their corresponding number of ratings and average ratings. \n"
   ]
  },
  {
   "cell_type": "markdown",
   "id": "b29ea637",
   "metadata": {},
   "source": [
    "#### The Numbers DB"
   ]
  },
  {
   "cell_type": "markdown",
   "id": "2e0ce716",
   "metadata": {},
   "source": [
    "This provides a list a movies and their corresponding production budget, domestic gross income, and worldwide gross income \n",
    "Description of data\n",
    "Three visualizations (the same visualizations presented in the slides and notebook)"
   ]
  },
  {
   "cell_type": "markdown",
   "id": "47fbb37a",
   "metadata": {},
   "source": [
    "### Data Preparation and Methodology"
   ]
  },
  {
   "cell_type": "markdown",
   "id": "4e373879",
   "metadata": {},
   "source": [
    "TEXT HERE: explanation of data prep/cleaning methods "
   ]
  },
  {
   "cell_type": "code",
   "execution_count": 17,
   "id": "47912b70",
   "metadata": {},
   "outputs": [],
   "source": [
    "#code cell here if needed"
   ]
  },
  {
   "cell_type": "markdown",
   "id": "6b52f58c",
   "metadata": {},
   "source": [
    "### Actionable Recommendations"
   ]
  },
  {
   "cell_type": "markdown",
   "id": "506c0429",
   "metadata": {},
   "source": [
    "#### Most Profitable Release Month "
   ]
  },
  {
   "cell_type": "code",
   "execution_count": 13,
   "id": "bd128173",
   "metadata": {},
   "outputs": [],
   "source": [
    "#code cell to show work and visualizations"
   ]
  },
  {
   "cell_type": "markdown",
   "id": "72dbd03c",
   "metadata": {},
   "source": [
    "#### Highest Rated Movie Genres "
   ]
  },
  {
   "cell_type": "code",
   "execution_count": 15,
   "id": "2d190d95",
   "metadata": {},
   "outputs": [],
   "source": [
    "#code cell to show work and visualizations"
   ]
  },
  {
   "cell_type": "markdown",
   "id": "29c95b78",
   "metadata": {},
   "source": [
    "#### Budget Interval Per Top 5 Genres"
   ]
  },
  {
   "cell_type": "code",
   "execution_count": 16,
   "id": "91b1846f",
   "metadata": {},
   "outputs": [],
   "source": [
    "#code cell to show work and visualizations"
   ]
  },
  {
   "cell_type": "markdown",
   "id": "30e4aa1b",
   "metadata": {},
   "source": [
    "### Statistical Communication "
   ]
  },
  {
   "cell_type": "markdown",
   "id": "cd095b7a",
   "metadata": {},
   "source": [
    "TEXT HERE: Results of Statistical inference \n",
    "Interpreation of these results in the context of the problem \n",
    "\n",
    "-discussion of confidence interval/results"
   ]
  },
  {
   "cell_type": "markdown",
   "id": "61ff04fd",
   "metadata": {},
   "source": [
    "### Conclusion"
   ]
  },
  {
   "cell_type": "markdown",
   "id": "427b610e",
   "metadata": {},
   "source": [
    "TEXT HERE: Summary of conclusions including three relevant findings "
   ]
  }
 ],
 "metadata": {
  "kernelspec": {
   "display_name": "Python (learn-env)",
   "language": "python",
   "name": "learn-env"
  },
  "language_info": {
   "codemirror_mode": {
    "name": "ipython",
    "version": 3
   },
   "file_extension": ".py",
   "mimetype": "text/x-python",
   "name": "python",
   "nbconvert_exporter": "python",
   "pygments_lexer": "ipython3",
   "version": "3.11.3"
  }
 },
 "nbformat": 4,
 "nbformat_minor": 5
}
