{
 "cells": [
  {
   "cell_type": "markdown",
   "metadata": {},
   "source": [
    "# Libraries"
   ]
  },
  {
   "cell_type": "code",
   "execution_count": 1,
   "metadata": {},
   "outputs": [],
   "source": [
    "import pandas as pd\n",
    "import numpy as np\n",
    "import sqlite3 \n",
    "from pandasql import sqldf\n",
    "from scipy import stats\n",
    "import statsmodels.api as sm\n",
    "from statsmodels.formula.api import ols\n",
    "import random\n",
    "import math\n",
    "import matplotlib.pyplot as plt\n",
    "%matplotlib inline\n",
    "import seaborn as sns\n",
    "import warnings\n",
    "warnings.filterwarnings('ignore')"
   ]
  },
  {
   "cell_type": "markdown",
   "metadata": {},
   "source": [
    "# Business Problem"
   ]
  },
  {
   "cell_type": "markdown",
   "metadata": {},
   "source": [
    "Computing Vision (a made-up company for the purposes of this project) sees all the big companies creating original video content and they want to get in on the fun. They have decided to create a new movie studio, but they don’t have much background in creating movies. You are charged with exploring what types of films are currently doing the best at the box office using different samples of available data. You then will translate those findings into actionable insights that the head of Computing Vision's new movie studio can use to help decide what type of films to create.\n",
    "\n"
   ]
  },
  {
   "cell_type": "markdown",
   "metadata": {},
   "source": [
    "# Data"
   ]
  },
  {
   "cell_type": "markdown",
   "metadata": {},
   "source": [
    "Data files from:\n",
    "- Box Office Mojo\n",
    "- IMDB\n",
    "- Rotten Tomatoes\n",
    "- TheMovieDB\n",
    "- The Numbers"
   ]
  },
  {
   "cell_type": "code",
   "execution_count": 2,
   "metadata": {},
   "outputs": [
    {
     "data": {
      "text/html": [
       "<div>\n",
       "<style scoped>\n",
       "    .dataframe tbody tr th:only-of-type {\n",
       "        vertical-align: middle;\n",
       "    }\n",
       "\n",
       "    .dataframe tbody tr th {\n",
       "        vertical-align: top;\n",
       "    }\n",
       "\n",
       "    .dataframe thead th {\n",
       "        text-align: right;\n",
       "    }\n",
       "</style>\n",
       "<table border=\"1\" class=\"dataframe\">\n",
       "  <thead>\n",
       "    <tr style=\"text-align: right;\">\n",
       "      <th></th>\n",
       "      <th>title</th>\n",
       "      <th>studio</th>\n",
       "      <th>domestic_gross</th>\n",
       "      <th>foreign_gross</th>\n",
       "      <th>year</th>\n",
       "    </tr>\n",
       "  </thead>\n",
       "  <tbody>\n",
       "    <tr>\n",
       "      <th>0</th>\n",
       "      <td>Toy Story 3</td>\n",
       "      <td>BV</td>\n",
       "      <td>415000000.0</td>\n",
       "      <td>652000000</td>\n",
       "      <td>2010</td>\n",
       "    </tr>\n",
       "    <tr>\n",
       "      <th>1</th>\n",
       "      <td>Alice in Wonderland (2010)</td>\n",
       "      <td>BV</td>\n",
       "      <td>334200000.0</td>\n",
       "      <td>691300000</td>\n",
       "      <td>2010</td>\n",
       "    </tr>\n",
       "    <tr>\n",
       "      <th>2</th>\n",
       "      <td>Harry Potter and the Deathly Hallows Part 1</td>\n",
       "      <td>WB</td>\n",
       "      <td>296000000.0</td>\n",
       "      <td>664300000</td>\n",
       "      <td>2010</td>\n",
       "    </tr>\n",
       "    <tr>\n",
       "      <th>3</th>\n",
       "      <td>Inception</td>\n",
       "      <td>WB</td>\n",
       "      <td>292600000.0</td>\n",
       "      <td>535700000</td>\n",
       "      <td>2010</td>\n",
       "    </tr>\n",
       "    <tr>\n",
       "      <th>4</th>\n",
       "      <td>Shrek Forever After</td>\n",
       "      <td>P/DW</td>\n",
       "      <td>238700000.0</td>\n",
       "      <td>513900000</td>\n",
       "      <td>2010</td>\n",
       "    </tr>\n",
       "  </tbody>\n",
       "</table>\n",
       "</div>"
      ],
      "text/plain": [
       "                                         title studio  domestic_gross  \\\n",
       "0                                  Toy Story 3     BV     415000000.0   \n",
       "1                   Alice in Wonderland (2010)     BV     334200000.0   \n",
       "2  Harry Potter and the Deathly Hallows Part 1     WB     296000000.0   \n",
       "3                                    Inception     WB     292600000.0   \n",
       "4                          Shrek Forever After   P/DW     238700000.0   \n",
       "\n",
       "  foreign_gross  year  \n",
       "0     652000000  2010  \n",
       "1     691300000  2010  \n",
       "2     664300000  2010  \n",
       "3     535700000  2010  \n",
       "4     513900000  2010  "
      ]
     },
     "execution_count": 2,
     "metadata": {},
     "output_type": "execute_result"
    }
   ],
   "source": [
    "bom_df = pd.read_csv('data/bom.movie_gross.csv.gz')\n",
    "bom_df.head()"
   ]
  },
  {
   "cell_type": "code",
   "execution_count": 3,
   "metadata": {},
   "outputs": [
    {
     "data": {
      "text/html": [
       "<div>\n",
       "<style scoped>\n",
       "    .dataframe tbody tr th:only-of-type {\n",
       "        vertical-align: middle;\n",
       "    }\n",
       "\n",
       "    .dataframe tbody tr th {\n",
       "        vertical-align: top;\n",
       "    }\n",
       "\n",
       "    .dataframe thead th {\n",
       "        text-align: right;\n",
       "    }\n",
       "</style>\n",
       "<table border=\"1\" class=\"dataframe\">\n",
       "  <thead>\n",
       "    <tr style=\"text-align: right;\">\n",
       "      <th></th>\n",
       "      <th>genre_ids</th>\n",
       "      <th>id</th>\n",
       "      <th>original_language</th>\n",
       "      <th>original_title</th>\n",
       "      <th>popularity</th>\n",
       "      <th>release_date</th>\n",
       "      <th>title</th>\n",
       "      <th>vote_average</th>\n",
       "      <th>vote_count</th>\n",
       "    </tr>\n",
       "  </thead>\n",
       "  <tbody>\n",
       "    <tr>\n",
       "      <th>0</th>\n",
       "      <td>[12, 14, 10751]</td>\n",
       "      <td>12444</td>\n",
       "      <td>en</td>\n",
       "      <td>Harry Potter and the Deathly Hallows: Part 1</td>\n",
       "      <td>33.533</td>\n",
       "      <td>2010-11-19</td>\n",
       "      <td>Harry Potter and the Deathly Hallows: Part 1</td>\n",
       "      <td>7.7</td>\n",
       "      <td>10788</td>\n",
       "    </tr>\n",
       "    <tr>\n",
       "      <th>1</th>\n",
       "      <td>[14, 12, 16, 10751]</td>\n",
       "      <td>10191</td>\n",
       "      <td>en</td>\n",
       "      <td>How to Train Your Dragon</td>\n",
       "      <td>28.734</td>\n",
       "      <td>2010-03-26</td>\n",
       "      <td>How to Train Your Dragon</td>\n",
       "      <td>7.7</td>\n",
       "      <td>7610</td>\n",
       "    </tr>\n",
       "    <tr>\n",
       "      <th>2</th>\n",
       "      <td>[12, 28, 878]</td>\n",
       "      <td>10138</td>\n",
       "      <td>en</td>\n",
       "      <td>Iron Man 2</td>\n",
       "      <td>28.515</td>\n",
       "      <td>2010-05-07</td>\n",
       "      <td>Iron Man 2</td>\n",
       "      <td>6.8</td>\n",
       "      <td>12368</td>\n",
       "    </tr>\n",
       "    <tr>\n",
       "      <th>3</th>\n",
       "      <td>[16, 35, 10751]</td>\n",
       "      <td>862</td>\n",
       "      <td>en</td>\n",
       "      <td>Toy Story</td>\n",
       "      <td>28.005</td>\n",
       "      <td>1995-11-22</td>\n",
       "      <td>Toy Story</td>\n",
       "      <td>7.9</td>\n",
       "      <td>10174</td>\n",
       "    </tr>\n",
       "    <tr>\n",
       "      <th>4</th>\n",
       "      <td>[28, 878, 12]</td>\n",
       "      <td>27205</td>\n",
       "      <td>en</td>\n",
       "      <td>Inception</td>\n",
       "      <td>27.920</td>\n",
       "      <td>2010-07-16</td>\n",
       "      <td>Inception</td>\n",
       "      <td>8.3</td>\n",
       "      <td>22186</td>\n",
       "    </tr>\n",
       "  </tbody>\n",
       "</table>\n",
       "</div>"
      ],
      "text/plain": [
       "             genre_ids     id original_language  \\\n",
       "0      [12, 14, 10751]  12444                en   \n",
       "1  [14, 12, 16, 10751]  10191                en   \n",
       "2        [12, 28, 878]  10138                en   \n",
       "3      [16, 35, 10751]    862                en   \n",
       "4        [28, 878, 12]  27205                en   \n",
       "\n",
       "                                 original_title  popularity release_date  \\\n",
       "0  Harry Potter and the Deathly Hallows: Part 1      33.533   2010-11-19   \n",
       "1                      How to Train Your Dragon      28.734   2010-03-26   \n",
       "2                                    Iron Man 2      28.515   2010-05-07   \n",
       "3                                     Toy Story      28.005   1995-11-22   \n",
       "4                                     Inception      27.920   2010-07-16   \n",
       "\n",
       "                                          title  vote_average  vote_count  \n",
       "0  Harry Potter and the Deathly Hallows: Part 1           7.7       10788  \n",
       "1                      How to Train Your Dragon           7.7        7610  \n",
       "2                                    Iron Man 2           6.8       12368  \n",
       "3                                     Toy Story           7.9       10174  \n",
       "4                                     Inception           8.3       22186  "
      ]
     },
     "execution_count": 3,
     "metadata": {},
     "output_type": "execute_result"
    }
   ],
   "source": [
    "tmdb_df = pd.read_csv('data/tmdb.movies.csv.gz', index_col = 0)\n",
    "tmdb_df.head()"
   ]
  },
  {
   "cell_type": "code",
   "execution_count": 4,
   "metadata": {},
   "outputs": [
    {
     "data": {
      "text/html": [
       "<div>\n",
       "<style scoped>\n",
       "    .dataframe tbody tr th:only-of-type {\n",
       "        vertical-align: middle;\n",
       "    }\n",
       "\n",
       "    .dataframe tbody tr th {\n",
       "        vertical-align: top;\n",
       "    }\n",
       "\n",
       "    .dataframe thead th {\n",
       "        text-align: right;\n",
       "    }\n",
       "</style>\n",
       "<table border=\"1\" class=\"dataframe\">\n",
       "  <thead>\n",
       "    <tr style=\"text-align: right;\">\n",
       "      <th></th>\n",
       "      <th>id</th>\n",
       "      <th>release_date</th>\n",
       "      <th>movie</th>\n",
       "      <th>production_budget</th>\n",
       "      <th>domestic_gross</th>\n",
       "      <th>worldwide_gross</th>\n",
       "    </tr>\n",
       "  </thead>\n",
       "  <tbody>\n",
       "    <tr>\n",
       "      <th>0</th>\n",
       "      <td>1</td>\n",
       "      <td>Dec 18, 2009</td>\n",
       "      <td>Avatar</td>\n",
       "      <td>$425,000,000</td>\n",
       "      <td>$760,507,625</td>\n",
       "      <td>$2,776,345,279</td>\n",
       "    </tr>\n",
       "    <tr>\n",
       "      <th>1</th>\n",
       "      <td>2</td>\n",
       "      <td>May 20, 2011</td>\n",
       "      <td>Pirates of the Caribbean: On Stranger Tides</td>\n",
       "      <td>$410,600,000</td>\n",
       "      <td>$241,063,875</td>\n",
       "      <td>$1,045,663,875</td>\n",
       "    </tr>\n",
       "    <tr>\n",
       "      <th>2</th>\n",
       "      <td>3</td>\n",
       "      <td>Jun 7, 2019</td>\n",
       "      <td>Dark Phoenix</td>\n",
       "      <td>$350,000,000</td>\n",
       "      <td>$42,762,350</td>\n",
       "      <td>$149,762,350</td>\n",
       "    </tr>\n",
       "    <tr>\n",
       "      <th>3</th>\n",
       "      <td>4</td>\n",
       "      <td>May 1, 2015</td>\n",
       "      <td>Avengers: Age of Ultron</td>\n",
       "      <td>$330,600,000</td>\n",
       "      <td>$459,005,868</td>\n",
       "      <td>$1,403,013,963</td>\n",
       "    </tr>\n",
       "    <tr>\n",
       "      <th>4</th>\n",
       "      <td>5</td>\n",
       "      <td>Dec 15, 2017</td>\n",
       "      <td>Star Wars Ep. VIII: The Last Jedi</td>\n",
       "      <td>$317,000,000</td>\n",
       "      <td>$620,181,382</td>\n",
       "      <td>$1,316,721,747</td>\n",
       "    </tr>\n",
       "  </tbody>\n",
       "</table>\n",
       "</div>"
      ],
      "text/plain": [
       "   id  release_date                                        movie  \\\n",
       "0   1  Dec 18, 2009                                       Avatar   \n",
       "1   2  May 20, 2011  Pirates of the Caribbean: On Stranger Tides   \n",
       "2   3   Jun 7, 2019                                 Dark Phoenix   \n",
       "3   4   May 1, 2015                      Avengers: Age of Ultron   \n",
       "4   5  Dec 15, 2017            Star Wars Ep. VIII: The Last Jedi   \n",
       "\n",
       "  production_budget domestic_gross worldwide_gross  \n",
       "0      $425,000,000   $760,507,625  $2,776,345,279  \n",
       "1      $410,600,000   $241,063,875  $1,045,663,875  \n",
       "2      $350,000,000    $42,762,350    $149,762,350  \n",
       "3      $330,600,000   $459,005,868  $1,403,013,963  \n",
       "4      $317,000,000   $620,181,382  $1,316,721,747  "
      ]
     },
     "execution_count": 4,
     "metadata": {},
     "output_type": "execute_result"
    }
   ],
   "source": [
    "tn_df = pd.read_csv('data/tn.movie_budgets.csv.gz')\n",
    "tn_df.head()"
   ]
  },
  {
   "cell_type": "code",
   "execution_count": 5,
   "metadata": {},
   "outputs": [],
   "source": [
    "# rt_r_df = pd.read_csv('data/rt.reviews.tsv', sep = '\\t', encoding = 'latin1')\n",
    "# rt_r_df.head()"
   ]
  },
  {
   "cell_type": "code",
   "execution_count": 6,
   "metadata": {},
   "outputs": [],
   "source": [
    "# rt_info_df = pd.read_csv('data/rt.movie_info.tsv', sep = '\\t', encoding = 'latin1')\n",
    "# rt_info_df.head()"
   ]
  },
  {
   "cell_type": "code",
   "execution_count": 7,
   "metadata": {},
   "outputs": [
    {
     "data": {
      "text/html": [
       "<div>\n",
       "<style scoped>\n",
       "    .dataframe tbody tr th:only-of-type {\n",
       "        vertical-align: middle;\n",
       "    }\n",
       "\n",
       "    .dataframe tbody tr th {\n",
       "        vertical-align: top;\n",
       "    }\n",
       "\n",
       "    .dataframe thead th {\n",
       "        text-align: right;\n",
       "    }\n",
       "</style>\n",
       "<table border=\"1\" class=\"dataframe\">\n",
       "  <thead>\n",
       "    <tr style=\"text-align: right;\">\n",
       "      <th></th>\n",
       "      <th>movie_id</th>\n",
       "      <th>primary_title</th>\n",
       "      <th>original_title</th>\n",
       "      <th>start_year</th>\n",
       "      <th>runtime_minutes</th>\n",
       "      <th>genres</th>\n",
       "      <th>averagerating</th>\n",
       "      <th>numvotes</th>\n",
       "    </tr>\n",
       "  </thead>\n",
       "  <tbody>\n",
       "    <tr>\n",
       "      <th>0</th>\n",
       "      <td>tt0063540</td>\n",
       "      <td>Sunghursh</td>\n",
       "      <td>Sunghursh</td>\n",
       "      <td>2013</td>\n",
       "      <td>175.0</td>\n",
       "      <td>Action,Crime,Drama</td>\n",
       "      <td>7.0</td>\n",
       "      <td>77</td>\n",
       "    </tr>\n",
       "    <tr>\n",
       "      <th>1</th>\n",
       "      <td>tt0066787</td>\n",
       "      <td>One Day Before the Rainy Season</td>\n",
       "      <td>Ashad Ka Ek Din</td>\n",
       "      <td>2019</td>\n",
       "      <td>114.0</td>\n",
       "      <td>Biography,Drama</td>\n",
       "      <td>7.2</td>\n",
       "      <td>43</td>\n",
       "    </tr>\n",
       "    <tr>\n",
       "      <th>2</th>\n",
       "      <td>tt0069049</td>\n",
       "      <td>The Other Side of the Wind</td>\n",
       "      <td>The Other Side of the Wind</td>\n",
       "      <td>2018</td>\n",
       "      <td>122.0</td>\n",
       "      <td>Drama</td>\n",
       "      <td>6.9</td>\n",
       "      <td>4517</td>\n",
       "    </tr>\n",
       "    <tr>\n",
       "      <th>3</th>\n",
       "      <td>tt0100275</td>\n",
       "      <td>The Wandering Soap Opera</td>\n",
       "      <td>La Telenovela Errante</td>\n",
       "      <td>2017</td>\n",
       "      <td>80.0</td>\n",
       "      <td>Comedy,Drama,Fantasy</td>\n",
       "      <td>6.5</td>\n",
       "      <td>119</td>\n",
       "    </tr>\n",
       "    <tr>\n",
       "      <th>4</th>\n",
       "      <td>tt0112502</td>\n",
       "      <td>Bigfoot</td>\n",
       "      <td>Bigfoot</td>\n",
       "      <td>2017</td>\n",
       "      <td>NaN</td>\n",
       "      <td>Horror,Thriller</td>\n",
       "      <td>4.1</td>\n",
       "      <td>32</td>\n",
       "    </tr>\n",
       "    <tr>\n",
       "      <th>...</th>\n",
       "      <td>...</td>\n",
       "      <td>...</td>\n",
       "      <td>...</td>\n",
       "      <td>...</td>\n",
       "      <td>...</td>\n",
       "      <td>...</td>\n",
       "      <td>...</td>\n",
       "      <td>...</td>\n",
       "    </tr>\n",
       "    <tr>\n",
       "      <th>55515</th>\n",
       "      <td>tt9904844</td>\n",
       "      <td>Ott Tänak: The Movie</td>\n",
       "      <td>Ott Tänak: The Movie</td>\n",
       "      <td>2019</td>\n",
       "      <td>125.0</td>\n",
       "      <td>Documentary</td>\n",
       "      <td>8.7</td>\n",
       "      <td>218</td>\n",
       "    </tr>\n",
       "    <tr>\n",
       "      <th>55516</th>\n",
       "      <td>tt9905412</td>\n",
       "      <td>Ottam</td>\n",
       "      <td>Ottam</td>\n",
       "      <td>2019</td>\n",
       "      <td>120.0</td>\n",
       "      <td>Drama</td>\n",
       "      <td>8.1</td>\n",
       "      <td>505</td>\n",
       "    </tr>\n",
       "    <tr>\n",
       "      <th>55517</th>\n",
       "      <td>tt9905462</td>\n",
       "      <td>Pengalila</td>\n",
       "      <td>Pengalila</td>\n",
       "      <td>2019</td>\n",
       "      <td>111.0</td>\n",
       "      <td>Drama</td>\n",
       "      <td>8.4</td>\n",
       "      <td>600</td>\n",
       "    </tr>\n",
       "    <tr>\n",
       "      <th>55518</th>\n",
       "      <td>tt9911774</td>\n",
       "      <td>Padmavyuhathile Abhimanyu</td>\n",
       "      <td>Padmavyuhathile Abhimanyu</td>\n",
       "      <td>2019</td>\n",
       "      <td>130.0</td>\n",
       "      <td>Drama</td>\n",
       "      <td>8.4</td>\n",
       "      <td>365</td>\n",
       "    </tr>\n",
       "    <tr>\n",
       "      <th>55519</th>\n",
       "      <td>tt9914286</td>\n",
       "      <td>Sokagin Çocuklari</td>\n",
       "      <td>Sokagin Çocuklari</td>\n",
       "      <td>2019</td>\n",
       "      <td>98.0</td>\n",
       "      <td>Drama,Family</td>\n",
       "      <td>8.7</td>\n",
       "      <td>136</td>\n",
       "    </tr>\n",
       "  </tbody>\n",
       "</table>\n",
       "<p>55520 rows × 8 columns</p>\n",
       "</div>"
      ],
      "text/plain": [
       "        movie_id                    primary_title              original_title  \\\n",
       "0      tt0063540                        Sunghursh                   Sunghursh   \n",
       "1      tt0066787  One Day Before the Rainy Season             Ashad Ka Ek Din   \n",
       "2      tt0069049       The Other Side of the Wind  The Other Side of the Wind   \n",
       "3      tt0100275         The Wandering Soap Opera       La Telenovela Errante   \n",
       "4      tt0112502                          Bigfoot                     Bigfoot   \n",
       "...          ...                              ...                         ...   \n",
       "55515  tt9904844             Ott Tänak: The Movie        Ott Tänak: The Movie   \n",
       "55516  tt9905412                            Ottam                       Ottam   \n",
       "55517  tt9905462                        Pengalila                   Pengalila   \n",
       "55518  tt9911774        Padmavyuhathile Abhimanyu   Padmavyuhathile Abhimanyu   \n",
       "55519  tt9914286                Sokagin Çocuklari           Sokagin Çocuklari   \n",
       "\n",
       "       start_year  runtime_minutes                genres  averagerating  \\\n",
       "0            2013            175.0    Action,Crime,Drama            7.0   \n",
       "1            2019            114.0       Biography,Drama            7.2   \n",
       "2            2018            122.0                 Drama            6.9   \n",
       "3            2017             80.0  Comedy,Drama,Fantasy            6.5   \n",
       "4            2017              NaN       Horror,Thriller            4.1   \n",
       "...           ...              ...                   ...            ...   \n",
       "55515        2019            125.0           Documentary            8.7   \n",
       "55516        2019            120.0                 Drama            8.1   \n",
       "55517        2019            111.0                 Drama            8.4   \n",
       "55518        2019            130.0                 Drama            8.4   \n",
       "55519        2019             98.0          Drama,Family            8.7   \n",
       "\n",
       "       numvotes  \n",
       "0            77  \n",
       "1            43  \n",
       "2          4517  \n",
       "3           119  \n",
       "4            32  \n",
       "...         ...  \n",
       "55515       218  \n",
       "55516       505  \n",
       "55517       600  \n",
       "55518       365  \n",
       "55519       136  \n",
       "\n",
       "[55520 rows x 8 columns]"
      ]
     },
     "execution_count": 7,
     "metadata": {},
     "output_type": "execute_result"
    }
   ],
   "source": [
    "pysqldf = lambda q: sqldf(q, globals())\n",
    "conn = sqlite3.connect(\"data/im.db\")\n",
    "\n",
    "imdb_df = pd.read_sql(\"\"\"\n",
    "SELECT mb.movie_id, primary_title, original_title, start_year, runtime_minutes, genres, averagerating, numvotes\n",
    "FROM movie_basics as mb\n",
    "LEFT JOIN movie_ratings as mr\n",
    "ON mb.movie_id = mr.movie_id \n",
    "WHERE mb.start_year <= 2023 and mr.numvotes >= 14 and averagerating IS NOT NULL and mb.genres IS NOT NULL\n",
    "\"\"\", conn)\n",
    "\n",
    "imdb_df"
   ]
  },
  {
   "cell_type": "markdown",
   "metadata": {},
   "source": [
    "# Data Understanding"
   ]
  },
  {
   "cell_type": "code",
   "execution_count": 8,
   "metadata": {},
   "outputs": [],
   "source": [
    "# Function to calculate proportion of nulls to entire DataFrame\n",
    "\n",
    "def proportion_na(df):\n",
    "    return df.isna().sum()/len(df) * 100"
   ]
  },
  {
   "cell_type": "code",
   "execution_count": 9,
   "metadata": {},
   "outputs": [
    {
     "name": "stdout",
     "output_type": "stream",
     "text": [
      "start year: 2010 end year: 2018\n",
      "start year: 1930 end year: 2020\n",
      "start year: 1915 end year: 2020\n"
     ]
    }
   ],
   "source": [
    "# Change to datetime format to compare years in record\n",
    "\n",
    "tmdb_df['release_date'] = pd.to_datetime(tmdb_df['release_date'])\n",
    "tn_df['release_date'] = pd.to_datetime(tn_df['release_date'])\n",
    "\n",
    "print('start year:', bom_df['year'].min(), 'end year:', bom_df['year'].max())\n",
    "print('start year:', tmdb_df['release_date'].dt.year.min(), 'end year:', tmdb_df['release_date'].dt.year.max())\n",
    "print('start year:', tn_df['release_date'].dt.year.min(), 'end year:', tn_df['release_date'].dt.year.max())"
   ]
  },
  {
   "cell_type": "code",
   "execution_count": 10,
   "metadata": {},
   "outputs": [
    {
     "name": "stdout",
     "output_type": "stream",
     "text": [
      "1924\n",
      "1238\n",
      "2074\n",
      "2596\n"
     ]
    }
   ],
   "source": [
    "# Finding movie names that are in multiple DataFrames\n",
    "\n",
    "bom_movies = list(bom_df['title'].unique())\n",
    "tmdb_movies = list(tmdb_df['title'].unique())\n",
    "tn_movies = list(tn_df['movie'].unique())\n",
    "imdb_movies = list(imdb_df['primary_title'].unique())\n",
    "#len([x for x in bom_movies if x in tmdb_movies])\n",
    "\n",
    "print(len([x for x in tn_movies if x in tmdb_movies]))\n",
    "print(len([x for x in tn_movies if x in bom_movies]))\n",
    "print(len([x for x in tn_movies if x in imdb_movies]))\n",
    "print(len([x for x in imdb_movies if x in bom_movies]))"
   ]
  },
  {
   "cell_type": "markdown",
   "metadata": {},
   "source": [
    "# IMDB"
   ]
  },
  {
   "cell_type": "code",
   "execution_count": 11,
   "metadata": {},
   "outputs": [
    {
     "data": {
      "text/html": [
       "<div>\n",
       "<style scoped>\n",
       "    .dataframe tbody tr th:only-of-type {\n",
       "        vertical-align: middle;\n",
       "    }\n",
       "\n",
       "    .dataframe tbody tr th {\n",
       "        vertical-align: top;\n",
       "    }\n",
       "\n",
       "    .dataframe thead th {\n",
       "        text-align: right;\n",
       "    }\n",
       "</style>\n",
       "<table border=\"1\" class=\"dataframe\">\n",
       "  <thead>\n",
       "    <tr style=\"text-align: right;\">\n",
       "      <th></th>\n",
       "      <th>start_year</th>\n",
       "      <th>runtime_minutes</th>\n",
       "      <th>averagerating</th>\n",
       "      <th>numvotes</th>\n",
       "    </tr>\n",
       "  </thead>\n",
       "  <tbody>\n",
       "    <tr>\n",
       "      <th>count</th>\n",
       "      <td>55520.00000</td>\n",
       "      <td>51525.00000</td>\n",
       "      <td>55520.00000</td>\n",
       "      <td>55520.00000</td>\n",
       "    </tr>\n",
       "    <tr>\n",
       "      <th>mean</th>\n",
       "      <td>2014.29209</td>\n",
       "      <td>97.55179</td>\n",
       "      <td>6.16890</td>\n",
       "      <td>4684.40250</td>\n",
       "    </tr>\n",
       "    <tr>\n",
       "      <th>std</th>\n",
       "      <td>2.60509</td>\n",
       "      <td>235.95438</td>\n",
       "      <td>1.43526</td>\n",
       "      <td>34862.50738</td>\n",
       "    </tr>\n",
       "    <tr>\n",
       "      <th>min</th>\n",
       "      <td>2010.00000</td>\n",
       "      <td>5.00000</td>\n",
       "      <td>1.00000</td>\n",
       "      <td>14.00000</td>\n",
       "    </tr>\n",
       "    <tr>\n",
       "      <th>25%</th>\n",
       "      <td>2012.00000</td>\n",
       "      <td>84.00000</td>\n",
       "      <td>5.30000</td>\n",
       "      <td>34.00000</td>\n",
       "    </tr>\n",
       "    <tr>\n",
       "      <th>50%</th>\n",
       "      <td>2014.00000</td>\n",
       "      <td>93.00000</td>\n",
       "      <td>6.30000</td>\n",
       "      <td>109.00000</td>\n",
       "    </tr>\n",
       "    <tr>\n",
       "      <th>75%</th>\n",
       "      <td>2017.00000</td>\n",
       "      <td>105.00000</td>\n",
       "      <td>7.20000</td>\n",
       "      <td>500.00000</td>\n",
       "    </tr>\n",
       "    <tr>\n",
       "      <th>max</th>\n",
       "      <td>2019.00000</td>\n",
       "      <td>51420.00000</td>\n",
       "      <td>10.00000</td>\n",
       "      <td>1841066.00000</td>\n",
       "    </tr>\n",
       "  </tbody>\n",
       "</table>\n",
       "</div>"
      ],
      "text/plain": [
       "        start_year runtime_minutes averagerating       numvotes\n",
       "count  55520.00000     51525.00000   55520.00000    55520.00000\n",
       "mean    2014.29209        97.55179       6.16890     4684.40250\n",
       "std        2.60509       235.95438       1.43526    34862.50738\n",
       "min     2010.00000         5.00000       1.00000       14.00000\n",
       "25%     2012.00000        84.00000       5.30000       34.00000\n",
       "50%     2014.00000        93.00000       6.30000      109.00000\n",
       "75%     2017.00000       105.00000       7.20000      500.00000\n",
       "max     2019.00000     51420.00000      10.00000  1841066.00000"
      ]
     },
     "execution_count": 11,
     "metadata": {},
     "output_type": "execute_result"
    }
   ],
   "source": [
    "imdb_df.describe().apply(lambda s: s.apply('{0:.5f}'.format))"
   ]
  },
  {
   "cell_type": "code",
   "execution_count": 211,
   "metadata": {},
   "outputs": [
    {
     "data": {
      "text/plain": [
       "0        175.0\n",
       "1        114.0\n",
       "2        122.0\n",
       "3         80.0\n",
       "5         83.0\n",
       "         ...  \n",
       "55515    125.0\n",
       "55516    120.0\n",
       "55517    111.0\n",
       "55518    130.0\n",
       "55519     98.0\n",
       "Name: runtime_minutes, Length: 51516, dtype: float64"
      ]
     },
     "execution_count": 211,
     "metadata": {},
     "output_type": "execute_result"
    }
   ],
   "source": [
    "imdb_df[imdb_df['runtime_minutes'] < 500]['runtime_minutes']"
   ]
  },
  {
   "cell_type": "code",
   "execution_count": 12,
   "metadata": {},
   "outputs": [],
   "source": [
    "# # Filter out genres after war\n",
    "\n",
    "# genre_lst = list(genres_count[genres_count > 800].index)\n",
    "\n",
    "# dummy_df = imdb_df['genres'].str.get_dummies(',')[genre_lst]\n",
    "# imdb_genres_df = pd.concat([imdb_df, dummy_df], axis = 1)"
   ]
  },
  {
   "cell_type": "code",
   "execution_count": 13,
   "metadata": {},
   "outputs": [],
   "source": [
    "imdb_df['genres'] = imdb_df['genres'].str.split(',')"
   ]
  },
  {
   "cell_type": "code",
   "execution_count": 14,
   "metadata": {},
   "outputs": [
    {
     "data": {
      "text/html": [
       "<div>\n",
       "<style scoped>\n",
       "    .dataframe tbody tr th:only-of-type {\n",
       "        vertical-align: middle;\n",
       "    }\n",
       "\n",
       "    .dataframe tbody tr th {\n",
       "        vertical-align: top;\n",
       "    }\n",
       "\n",
       "    .dataframe thead th {\n",
       "        text-align: right;\n",
       "    }\n",
       "</style>\n",
       "<table border=\"1\" class=\"dataframe\">\n",
       "  <thead>\n",
       "    <tr style=\"text-align: right;\">\n",
       "      <th></th>\n",
       "      <th>movie_id</th>\n",
       "      <th>primary_title</th>\n",
       "      <th>original_title</th>\n",
       "      <th>start_year</th>\n",
       "      <th>runtime_minutes</th>\n",
       "      <th>genres</th>\n",
       "      <th>averagerating</th>\n",
       "      <th>numvotes</th>\n",
       "    </tr>\n",
       "  </thead>\n",
       "  <tbody>\n",
       "    <tr>\n",
       "      <th>0</th>\n",
       "      <td>tt0063540</td>\n",
       "      <td>Sunghursh</td>\n",
       "      <td>Sunghursh</td>\n",
       "      <td>2013</td>\n",
       "      <td>175.0</td>\n",
       "      <td>Action</td>\n",
       "      <td>7.0</td>\n",
       "      <td>77</td>\n",
       "    </tr>\n",
       "    <tr>\n",
       "      <th>0</th>\n",
       "      <td>tt0063540</td>\n",
       "      <td>Sunghursh</td>\n",
       "      <td>Sunghursh</td>\n",
       "      <td>2013</td>\n",
       "      <td>175.0</td>\n",
       "      <td>Crime</td>\n",
       "      <td>7.0</td>\n",
       "      <td>77</td>\n",
       "    </tr>\n",
       "    <tr>\n",
       "      <th>0</th>\n",
       "      <td>tt0063540</td>\n",
       "      <td>Sunghursh</td>\n",
       "      <td>Sunghursh</td>\n",
       "      <td>2013</td>\n",
       "      <td>175.0</td>\n",
       "      <td>Drama</td>\n",
       "      <td>7.0</td>\n",
       "      <td>77</td>\n",
       "    </tr>\n",
       "    <tr>\n",
       "      <th>1</th>\n",
       "      <td>tt0066787</td>\n",
       "      <td>One Day Before the Rainy Season</td>\n",
       "      <td>Ashad Ka Ek Din</td>\n",
       "      <td>2019</td>\n",
       "      <td>114.0</td>\n",
       "      <td>Biography</td>\n",
       "      <td>7.2</td>\n",
       "      <td>43</td>\n",
       "    </tr>\n",
       "    <tr>\n",
       "      <th>1</th>\n",
       "      <td>tt0066787</td>\n",
       "      <td>One Day Before the Rainy Season</td>\n",
       "      <td>Ashad Ka Ek Din</td>\n",
       "      <td>2019</td>\n",
       "      <td>114.0</td>\n",
       "      <td>Drama</td>\n",
       "      <td>7.2</td>\n",
       "      <td>43</td>\n",
       "    </tr>\n",
       "    <tr>\n",
       "      <th>...</th>\n",
       "      <td>...</td>\n",
       "      <td>...</td>\n",
       "      <td>...</td>\n",
       "      <td>...</td>\n",
       "      <td>...</td>\n",
       "      <td>...</td>\n",
       "      <td>...</td>\n",
       "      <td>...</td>\n",
       "    </tr>\n",
       "    <tr>\n",
       "      <th>55516</th>\n",
       "      <td>tt9905412</td>\n",
       "      <td>Ottam</td>\n",
       "      <td>Ottam</td>\n",
       "      <td>2019</td>\n",
       "      <td>120.0</td>\n",
       "      <td>Drama</td>\n",
       "      <td>8.1</td>\n",
       "      <td>505</td>\n",
       "    </tr>\n",
       "    <tr>\n",
       "      <th>55517</th>\n",
       "      <td>tt9905462</td>\n",
       "      <td>Pengalila</td>\n",
       "      <td>Pengalila</td>\n",
       "      <td>2019</td>\n",
       "      <td>111.0</td>\n",
       "      <td>Drama</td>\n",
       "      <td>8.4</td>\n",
       "      <td>600</td>\n",
       "    </tr>\n",
       "    <tr>\n",
       "      <th>55518</th>\n",
       "      <td>tt9911774</td>\n",
       "      <td>Padmavyuhathile Abhimanyu</td>\n",
       "      <td>Padmavyuhathile Abhimanyu</td>\n",
       "      <td>2019</td>\n",
       "      <td>130.0</td>\n",
       "      <td>Drama</td>\n",
       "      <td>8.4</td>\n",
       "      <td>365</td>\n",
       "    </tr>\n",
       "    <tr>\n",
       "      <th>55519</th>\n",
       "      <td>tt9914286</td>\n",
       "      <td>Sokagin Çocuklari</td>\n",
       "      <td>Sokagin Çocuklari</td>\n",
       "      <td>2019</td>\n",
       "      <td>98.0</td>\n",
       "      <td>Drama</td>\n",
       "      <td>8.7</td>\n",
       "      <td>136</td>\n",
       "    </tr>\n",
       "    <tr>\n",
       "      <th>55519</th>\n",
       "      <td>tt9914286</td>\n",
       "      <td>Sokagin Çocuklari</td>\n",
       "      <td>Sokagin Çocuklari</td>\n",
       "      <td>2019</td>\n",
       "      <td>98.0</td>\n",
       "      <td>Family</td>\n",
       "      <td>8.7</td>\n",
       "      <td>136</td>\n",
       "    </tr>\n",
       "  </tbody>\n",
       "</table>\n",
       "<p>100832 rows × 8 columns</p>\n",
       "</div>"
      ],
      "text/plain": [
       "        movie_id                    primary_title             original_title  \\\n",
       "0      tt0063540                        Sunghursh                  Sunghursh   \n",
       "0      tt0063540                        Sunghursh                  Sunghursh   \n",
       "0      tt0063540                        Sunghursh                  Sunghursh   \n",
       "1      tt0066787  One Day Before the Rainy Season            Ashad Ka Ek Din   \n",
       "1      tt0066787  One Day Before the Rainy Season            Ashad Ka Ek Din   \n",
       "...          ...                              ...                        ...   \n",
       "55516  tt9905412                            Ottam                      Ottam   \n",
       "55517  tt9905462                        Pengalila                  Pengalila   \n",
       "55518  tt9911774        Padmavyuhathile Abhimanyu  Padmavyuhathile Abhimanyu   \n",
       "55519  tt9914286                Sokagin Çocuklari          Sokagin Çocuklari   \n",
       "55519  tt9914286                Sokagin Çocuklari          Sokagin Çocuklari   \n",
       "\n",
       "       start_year  runtime_minutes     genres  averagerating  numvotes  \n",
       "0            2013            175.0     Action            7.0        77  \n",
       "0            2013            175.0      Crime            7.0        77  \n",
       "0            2013            175.0      Drama            7.0        77  \n",
       "1            2019            114.0  Biography            7.2        43  \n",
       "1            2019            114.0      Drama            7.2        43  \n",
       "...           ...              ...        ...            ...       ...  \n",
       "55516        2019            120.0      Drama            8.1       505  \n",
       "55517        2019            111.0      Drama            8.4       600  \n",
       "55518        2019            130.0      Drama            8.4       365  \n",
       "55519        2019             98.0      Drama            8.7       136  \n",
       "55519        2019             98.0     Family            8.7       136  \n",
       "\n",
       "[100832 rows x 8 columns]"
      ]
     },
     "execution_count": 14,
     "metadata": {},
     "output_type": "execute_result"
    }
   ],
   "source": [
    "imdb_genres_df = imdb_df.explode('genres')\n",
    "imdb_genres_df"
   ]
  },
  {
   "cell_type": "code",
   "execution_count": 15,
   "metadata": {},
   "outputs": [
    {
     "data": {
      "text/html": [
       "<div>\n",
       "<style scoped>\n",
       "    .dataframe tbody tr th:only-of-type {\n",
       "        vertical-align: middle;\n",
       "    }\n",
       "\n",
       "    .dataframe tbody tr th {\n",
       "        vertical-align: top;\n",
       "    }\n",
       "\n",
       "    .dataframe thead tr th {\n",
       "        text-align: left;\n",
       "    }\n",
       "\n",
       "    .dataframe thead tr:last-of-type th {\n",
       "        text-align: right;\n",
       "    }\n",
       "</style>\n",
       "<table border=\"1\" class=\"dataframe\">\n",
       "  <thead>\n",
       "    <tr>\n",
       "      <th></th>\n",
       "      <th colspan=\"2\" halign=\"left\">averagerating</th>\n",
       "      <th colspan=\"2\" halign=\"left\">numvotes</th>\n",
       "    </tr>\n",
       "    <tr>\n",
       "      <th></th>\n",
       "      <th>mean</th>\n",
       "      <th>median</th>\n",
       "      <th>mean</th>\n",
       "      <th>median</th>\n",
       "    </tr>\n",
       "    <tr>\n",
       "      <th>genres</th>\n",
       "      <th></th>\n",
       "      <th></th>\n",
       "      <th></th>\n",
       "      <th></th>\n",
       "    </tr>\n",
       "  </thead>\n",
       "  <tbody>\n",
       "    <tr>\n",
       "      <th>Documentary</th>\n",
       "      <td>7.275600</td>\n",
       "      <td>7.3</td>\n",
       "      <td>435.425237</td>\n",
       "      <td>47.0</td>\n",
       "    </tr>\n",
       "    <tr>\n",
       "      <th>News</th>\n",
       "      <td>7.275211</td>\n",
       "      <td>7.3</td>\n",
       "      <td>342.107042</td>\n",
       "      <td>50.0</td>\n",
       "    </tr>\n",
       "    <tr>\n",
       "      <th>Biography</th>\n",
       "      <td>7.065687</td>\n",
       "      <td>7.1</td>\n",
       "      <td>7834.902430</td>\n",
       "      <td>121.0</td>\n",
       "    </tr>\n",
       "    <tr>\n",
       "      <th>Music</th>\n",
       "      <td>6.986226</td>\n",
       "      <td>7.1</td>\n",
       "      <td>3752.785813</td>\n",
       "      <td>94.5</td>\n",
       "    </tr>\n",
       "    <tr>\n",
       "      <th>History</th>\n",
       "      <td>6.918747</td>\n",
       "      <td>7.0</td>\n",
       "      <td>3896.922924</td>\n",
       "      <td>100.0</td>\n",
       "    </tr>\n",
       "    <tr>\n",
       "      <th>Sport</th>\n",
       "      <td>6.848799</td>\n",
       "      <td>7.0</td>\n",
       "      <td>4097.934498</td>\n",
       "      <td>141.5</td>\n",
       "    </tr>\n",
       "    <tr>\n",
       "      <th>War</th>\n",
       "      <td>6.471300</td>\n",
       "      <td>6.7</td>\n",
       "      <td>4010.889387</td>\n",
       "      <td>188.0</td>\n",
       "    </tr>\n",
       "    <tr>\n",
       "      <th>Reality-TV</th>\n",
       "      <td>6.400000</td>\n",
       "      <td>6.3</td>\n",
       "      <td>40.400000</td>\n",
       "      <td>29.5</td>\n",
       "    </tr>\n",
       "    <tr>\n",
       "      <th>Musical</th>\n",
       "      <td>6.389041</td>\n",
       "      <td>6.5</td>\n",
       "      <td>2712.616438</td>\n",
       "      <td>94.0</td>\n",
       "    </tr>\n",
       "    <tr>\n",
       "      <th>Drama</th>\n",
       "      <td>6.309374</td>\n",
       "      <td>6.4</td>\n",
       "      <td>4841.848161</td>\n",
       "      <td>134.0</td>\n",
       "    </tr>\n",
       "  </tbody>\n",
       "</table>\n",
       "</div>"
      ],
      "text/plain": [
       "            averagerating            numvotes       \n",
       "                     mean median         mean median\n",
       "genres                                              \n",
       "Documentary      7.275600    7.3   435.425237   47.0\n",
       "News             7.275211    7.3   342.107042   50.0\n",
       "Biography        7.065687    7.1  7834.902430  121.0\n",
       "Music            6.986226    7.1  3752.785813   94.5\n",
       "History          6.918747    7.0  3896.922924  100.0\n",
       "Sport            6.848799    7.0  4097.934498  141.5\n",
       "War              6.471300    6.7  4010.889387  188.0\n",
       "Reality-TV       6.400000    6.3    40.400000   29.5\n",
       "Musical          6.389041    6.5  2712.616438   94.0\n",
       "Drama            6.309374    6.4  4841.848161  134.0"
      ]
     },
     "execution_count": 15,
     "metadata": {},
     "output_type": "execute_result"
    }
   ],
   "source": [
    "imdb_genres_df.groupby('genres')[['averagerating', 'numvotes']].agg(['mean', 'median'])\\\n",
    ".sort_values(by = ('averagerating', 'mean'), ascending = False)[:10]"
   ]
  },
  {
   "cell_type": "markdown",
   "metadata": {},
   "source": [
    "# The Movie DB"
   ]
  },
  {
   "cell_type": "code",
   "execution_count": 16,
   "metadata": {},
   "outputs": [
    {
     "data": {
      "text/plain": [
       "genre_ids            0.0\n",
       "id                   0.0\n",
       "original_language    0.0\n",
       "original_title       0.0\n",
       "popularity           0.0\n",
       "release_date         0.0\n",
       "title                0.0\n",
       "vote_average         0.0\n",
       "vote_count           0.0\n",
       "dtype: float64"
      ]
     },
     "execution_count": 16,
     "metadata": {},
     "output_type": "execute_result"
    }
   ],
   "source": [
    "# Check NA\n",
    "\n",
    "proportion_na(tmdb_df)"
   ]
  },
  {
   "cell_type": "code",
   "execution_count": 17,
   "metadata": {},
   "outputs": [
    {
     "data": {
      "text/html": [
       "<div>\n",
       "<style scoped>\n",
       "    .dataframe tbody tr th:only-of-type {\n",
       "        vertical-align: middle;\n",
       "    }\n",
       "\n",
       "    .dataframe tbody tr th {\n",
       "        vertical-align: top;\n",
       "    }\n",
       "\n",
       "    .dataframe thead th {\n",
       "        text-align: right;\n",
       "    }\n",
       "</style>\n",
       "<table border=\"1\" class=\"dataframe\">\n",
       "  <thead>\n",
       "    <tr style=\"text-align: right;\">\n",
       "      <th></th>\n",
       "      <th>genre_ids</th>\n",
       "      <th>id</th>\n",
       "      <th>original_language</th>\n",
       "      <th>original_title</th>\n",
       "      <th>popularity</th>\n",
       "      <th>release_date</th>\n",
       "      <th>title</th>\n",
       "      <th>vote_average</th>\n",
       "      <th>vote_count</th>\n",
       "    </tr>\n",
       "  </thead>\n",
       "  <tbody>\n",
       "    <tr>\n",
       "      <th>3</th>\n",
       "      <td>[16, 35, 10751]</td>\n",
       "      <td>862</td>\n",
       "      <td>en</td>\n",
       "      <td>Toy Story</td>\n",
       "      <td>28.005</td>\n",
       "      <td>1995-11-22</td>\n",
       "      <td>Toy Story</td>\n",
       "      <td>7.9</td>\n",
       "      <td>10174</td>\n",
       "    </tr>\n",
       "    <tr>\n",
       "      <th>10</th>\n",
       "      <td>[16, 35, 10751]</td>\n",
       "      <td>863</td>\n",
       "      <td>en</td>\n",
       "      <td>Toy Story 2</td>\n",
       "      <td>22.698</td>\n",
       "      <td>1999-11-24</td>\n",
       "      <td>Toy Story 2</td>\n",
       "      <td>7.5</td>\n",
       "      <td>7553</td>\n",
       "    </tr>\n",
       "    <tr>\n",
       "      <th>43</th>\n",
       "      <td>[35, 10749]</td>\n",
       "      <td>239</td>\n",
       "      <td>en</td>\n",
       "      <td>Some Like It Hot</td>\n",
       "      <td>14.200</td>\n",
       "      <td>1959-03-18</td>\n",
       "      <td>Some Like It Hot</td>\n",
       "      <td>8.2</td>\n",
       "      <td>1562</td>\n",
       "    </tr>\n",
       "    <tr>\n",
       "      <th>54</th>\n",
       "      <td>[12, 28, 878]</td>\n",
       "      <td>20526</td>\n",
       "      <td>en</td>\n",
       "      <td>TRON: Legacy</td>\n",
       "      <td>13.459</td>\n",
       "      <td>2010-12-10</td>\n",
       "      <td>TRON: Legacy</td>\n",
       "      <td>6.3</td>\n",
       "      <td>4387</td>\n",
       "    </tr>\n",
       "    <tr>\n",
       "      <th>56</th>\n",
       "      <td>[35, 16, 10751]</td>\n",
       "      <td>9994</td>\n",
       "      <td>en</td>\n",
       "      <td>The Great Mouse Detective</td>\n",
       "      <td>13.348</td>\n",
       "      <td>1986-07-02</td>\n",
       "      <td>The Great Mouse Detective</td>\n",
       "      <td>7.1</td>\n",
       "      <td>769</td>\n",
       "    </tr>\n",
       "  </tbody>\n",
       "</table>\n",
       "</div>"
      ],
      "text/plain": [
       "          genre_ids     id original_language             original_title  \\\n",
       "3   [16, 35, 10751]    862                en                  Toy Story   \n",
       "10  [16, 35, 10751]    863                en                Toy Story 2   \n",
       "43      [35, 10749]    239                en           Some Like It Hot   \n",
       "54    [12, 28, 878]  20526                en               TRON: Legacy   \n",
       "56  [35, 16, 10751]   9994                en  The Great Mouse Detective   \n",
       "\n",
       "    popularity release_date                      title  vote_average  \\\n",
       "3       28.005   1995-11-22                  Toy Story           7.9   \n",
       "10      22.698   1999-11-24                Toy Story 2           7.5   \n",
       "43      14.200   1959-03-18           Some Like It Hot           8.2   \n",
       "54      13.459   2010-12-10               TRON: Legacy           6.3   \n",
       "56      13.348   1986-07-02  The Great Mouse Detective           7.1   \n",
       "\n",
       "    vote_count  \n",
       "3        10174  \n",
       "10        7553  \n",
       "43        1562  \n",
       "54        4387  \n",
       "56         769  "
      ]
     },
     "execution_count": 17,
     "metadata": {},
     "output_type": "execute_result"
    }
   ],
   "source": [
    "# Check duplicates\n",
    "\n",
    "tmdb_df[tmdb_df.duplicated()]\n",
    "\n",
    "# Find IDs with more than 1 row\n",
    "vc = tmdb_df['id'].value_counts()\n",
    "more_than_1_id = list(vc[vc > 1].index)\n",
    "\n",
    "tmdb_df[tmdb_df['id'].map(lambda x: True if x in more_than_1_id else False)].head()"
   ]
  },
  {
   "cell_type": "code",
   "execution_count": 18,
   "metadata": {},
   "outputs": [
    {
     "data": {
      "text/html": [
       "<div>\n",
       "<style scoped>\n",
       "    .dataframe tbody tr th:only-of-type {\n",
       "        vertical-align: middle;\n",
       "    }\n",
       "\n",
       "    .dataframe tbody tr th {\n",
       "        vertical-align: top;\n",
       "    }\n",
       "\n",
       "    .dataframe thead th {\n",
       "        text-align: right;\n",
       "    }\n",
       "</style>\n",
       "<table border=\"1\" class=\"dataframe\">\n",
       "  <thead>\n",
       "    <tr style=\"text-align: right;\">\n",
       "      <th></th>\n",
       "      <th>genre_ids</th>\n",
       "      <th>id</th>\n",
       "      <th>original_language</th>\n",
       "      <th>original_title</th>\n",
       "      <th>popularity</th>\n",
       "      <th>release_date</th>\n",
       "      <th>title</th>\n",
       "      <th>vote_average</th>\n",
       "      <th>vote_count</th>\n",
       "    </tr>\n",
       "  </thead>\n",
       "  <tbody>\n",
       "    <tr>\n",
       "      <th>3</th>\n",
       "      <td>[16, 35, 10751]</td>\n",
       "      <td>862</td>\n",
       "      <td>en</td>\n",
       "      <td>Toy Story</td>\n",
       "      <td>28.005</td>\n",
       "      <td>1995-11-22</td>\n",
       "      <td>Toy Story</td>\n",
       "      <td>7.9</td>\n",
       "      <td>10174</td>\n",
       "    </tr>\n",
       "    <tr>\n",
       "      <th>2473</th>\n",
       "      <td>[16, 35, 10751]</td>\n",
       "      <td>862</td>\n",
       "      <td>en</td>\n",
       "      <td>Toy Story</td>\n",
       "      <td>28.005</td>\n",
       "      <td>1995-11-22</td>\n",
       "      <td>Toy Story</td>\n",
       "      <td>7.9</td>\n",
       "      <td>10174</td>\n",
       "    </tr>\n",
       "  </tbody>\n",
       "</table>\n",
       "</div>"
      ],
      "text/plain": [
       "            genre_ids   id original_language original_title  popularity  \\\n",
       "3     [16, 35, 10751]  862                en      Toy Story      28.005   \n",
       "2473  [16, 35, 10751]  862                en      Toy Story      28.005   \n",
       "\n",
       "     release_date      title  vote_average  vote_count  \n",
       "3      1995-11-22  Toy Story           7.9       10174  \n",
       "2473   1995-11-22  Toy Story           7.9       10174  "
      ]
     },
     "execution_count": 18,
     "metadata": {},
     "output_type": "execute_result"
    }
   ],
   "source": [
    "# Look into movies with duplicate IDs\n",
    "\n",
    "tmdb_df[tmdb_df['id'] == 862]"
   ]
  },
  {
   "cell_type": "code",
   "execution_count": 19,
   "metadata": {},
   "outputs": [
    {
     "data": {
      "text/html": [
       "<div>\n",
       "<style scoped>\n",
       "    .dataframe tbody tr th:only-of-type {\n",
       "        vertical-align: middle;\n",
       "    }\n",
       "\n",
       "    .dataframe tbody tr th {\n",
       "        vertical-align: top;\n",
       "    }\n",
       "\n",
       "    .dataframe thead th {\n",
       "        text-align: right;\n",
       "    }\n",
       "</style>\n",
       "<table border=\"1\" class=\"dataframe\">\n",
       "  <thead>\n",
       "    <tr style=\"text-align: right;\">\n",
       "      <th></th>\n",
       "      <th>genre_ids</th>\n",
       "      <th>id</th>\n",
       "      <th>original_language</th>\n",
       "      <th>original_title</th>\n",
       "      <th>popularity</th>\n",
       "      <th>release_date</th>\n",
       "      <th>title</th>\n",
       "      <th>vote_average</th>\n",
       "      <th>vote_count</th>\n",
       "    </tr>\n",
       "  </thead>\n",
       "  <tbody>\n",
       "    <tr>\n",
       "      <th>23804</th>\n",
       "      <td>[99]</td>\n",
       "      <td>492837</td>\n",
       "      <td>en</td>\n",
       "      <td>Making Filmmakers</td>\n",
       "      <td>0.6</td>\n",
       "      <td>2018-04-07</td>\n",
       "      <td>Making Filmmakers</td>\n",
       "      <td>0.0</td>\n",
       "      <td>1</td>\n",
       "    </tr>\n",
       "    <tr>\n",
       "      <th>26511</th>\n",
       "      <td>[99]</td>\n",
       "      <td>492837</td>\n",
       "      <td>en</td>\n",
       "      <td>Making Filmmakers</td>\n",
       "      <td>0.6</td>\n",
       "      <td>2018-04-07</td>\n",
       "      <td>Making Filmmakers</td>\n",
       "      <td>0.0</td>\n",
       "      <td>1</td>\n",
       "    </tr>\n",
       "  </tbody>\n",
       "</table>\n",
       "</div>"
      ],
      "text/plain": [
       "      genre_ids      id original_language     original_title  popularity  \\\n",
       "23804      [99]  492837                en  Making Filmmakers         0.6   \n",
       "26511      [99]  492837                en  Making Filmmakers         0.6   \n",
       "\n",
       "      release_date              title  vote_average  vote_count  \n",
       "23804   2018-04-07  Making Filmmakers           0.0           1  \n",
       "26511   2018-04-07  Making Filmmakers           0.0           1  "
      ]
     },
     "execution_count": 19,
     "metadata": {},
     "output_type": "execute_result"
    }
   ],
   "source": [
    "tmdb_df[tmdb_df['id'] == 492837]"
   ]
  },
  {
   "cell_type": "code",
   "execution_count": 20,
   "metadata": {},
   "outputs": [
    {
     "data": {
      "text/html": [
       "<div>\n",
       "<style scoped>\n",
       "    .dataframe tbody tr th:only-of-type {\n",
       "        vertical-align: middle;\n",
       "    }\n",
       "\n",
       "    .dataframe tbody tr th {\n",
       "        vertical-align: top;\n",
       "    }\n",
       "\n",
       "    .dataframe thead th {\n",
       "        text-align: right;\n",
       "    }\n",
       "</style>\n",
       "<table border=\"1\" class=\"dataframe\">\n",
       "  <thead>\n",
       "    <tr style=\"text-align: right;\">\n",
       "      <th></th>\n",
       "      <th>genre_ids</th>\n",
       "      <th>id</th>\n",
       "      <th>original_language</th>\n",
       "      <th>original_title</th>\n",
       "      <th>popularity</th>\n",
       "      <th>release_date</th>\n",
       "      <th>title</th>\n",
       "      <th>vote_average</th>\n",
       "      <th>vote_count</th>\n",
       "    </tr>\n",
       "  </thead>\n",
       "  <tbody>\n",
       "    <tr>\n",
       "      <th>5838</th>\n",
       "      <td>[18, 53]</td>\n",
       "      <td>292086</td>\n",
       "      <td>en</td>\n",
       "      <td>Come Morning</td>\n",
       "      <td>3.013</td>\n",
       "      <td>2012-10-21</td>\n",
       "      <td>Come Morning</td>\n",
       "      <td>6.3</td>\n",
       "      <td>5</td>\n",
       "    </tr>\n",
       "    <tr>\n",
       "      <th>11836</th>\n",
       "      <td>[18, 53]</td>\n",
       "      <td>292086</td>\n",
       "      <td>en</td>\n",
       "      <td>Come Morning</td>\n",
       "      <td>3.013</td>\n",
       "      <td>2012-10-21</td>\n",
       "      <td>Come Morning</td>\n",
       "      <td>6.3</td>\n",
       "      <td>5</td>\n",
       "    </tr>\n",
       "    <tr>\n",
       "      <th>21565</th>\n",
       "      <td>[18, 53]</td>\n",
       "      <td>292086</td>\n",
       "      <td>en</td>\n",
       "      <td>Come Morning</td>\n",
       "      <td>3.013</td>\n",
       "      <td>2012-10-21</td>\n",
       "      <td>Come Morning</td>\n",
       "      <td>6.3</td>\n",
       "      <td>5</td>\n",
       "    </tr>\n",
       "  </tbody>\n",
       "</table>\n",
       "</div>"
      ],
      "text/plain": [
       "      genre_ids      id original_language original_title  popularity  \\\n",
       "5838   [18, 53]  292086                en   Come Morning       3.013   \n",
       "11836  [18, 53]  292086                en   Come Morning       3.013   \n",
       "21565  [18, 53]  292086                en   Come Morning       3.013   \n",
       "\n",
       "      release_date         title  vote_average  vote_count  \n",
       "5838    2012-10-21  Come Morning           6.3           5  \n",
       "11836   2012-10-21  Come Morning           6.3           5  \n",
       "21565   2012-10-21  Come Morning           6.3           5  "
      ]
     },
     "execution_count": 20,
     "metadata": {},
     "output_type": "execute_result"
    }
   ],
   "source": [
    "tmdb_df[tmdb_df['id'] == 292086]"
   ]
  },
  {
   "cell_type": "code",
   "execution_count": 21,
   "metadata": {},
   "outputs": [],
   "source": [
    "# Safe to drop duplicates\n",
    "\n",
    "tmdb_df.drop_duplicates(subset = 'id', inplace = True)"
   ]
  },
  {
   "cell_type": "markdown",
   "metadata": {},
   "source": [
    "### Summary Statistics"
   ]
  },
  {
   "cell_type": "code",
   "execution_count": 22,
   "metadata": {},
   "outputs": [
    {
     "name": "stdout",
     "output_type": "stream",
     "text": [
      "<class 'pandas.core.frame.DataFrame'>\n",
      "Int64Index: 25497 entries, 0 to 26516\n",
      "Data columns (total 9 columns):\n",
      " #   Column             Non-Null Count  Dtype         \n",
      "---  ------             --------------  -----         \n",
      " 0   genre_ids          25497 non-null  object        \n",
      " 1   id                 25497 non-null  int64         \n",
      " 2   original_language  25497 non-null  object        \n",
      " 3   original_title     25497 non-null  object        \n",
      " 4   popularity         25497 non-null  float64       \n",
      " 5   release_date       25497 non-null  datetime64[ns]\n",
      " 6   title              25497 non-null  object        \n",
      " 7   vote_average       25497 non-null  float64       \n",
      " 8   vote_count         25497 non-null  int64         \n",
      "dtypes: datetime64[ns](1), float64(2), int64(2), object(4)\n",
      "memory usage: 1.9+ MB\n"
     ]
    }
   ],
   "source": [
    "tmdb_df.info()"
   ]
  },
  {
   "cell_type": "code",
   "execution_count": 23,
   "metadata": {},
   "outputs": [
    {
     "data": {
      "text/html": [
       "<div>\n",
       "<style scoped>\n",
       "    .dataframe tbody tr th:only-of-type {\n",
       "        vertical-align: middle;\n",
       "    }\n",
       "\n",
       "    .dataframe tbody tr th {\n",
       "        vertical-align: top;\n",
       "    }\n",
       "\n",
       "    .dataframe thead th {\n",
       "        text-align: right;\n",
       "    }\n",
       "</style>\n",
       "<table border=\"1\" class=\"dataframe\">\n",
       "  <thead>\n",
       "    <tr style=\"text-align: right;\">\n",
       "      <th></th>\n",
       "      <th>id</th>\n",
       "      <th>popularity</th>\n",
       "      <th>vote_average</th>\n",
       "      <th>vote_count</th>\n",
       "    </tr>\n",
       "  </thead>\n",
       "  <tbody>\n",
       "    <tr>\n",
       "      <th>count</th>\n",
       "      <td>25497.000000</td>\n",
       "      <td>25497.000000</td>\n",
       "      <td>25497.000000</td>\n",
       "      <td>25497.000000</td>\n",
       "    </tr>\n",
       "    <tr>\n",
       "      <th>mean</th>\n",
       "      <td>294203.960505</td>\n",
       "      <td>3.043279</td>\n",
       "      <td>5.979331</td>\n",
       "      <td>178.795780</td>\n",
       "    </tr>\n",
       "    <tr>\n",
       "      <th>std</th>\n",
       "      <td>154690.249660</td>\n",
       "      <td>4.261045</td>\n",
       "      <td>1.866094</td>\n",
       "      <td>914.150311</td>\n",
       "    </tr>\n",
       "    <tr>\n",
       "      <th>min</th>\n",
       "      <td>27.000000</td>\n",
       "      <td>0.600000</td>\n",
       "      <td>0.000000</td>\n",
       "      <td>1.000000</td>\n",
       "    </tr>\n",
       "    <tr>\n",
       "      <th>25%</th>\n",
       "      <td>154770.000000</td>\n",
       "      <td>0.600000</td>\n",
       "      <td>5.000000</td>\n",
       "      <td>1.000000</td>\n",
       "    </tr>\n",
       "    <tr>\n",
       "      <th>50%</th>\n",
       "      <td>307125.000000</td>\n",
       "      <td>1.321000</td>\n",
       "      <td>6.000000</td>\n",
       "      <td>5.000000</td>\n",
       "    </tr>\n",
       "    <tr>\n",
       "      <th>75%</th>\n",
       "      <td>420707.000000</td>\n",
       "      <td>3.490000</td>\n",
       "      <td>7.000000</td>\n",
       "      <td>25.000000</td>\n",
       "    </tr>\n",
       "    <tr>\n",
       "      <th>max</th>\n",
       "      <td>608444.000000</td>\n",
       "      <td>80.773000</td>\n",
       "      <td>10.000000</td>\n",
       "      <td>22186.000000</td>\n",
       "    </tr>\n",
       "  </tbody>\n",
       "</table>\n",
       "</div>"
      ],
      "text/plain": [
       "                  id    popularity  vote_average    vote_count\n",
       "count   25497.000000  25497.000000  25497.000000  25497.000000\n",
       "mean   294203.960505      3.043279      5.979331    178.795780\n",
       "std    154690.249660      4.261045      1.866094    914.150311\n",
       "min        27.000000      0.600000      0.000000      1.000000\n",
       "25%    154770.000000      0.600000      5.000000      1.000000\n",
       "50%    307125.000000      1.321000      6.000000      5.000000\n",
       "75%    420707.000000      3.490000      7.000000     25.000000\n",
       "max    608444.000000     80.773000     10.000000  22186.000000"
      ]
     },
     "execution_count": 23,
     "metadata": {},
     "output_type": "execute_result"
    }
   ],
   "source": [
    "tmdb_df.describe()"
   ]
  },
  {
   "cell_type": "code",
   "execution_count": 24,
   "metadata": {},
   "outputs": [
    {
     "data": {
      "text/plain": [
       "<AxesSubplot:ylabel='popularity'>"
      ]
     },
     "execution_count": 24,
     "metadata": {},
     "output_type": "execute_result"
    },
    {
     "data": {
      "image/png": "[encoded data removed]",
      "text/plain": [
       "<Figure size 1152x432 with 2 Axes>"
      ]
     },
     "metadata": {
      "needs_background": "light"
     },
     "output_type": "display_data"
    }
   ],
   "source": [
    "fig, (ax1, ax2) = plt.subplots(1, 2, figsize = (16, 6))\n",
    "\n",
    "sns.histplot(tmdb_df['popularity'], kde = True, bins = 20, ax = ax1)\n",
    "sns.boxplot(y = tmdb_df['popularity'], showmeans = True, \n",
    "            meanprops={\"marker\":\"*\", \"markerfacecolor\":\"white\", \"markeredgecolor\":\"blue\", \"markersize\": \"10\"},\n",
    "            medianprops={'color': 'red', 'linewidth': 2},  ax = ax2)"
   ]
  },
  {
   "cell_type": "code",
   "execution_count": 25,
   "metadata": {},
   "outputs": [
    {
     "data": {
      "text/plain": [
       "<AxesSubplot:ylabel='vote_average'>"
      ]
     },
     "execution_count": 25,
     "metadata": {},
     "output_type": "execute_result"
    },
    {
     "data": {
      "image/png": "[encoded data removed]",
      "text/plain": [
       "<Figure size 1152x432 with 2 Axes>"
      ]
     },
     "metadata": {
      "needs_background": "light"
     },
     "output_type": "display_data"
    }
   ],
   "source": [
    "fig, (ax1, ax2) = plt.subplots(1, 2, figsize = (16, 6))\n",
    "\n",
    "sns.histplot(tmdb_df['vote_average'], kde = True, bins = 20, ax = ax1)\n",
    "sns.boxplot(y = tmdb_df['vote_average'], showmeans = True, \n",
    "            meanprops={\"marker\":\"*\", \"markerfacecolor\":\"white\", \"markeredgecolor\":\"blue\", \"markersize\": \"10\"},\n",
    "            medianprops={'color': 'red', 'linewidth': 2},  ax = ax2)"
   ]
  },
  {
   "cell_type": "code",
   "execution_count": 26,
   "metadata": {},
   "outputs": [
    {
     "data": {
      "text/plain": [
       "<AxesSubplot:ylabel='vote_count'>"
      ]
     },
     "execution_count": 26,
     "metadata": {},
     "output_type": "execute_result"
    },
    {
     "data": {
      "image/png": "[encoded data removed]",
      "text/plain": [
       "<Figure size 1152x432 with 2 Axes>"
      ]
     },
     "metadata": {
      "needs_background": "light"
     },
     "output_type": "display_data"
    }
   ],
   "source": [
    "fig, (ax1, ax2) = plt.subplots(1, 2, figsize = (16, 6))\n",
    "\n",
    "sns.histplot(tmdb_df['vote_count'], kde = True, bins = 20, ax = ax1)\n",
    "sns.boxplot(y = tmdb_df['vote_count'], showmeans = True, \n",
    "            meanprops={\"marker\":\"*\", \"markerfacecolor\":\"white\", \"markeredgecolor\":\"blue\", \"markersize\": \"10\"},\n",
    "            medianprops={'color': 'red', 'linewidth': 2},  ax = ax2)"
   ]
  },
  {
   "cell_type": "markdown",
   "metadata": {},
   "source": [
    "### Vote average follows a near-normal distribution, with mean and median around 6. Vote count & popularity have long tails with many outliers\n",
    "\n",
    "- Popularity correlation with vote average & vote count?\n",
    "- Feature engineer weighted score?\n",
    "- Possible 80/20 distribution (genres vs. box office)?\n",
    "- Best month to release movies?\n",
    "- Time period sampling: budget vs. revenue behavior across different time periods \n",
    "- Budget confidence interval"
   ]
  },
  {
   "cell_type": "code",
   "execution_count": 27,
   "metadata": {},
   "outputs": [
    {
     "data": {
      "text/html": [
       "<div>\n",
       "<style scoped>\n",
       "    .dataframe tbody tr th:only-of-type {\n",
       "        vertical-align: middle;\n",
       "    }\n",
       "\n",
       "    .dataframe tbody tr th {\n",
       "        vertical-align: top;\n",
       "    }\n",
       "\n",
       "    .dataframe thead th {\n",
       "        text-align: right;\n",
       "    }\n",
       "</style>\n",
       "<table border=\"1\" class=\"dataframe\">\n",
       "  <thead>\n",
       "    <tr style=\"text-align: right;\">\n",
       "      <th></th>\n",
       "      <th>genre_ids</th>\n",
       "      <th>id</th>\n",
       "      <th>original_language</th>\n",
       "      <th>original_title</th>\n",
       "      <th>popularity</th>\n",
       "      <th>release_date</th>\n",
       "      <th>title</th>\n",
       "      <th>vote_average</th>\n",
       "      <th>vote_count</th>\n",
       "    </tr>\n",
       "  </thead>\n",
       "  <tbody>\n",
       "    <tr>\n",
       "      <th>23811</th>\n",
       "      <td>[12, 28, 14]</td>\n",
       "      <td>299536</td>\n",
       "      <td>en</td>\n",
       "      <td>Avengers: Infinity War</td>\n",
       "      <td>80.773</td>\n",
       "      <td>2018-04-27</td>\n",
       "      <td>Avengers: Infinity War</td>\n",
       "      <td>8.3</td>\n",
       "      <td>13948</td>\n",
       "    </tr>\n",
       "    <tr>\n",
       "      <th>11019</th>\n",
       "      <td>[28, 53]</td>\n",
       "      <td>245891</td>\n",
       "      <td>en</td>\n",
       "      <td>John Wick</td>\n",
       "      <td>78.123</td>\n",
       "      <td>2014-10-24</td>\n",
       "      <td>John Wick</td>\n",
       "      <td>7.2</td>\n",
       "      <td>10081</td>\n",
       "    </tr>\n",
       "    <tr>\n",
       "      <th>23812</th>\n",
       "      <td>[28, 12, 16, 878, 35]</td>\n",
       "      <td>324857</td>\n",
       "      <td>en</td>\n",
       "      <td>Spider-Man: Into the Spider-Verse</td>\n",
       "      <td>60.534</td>\n",
       "      <td>2018-12-14</td>\n",
       "      <td>Spider-Man: Into the Spider-Verse</td>\n",
       "      <td>8.4</td>\n",
       "      <td>4048</td>\n",
       "    </tr>\n",
       "    <tr>\n",
       "      <th>11020</th>\n",
       "      <td>[28, 12, 14]</td>\n",
       "      <td>122917</td>\n",
       "      <td>en</td>\n",
       "      <td>The Hobbit: The Battle of the Five Armies</td>\n",
       "      <td>53.783</td>\n",
       "      <td>2014-12-17</td>\n",
       "      <td>The Hobbit: The Battle of the Five Armies</td>\n",
       "      <td>7.3</td>\n",
       "      <td>8392</td>\n",
       "    </tr>\n",
       "    <tr>\n",
       "      <th>5179</th>\n",
       "      <td>[878, 28, 12]</td>\n",
       "      <td>24428</td>\n",
       "      <td>en</td>\n",
       "      <td>The Avengers</td>\n",
       "      <td>50.289</td>\n",
       "      <td>2012-05-04</td>\n",
       "      <td>The Avengers</td>\n",
       "      <td>7.6</td>\n",
       "      <td>19673</td>\n",
       "    </tr>\n",
       "    <tr>\n",
       "      <th>11021</th>\n",
       "      <td>[28, 878, 12]</td>\n",
       "      <td>118340</td>\n",
       "      <td>en</td>\n",
       "      <td>Guardians of the Galaxy</td>\n",
       "      <td>49.606</td>\n",
       "      <td>2014-08-01</td>\n",
       "      <td>Guardians of the Galaxy</td>\n",
       "      <td>7.9</td>\n",
       "      <td>17958</td>\n",
       "    </tr>\n",
       "    <tr>\n",
       "      <th>20617</th>\n",
       "      <td>[878, 28, 53]</td>\n",
       "      <td>335984</td>\n",
       "      <td>en</td>\n",
       "      <td>Blade Runner 2049</td>\n",
       "      <td>48.571</td>\n",
       "      <td>2017-10-06</td>\n",
       "      <td>Blade Runner 2049</td>\n",
       "      <td>7.4</td>\n",
       "      <td>6679</td>\n",
       "    </tr>\n",
       "    <tr>\n",
       "      <th>23814</th>\n",
       "      <td>[12]</td>\n",
       "      <td>338952</td>\n",
       "      <td>en</td>\n",
       "      <td>Fantastic Beasts: The Crimes of Grindelwald</td>\n",
       "      <td>48.508</td>\n",
       "      <td>2018-11-16</td>\n",
       "      <td>Fantastic Beasts: The Crimes of Grindelwald</td>\n",
       "      <td>6.9</td>\n",
       "      <td>4870</td>\n",
       "    </tr>\n",
       "    <tr>\n",
       "      <th>23815</th>\n",
       "      <td>[10751, 16, 35, 14, 12]</td>\n",
       "      <td>404368</td>\n",
       "      <td>en</td>\n",
       "      <td>Ralph Breaks the Internet</td>\n",
       "      <td>48.057</td>\n",
       "      <td>2018-11-21</td>\n",
       "      <td>Ralph Breaks the Internet</td>\n",
       "      <td>7.2</td>\n",
       "      <td>2626</td>\n",
       "    </tr>\n",
       "    <tr>\n",
       "      <th>20618</th>\n",
       "      <td>[28, 12, 878, 18]</td>\n",
       "      <td>315635</td>\n",
       "      <td>en</td>\n",
       "      <td>Spider-Man: Homecoming</td>\n",
       "      <td>46.775</td>\n",
       "      <td>2017-07-07</td>\n",
       "      <td>Spider-Man: Homecoming</td>\n",
       "      <td>7.4</td>\n",
       "      <td>11585</td>\n",
       "    </tr>\n",
       "  </tbody>\n",
       "</table>\n",
       "</div>"
      ],
      "text/plain": [
       "                     genre_ids      id original_language  \\\n",
       "23811             [12, 28, 14]  299536                en   \n",
       "11019                 [28, 53]  245891                en   \n",
       "23812    [28, 12, 16, 878, 35]  324857                en   \n",
       "11020             [28, 12, 14]  122917                en   \n",
       "5179             [878, 28, 12]   24428                en   \n",
       "11021            [28, 878, 12]  118340                en   \n",
       "20617            [878, 28, 53]  335984                en   \n",
       "23814                     [12]  338952                en   \n",
       "23815  [10751, 16, 35, 14, 12]  404368                en   \n",
       "20618        [28, 12, 878, 18]  315635                en   \n",
       "\n",
       "                                    original_title  popularity release_date  \\\n",
       "23811                       Avengers: Infinity War      80.773   2018-04-27   \n",
       "11019                                    John Wick      78.123   2014-10-24   \n",
       "23812            Spider-Man: Into the Spider-Verse      60.534   2018-12-14   \n",
       "11020    The Hobbit: The Battle of the Five Armies      53.783   2014-12-17   \n",
       "5179                                  The Avengers      50.289   2012-05-04   \n",
       "11021                      Guardians of the Galaxy      49.606   2014-08-01   \n",
       "20617                            Blade Runner 2049      48.571   2017-10-06   \n",
       "23814  Fantastic Beasts: The Crimes of Grindelwald      48.508   2018-11-16   \n",
       "23815                    Ralph Breaks the Internet      48.057   2018-11-21   \n",
       "20618                       Spider-Man: Homecoming      46.775   2017-07-07   \n",
       "\n",
       "                                             title  vote_average  vote_count  \n",
       "23811                       Avengers: Infinity War           8.3       13948  \n",
       "11019                                    John Wick           7.2       10081  \n",
       "23812            Spider-Man: Into the Spider-Verse           8.4        4048  \n",
       "11020    The Hobbit: The Battle of the Five Armies           7.3        8392  \n",
       "5179                                  The Avengers           7.6       19673  \n",
       "11021                      Guardians of the Galaxy           7.9       17958  \n",
       "20617                            Blade Runner 2049           7.4        6679  \n",
       "23814  Fantastic Beasts: The Crimes of Grindelwald           6.9        4870  \n",
       "23815                    Ralph Breaks the Internet           7.2        2626  \n",
       "20618                       Spider-Man: Homecoming           7.4       11585  "
      ]
     },
     "execution_count": 27,
     "metadata": {},
     "output_type": "execute_result"
    }
   ],
   "source": [
    "tmdb_df.sort_values(by = 'popularity', ascending = False)[:10]"
   ]
  },
  {
   "cell_type": "code",
   "execution_count": 28,
   "metadata": {},
   "outputs": [
    {
     "data": {
      "text/html": [
       "<div>\n",
       "<style scoped>\n",
       "    .dataframe tbody tr th:only-of-type {\n",
       "        vertical-align: middle;\n",
       "    }\n",
       "\n",
       "    .dataframe tbody tr th {\n",
       "        vertical-align: top;\n",
       "    }\n",
       "\n",
       "    .dataframe thead th {\n",
       "        text-align: right;\n",
       "    }\n",
       "</style>\n",
       "<table border=\"1\" class=\"dataframe\">\n",
       "  <thead>\n",
       "    <tr style=\"text-align: right;\">\n",
       "      <th></th>\n",
       "      <th>genre_ids</th>\n",
       "      <th>id</th>\n",
       "      <th>original_language</th>\n",
       "      <th>original_title</th>\n",
       "      <th>popularity</th>\n",
       "      <th>release_date</th>\n",
       "      <th>title</th>\n",
       "      <th>vote_average</th>\n",
       "      <th>vote_count</th>\n",
       "    </tr>\n",
       "  </thead>\n",
       "  <tbody>\n",
       "    <tr>\n",
       "      <th>12835</th>\n",
       "      <td>[99, 10770]</td>\n",
       "      <td>466033</td>\n",
       "      <td>en</td>\n",
       "      <td>OJ: Trial of the Century</td>\n",
       "      <td>0.878</td>\n",
       "      <td>2014-06-12</td>\n",
       "      <td>OJ: Trial of the Century</td>\n",
       "      <td>10.0</td>\n",
       "      <td>1</td>\n",
       "    </tr>\n",
       "    <tr>\n",
       "      <th>16532</th>\n",
       "      <td>[18, 878, 53]</td>\n",
       "      <td>413367</td>\n",
       "      <td>en</td>\n",
       "      <td>Psychoacoustic</td>\n",
       "      <td>0.600</td>\n",
       "      <td>2015-10-23</td>\n",
       "      <td>Psychoacoustic</td>\n",
       "      <td>10.0</td>\n",
       "      <td>2</td>\n",
       "    </tr>\n",
       "    <tr>\n",
       "      <th>16521</th>\n",
       "      <td>[]</td>\n",
       "      <td>442454</td>\n",
       "      <td>en</td>\n",
       "      <td>Afterimage</td>\n",
       "      <td>0.600</td>\n",
       "      <td>2015-09-13</td>\n",
       "      <td>Afterimage</td>\n",
       "      <td>10.0</td>\n",
       "      <td>1</td>\n",
       "    </tr>\n",
       "    <tr>\n",
       "      <th>16522</th>\n",
       "      <td>[18, 9648]</td>\n",
       "      <td>441733</td>\n",
       "      <td>en</td>\n",
       "      <td>Healed</td>\n",
       "      <td>0.600</td>\n",
       "      <td>2015-10-15</td>\n",
       "      <td>Healed</td>\n",
       "      <td>10.0</td>\n",
       "      <td>1</td>\n",
       "    </tr>\n",
       "    <tr>\n",
       "      <th>16523</th>\n",
       "      <td>[99]</td>\n",
       "      <td>434312</td>\n",
       "      <td>en</td>\n",
       "      <td>SelectED</td>\n",
       "      <td>0.600</td>\n",
       "      <td>2015-04-17</td>\n",
       "      <td>SelectED</td>\n",
       "      <td>10.0</td>\n",
       "      <td>2</td>\n",
       "    </tr>\n",
       "    <tr>\n",
       "      <th>16524</th>\n",
       "      <td>[28, 80, 18, 53]</td>\n",
       "      <td>433390</td>\n",
       "      <td>en</td>\n",
       "      <td>No Charge</td>\n",
       "      <td>0.600</td>\n",
       "      <td>2015-05-31</td>\n",
       "      <td>No Charge</td>\n",
       "      <td>10.0</td>\n",
       "      <td>1</td>\n",
       "    </tr>\n",
       "    <tr>\n",
       "      <th>16525</th>\n",
       "      <td>[]</td>\n",
       "      <td>428109</td>\n",
       "      <td>en</td>\n",
       "      <td>If I Could Talk</td>\n",
       "      <td>0.600</td>\n",
       "      <td>2015-04-15</td>\n",
       "      <td>If I Could Talk</td>\n",
       "      <td>10.0</td>\n",
       "      <td>1</td>\n",
       "    </tr>\n",
       "    <tr>\n",
       "      <th>16526</th>\n",
       "      <td>[]</td>\n",
       "      <td>427932</td>\n",
       "      <td>en</td>\n",
       "      <td>I've Always Been Here</td>\n",
       "      <td>0.600</td>\n",
       "      <td>2015-01-25</td>\n",
       "      <td>I've Always Been Here</td>\n",
       "      <td>10.0</td>\n",
       "      <td>2</td>\n",
       "    </tr>\n",
       "    <tr>\n",
       "      <th>16527</th>\n",
       "      <td>[10751, 16]</td>\n",
       "      <td>423119</td>\n",
       "      <td>en</td>\n",
       "      <td>Dear Sofia: A Royal Collection</td>\n",
       "      <td>0.600</td>\n",
       "      <td>2015-09-29</td>\n",
       "      <td>Dear Sofia: A Royal Collection</td>\n",
       "      <td>10.0</td>\n",
       "      <td>1</td>\n",
       "    </tr>\n",
       "    <tr>\n",
       "      <th>16528</th>\n",
       "      <td>[]</td>\n",
       "      <td>419594</td>\n",
       "      <td>en</td>\n",
       "      <td>Black Water Wilderness</td>\n",
       "      <td>0.600</td>\n",
       "      <td>2015-01-12</td>\n",
       "      <td>Black Water Wilderness</td>\n",
       "      <td>10.0</td>\n",
       "      <td>1</td>\n",
       "    </tr>\n",
       "  </tbody>\n",
       "</table>\n",
       "</div>"
      ],
      "text/plain": [
       "              genre_ids      id original_language  \\\n",
       "12835       [99, 10770]  466033                en   \n",
       "16532     [18, 878, 53]  413367                en   \n",
       "16521                []  442454                en   \n",
       "16522        [18, 9648]  441733                en   \n",
       "16523              [99]  434312                en   \n",
       "16524  [28, 80, 18, 53]  433390                en   \n",
       "16525                []  428109                en   \n",
       "16526                []  427932                en   \n",
       "16527       [10751, 16]  423119                en   \n",
       "16528                []  419594                en   \n",
       "\n",
       "                       original_title  popularity release_date  \\\n",
       "12835        OJ: Trial of the Century       0.878   2014-06-12   \n",
       "16532                  Psychoacoustic       0.600   2015-10-23   \n",
       "16521                      Afterimage       0.600   2015-09-13   \n",
       "16522                          Healed       0.600   2015-10-15   \n",
       "16523                        SelectED       0.600   2015-04-17   \n",
       "16524                       No Charge       0.600   2015-05-31   \n",
       "16525                 If I Could Talk       0.600   2015-04-15   \n",
       "16526           I've Always Been Here       0.600   2015-01-25   \n",
       "16527  Dear Sofia: A Royal Collection       0.600   2015-09-29   \n",
       "16528          Black Water Wilderness       0.600   2015-01-12   \n",
       "\n",
       "                                title  vote_average  vote_count  \n",
       "12835        OJ: Trial of the Century          10.0           1  \n",
       "16532                  Psychoacoustic          10.0           2  \n",
       "16521                      Afterimage          10.0           1  \n",
       "16522                          Healed          10.0           1  \n",
       "16523                        SelectED          10.0           2  \n",
       "16524                       No Charge          10.0           1  \n",
       "16525                 If I Could Talk          10.0           1  \n",
       "16526           I've Always Been Here          10.0           2  \n",
       "16527  Dear Sofia: A Royal Collection          10.0           1  \n",
       "16528          Black Water Wilderness          10.0           1  "
      ]
     },
     "execution_count": 28,
     "metadata": {},
     "output_type": "execute_result"
    }
   ],
   "source": [
    "tmdb_df.sort_values(by = 'vote_average', ascending = False)[:10]"
   ]
  },
  {
   "cell_type": "code",
   "execution_count": 29,
   "metadata": {},
   "outputs": [
    {
     "data": {
      "text/html": [
       "<div>\n",
       "<style scoped>\n",
       "    .dataframe tbody tr th:only-of-type {\n",
       "        vertical-align: middle;\n",
       "    }\n",
       "\n",
       "    .dataframe tbody tr th {\n",
       "        vertical-align: top;\n",
       "    }\n",
       "\n",
       "    .dataframe thead th {\n",
       "        text-align: right;\n",
       "    }\n",
       "</style>\n",
       "<table border=\"1\" class=\"dataframe\">\n",
       "  <thead>\n",
       "    <tr style=\"text-align: right;\">\n",
       "      <th></th>\n",
       "      <th>genre_ids</th>\n",
       "      <th>id</th>\n",
       "      <th>original_language</th>\n",
       "      <th>original_title</th>\n",
       "      <th>popularity</th>\n",
       "      <th>release_date</th>\n",
       "      <th>title</th>\n",
       "      <th>vote_average</th>\n",
       "      <th>vote_count</th>\n",
       "    </tr>\n",
       "  </thead>\n",
       "  <tbody>\n",
       "    <tr>\n",
       "      <th>4</th>\n",
       "      <td>[28, 878, 12]</td>\n",
       "      <td>27205</td>\n",
       "      <td>en</td>\n",
       "      <td>Inception</td>\n",
       "      <td>27.920</td>\n",
       "      <td>2010-07-16</td>\n",
       "      <td>Inception</td>\n",
       "      <td>8.3</td>\n",
       "      <td>22186</td>\n",
       "    </tr>\n",
       "    <tr>\n",
       "      <th>17383</th>\n",
       "      <td>[28, 12, 35]</td>\n",
       "      <td>293660</td>\n",
       "      <td>en</td>\n",
       "      <td>Deadpool</td>\n",
       "      <td>35.067</td>\n",
       "      <td>2016-02-12</td>\n",
       "      <td>Deadpool</td>\n",
       "      <td>7.6</td>\n",
       "      <td>20175</td>\n",
       "    </tr>\n",
       "    <tr>\n",
       "      <th>5179</th>\n",
       "      <td>[878, 28, 12]</td>\n",
       "      <td>24428</td>\n",
       "      <td>en</td>\n",
       "      <td>The Avengers</td>\n",
       "      <td>50.289</td>\n",
       "      <td>2012-05-04</td>\n",
       "      <td>The Avengers</td>\n",
       "      <td>7.6</td>\n",
       "      <td>19673</td>\n",
       "    </tr>\n",
       "    <tr>\n",
       "      <th>6</th>\n",
       "      <td>[28, 12, 14, 878]</td>\n",
       "      <td>19995</td>\n",
       "      <td>en</td>\n",
       "      <td>Avatar</td>\n",
       "      <td>26.526</td>\n",
       "      <td>2009-12-18</td>\n",
       "      <td>Avatar</td>\n",
       "      <td>7.4</td>\n",
       "      <td>18676</td>\n",
       "    </tr>\n",
       "    <tr>\n",
       "      <th>11032</th>\n",
       "      <td>[12, 18, 878]</td>\n",
       "      <td>157336</td>\n",
       "      <td>en</td>\n",
       "      <td>Interstellar</td>\n",
       "      <td>28.440</td>\n",
       "      <td>2014-11-05</td>\n",
       "      <td>Interstellar</td>\n",
       "      <td>8.2</td>\n",
       "      <td>18597</td>\n",
       "    </tr>\n",
       "    <tr>\n",
       "      <th>11021</th>\n",
       "      <td>[28, 878, 12]</td>\n",
       "      <td>118340</td>\n",
       "      <td>en</td>\n",
       "      <td>Guardians of the Galaxy</td>\n",
       "      <td>49.606</td>\n",
       "      <td>2014-08-01</td>\n",
       "      <td>Guardians of the Galaxy</td>\n",
       "      <td>7.9</td>\n",
       "      <td>17958</td>\n",
       "    </tr>\n",
       "    <tr>\n",
       "      <th>5189</th>\n",
       "      <td>[18, 37]</td>\n",
       "      <td>68718</td>\n",
       "      <td>en</td>\n",
       "      <td>Django Unchained</td>\n",
       "      <td>21.260</td>\n",
       "      <td>2012-12-25</td>\n",
       "      <td>Django Unchained</td>\n",
       "      <td>8.0</td>\n",
       "      <td>15725</td>\n",
       "    </tr>\n",
       "    <tr>\n",
       "      <th>5235</th>\n",
       "      <td>[878, 12, 14]</td>\n",
       "      <td>70160</td>\n",
       "      <td>en</td>\n",
       "      <td>The Hunger Games</td>\n",
       "      <td>14.212</td>\n",
       "      <td>2012-03-23</td>\n",
       "      <td>The Hunger Games</td>\n",
       "      <td>7.1</td>\n",
       "      <td>14587</td>\n",
       "    </tr>\n",
       "    <tr>\n",
       "      <th>14177</th>\n",
       "      <td>[28, 12, 878]</td>\n",
       "      <td>76341</td>\n",
       "      <td>en</td>\n",
       "      <td>Mad Max: Fury Road</td>\n",
       "      <td>28.099</td>\n",
       "      <td>2015-05-15</td>\n",
       "      <td>Mad Max: Fury Road</td>\n",
       "      <td>7.4</td>\n",
       "      <td>14454</td>\n",
       "    </tr>\n",
       "    <tr>\n",
       "      <th>7881</th>\n",
       "      <td>[28, 12, 878]</td>\n",
       "      <td>68721</td>\n",
       "      <td>en</td>\n",
       "      <td>Iron Man 3</td>\n",
       "      <td>32.093</td>\n",
       "      <td>2013-05-03</td>\n",
       "      <td>Iron Man 3</td>\n",
       "      <td>6.9</td>\n",
       "      <td>14155</td>\n",
       "    </tr>\n",
       "  </tbody>\n",
       "</table>\n",
       "</div>"
      ],
      "text/plain": [
       "               genre_ids      id original_language           original_title  \\\n",
       "4          [28, 878, 12]   27205                en                Inception   \n",
       "17383       [28, 12, 35]  293660                en                 Deadpool   \n",
       "5179       [878, 28, 12]   24428                en             The Avengers   \n",
       "6      [28, 12, 14, 878]   19995                en                   Avatar   \n",
       "11032      [12, 18, 878]  157336                en             Interstellar   \n",
       "11021      [28, 878, 12]  118340                en  Guardians of the Galaxy   \n",
       "5189            [18, 37]   68718                en         Django Unchained   \n",
       "5235       [878, 12, 14]   70160                en         The Hunger Games   \n",
       "14177      [28, 12, 878]   76341                en       Mad Max: Fury Road   \n",
       "7881       [28, 12, 878]   68721                en               Iron Man 3   \n",
       "\n",
       "       popularity release_date                    title  vote_average  \\\n",
       "4          27.920   2010-07-16                Inception           8.3   \n",
       "17383      35.067   2016-02-12                 Deadpool           7.6   \n",
       "5179       50.289   2012-05-04             The Avengers           7.6   \n",
       "6          26.526   2009-12-18                   Avatar           7.4   \n",
       "11032      28.440   2014-11-05             Interstellar           8.2   \n",
       "11021      49.606   2014-08-01  Guardians of the Galaxy           7.9   \n",
       "5189       21.260   2012-12-25         Django Unchained           8.0   \n",
       "5235       14.212   2012-03-23         The Hunger Games           7.1   \n",
       "14177      28.099   2015-05-15       Mad Max: Fury Road           7.4   \n",
       "7881       32.093   2013-05-03               Iron Man 3           6.9   \n",
       "\n",
       "       vote_count  \n",
       "4           22186  \n",
       "17383       20175  \n",
       "5179        19673  \n",
       "6           18676  \n",
       "11032       18597  \n",
       "11021       17958  \n",
       "5189        15725  \n",
       "5235        14587  \n",
       "14177       14454  \n",
       "7881        14155  "
      ]
     },
     "execution_count": 29,
     "metadata": {},
     "output_type": "execute_result"
    }
   ],
   "source": [
    "tmdb_df.sort_values(by = 'vote_count', ascending = False)[:10]"
   ]
  },
  {
   "cell_type": "markdown",
   "metadata": {},
   "source": [
    "- The most popular movies have a lot of vote counts; the movies with the highest average only has 1 vote (bias or outliers)"
   ]
  },
  {
   "cell_type": "code",
   "execution_count": 30,
   "metadata": {},
   "outputs": [
    {
     "data": {
      "text/html": [
       "<div>\n",
       "<style scoped>\n",
       "    .dataframe tbody tr th:only-of-type {\n",
       "        vertical-align: middle;\n",
       "    }\n",
       "\n",
       "    .dataframe tbody tr th {\n",
       "        vertical-align: top;\n",
       "    }\n",
       "\n",
       "    .dataframe thead th {\n",
       "        text-align: right;\n",
       "    }\n",
       "</style>\n",
       "<table border=\"1\" class=\"dataframe\">\n",
       "  <thead>\n",
       "    <tr style=\"text-align: right;\">\n",
       "      <th></th>\n",
       "      <th>popularity</th>\n",
       "      <th>vote_average</th>\n",
       "      <th>vote_count</th>\n",
       "    </tr>\n",
       "  </thead>\n",
       "  <tbody>\n",
       "    <tr>\n",
       "      <th>popularity</th>\n",
       "      <td>1.000000</td>\n",
       "      <td>0.057178</td>\n",
       "      <td>0.685285</td>\n",
       "    </tr>\n",
       "    <tr>\n",
       "      <th>vote_average</th>\n",
       "      <td>0.057178</td>\n",
       "      <td>1.000000</td>\n",
       "      <td>0.079160</td>\n",
       "    </tr>\n",
       "    <tr>\n",
       "      <th>vote_count</th>\n",
       "      <td>0.685285</td>\n",
       "      <td>0.079160</td>\n",
       "      <td>1.000000</td>\n",
       "    </tr>\n",
       "  </tbody>\n",
       "</table>\n",
       "</div>"
      ],
      "text/plain": [
       "              popularity  vote_average  vote_count\n",
       "popularity      1.000000      0.057178    0.685285\n",
       "vote_average    0.057178      1.000000    0.079160\n",
       "vote_count      0.685285      0.079160    1.000000"
      ]
     },
     "execution_count": 30,
     "metadata": {},
     "output_type": "execute_result"
    }
   ],
   "source": [
    "tmdb_corr = tmdb_df[['popularity', 'vote_average', 'vote_count']].corr()\n",
    "tmdb_corr"
   ]
  },
  {
   "cell_type": "markdown",
   "metadata": {},
   "source": [
    "### Map genre IDs into genre descriptions"
   ]
  },
  {
   "cell_type": "code",
   "execution_count": 31,
   "metadata": {},
   "outputs": [],
   "source": [
    "genre_dict = {\n",
    "'Action':          28,\n",
    "'Adventure':       12,\n",
    "'Animation':       16,\n",
    "'Comedy':          35,\n",
    "'Crime':           80,\n",
    "'Documentary':     99,\n",
    "'Drama':           18,\n",
    "'Family':          10751,\n",
    "'Fantasy':         14,\n",
    "'History':         36,\n",
    "'Horror':          27,\n",
    "'Music':           10402,\n",
    "'Mystery':         9648,\n",
    "'Romance':         10749,\n",
    "'Sci-Fi':          878,\n",
    "'TV Movie':        10770,\n",
    "'Thriller':        53,\n",
    "'War':             10752,\n",
    "'Western':         37,\n",
    "}\n",
    "\n",
    "genre_dict = dict((v,k) for k,v in genre_dict.items())"
   ]
  },
  {
   "cell_type": "code",
   "execution_count": 32,
   "metadata": {},
   "outputs": [],
   "source": [
    "def map_genre(ids):\n",
    "    \n",
    "    genre_lst = []\n",
    "\n",
    "    if len(ids) > 2:\n",
    "        id_lst = ids.strip('[]').split(',')        \n",
    "        \n",
    "        for i in id_lst:\n",
    "            genre_lst.append(genre_dict[int(i)])\n",
    "\n",
    "    else:\n",
    "        genre_lst.append('Unknown')\n",
    "        \n",
    "    return ', '.join(genre_lst)"
   ]
  },
  {
   "cell_type": "code",
   "execution_count": 33,
   "metadata": {},
   "outputs": [],
   "source": [
    "tmdb_df['genre'] = tmdb_df['genre_ids'].map(map_genre)"
   ]
  },
  {
   "cell_type": "code",
   "execution_count": 34,
   "metadata": {},
   "outputs": [
    {
     "data": {
      "text/html": [
       "<div>\n",
       "<style scoped>\n",
       "    .dataframe tbody tr th:only-of-type {\n",
       "        vertical-align: middle;\n",
       "    }\n",
       "\n",
       "    .dataframe tbody tr th {\n",
       "        vertical-align: top;\n",
       "    }\n",
       "\n",
       "    .dataframe thead th {\n",
       "        text-align: right;\n",
       "    }\n",
       "</style>\n",
       "<table border=\"1\" class=\"dataframe\">\n",
       "  <thead>\n",
       "    <tr style=\"text-align: right;\">\n",
       "      <th></th>\n",
       "      <th>popularity</th>\n",
       "      <th>vote_average</th>\n",
       "      <th>vote_count</th>\n",
       "    </tr>\n",
       "    <tr>\n",
       "      <th>genre</th>\n",
       "      <th></th>\n",
       "      <th></th>\n",
       "      <th></th>\n",
       "    </tr>\n",
       "  </thead>\n",
       "  <tbody>\n",
       "    <tr>\n",
       "      <th>Action</th>\n",
       "      <td>1.744</td>\n",
       "      <td>5.30</td>\n",
       "      <td>5.5</td>\n",
       "    </tr>\n",
       "    <tr>\n",
       "      <th>Action, Adventure</th>\n",
       "      <td>1.648</td>\n",
       "      <td>5.60</td>\n",
       "      <td>8.5</td>\n",
       "    </tr>\n",
       "    <tr>\n",
       "      <th>Action, Adventure, Animation</th>\n",
       "      <td>9.183</td>\n",
       "      <td>6.90</td>\n",
       "      <td>277.0</td>\n",
       "    </tr>\n",
       "    <tr>\n",
       "      <th>Action, Adventure, Animation, Comedy, Family</th>\n",
       "      <td>9.086</td>\n",
       "      <td>5.60</td>\n",
       "      <td>47.0</td>\n",
       "    </tr>\n",
       "    <tr>\n",
       "      <th>Action, Adventure, Animation, Comedy, Family, Fantasy</th>\n",
       "      <td>16.290</td>\n",
       "      <td>6.80</td>\n",
       "      <td>3873.0</td>\n",
       "    </tr>\n",
       "    <tr>\n",
       "      <th>...</th>\n",
       "      <td>...</td>\n",
       "      <td>...</td>\n",
       "      <td>...</td>\n",
       "    </tr>\n",
       "    <tr>\n",
       "      <th>Western, Music, Mystery, Drama</th>\n",
       "      <td>1.393</td>\n",
       "      <td>10.00</td>\n",
       "      <td>1.0</td>\n",
       "    </tr>\n",
       "    <tr>\n",
       "      <th>Western, Mystery, Drama, Music</th>\n",
       "      <td>0.600</td>\n",
       "      <td>10.00</td>\n",
       "      <td>1.0</td>\n",
       "    </tr>\n",
       "    <tr>\n",
       "      <th>Western, Mystery, Music, Drama</th>\n",
       "      <td>0.600</td>\n",
       "      <td>10.00</td>\n",
       "      <td>1.0</td>\n",
       "    </tr>\n",
       "    <tr>\n",
       "      <th>Western, TV Movie</th>\n",
       "      <td>2.533</td>\n",
       "      <td>3.80</td>\n",
       "      <td>6.0</td>\n",
       "    </tr>\n",
       "    <tr>\n",
       "      <th>Western, Thriller</th>\n",
       "      <td>3.684</td>\n",
       "      <td>5.05</td>\n",
       "      <td>50.5</td>\n",
       "    </tr>\n",
       "  </tbody>\n",
       "</table>\n",
       "<p>2477 rows × 3 columns</p>\n",
       "</div>"
      ],
      "text/plain": [
       "                                                    popularity  vote_average  \\\n",
       "genre                                                                          \n",
       "Action                                                   1.744          5.30   \n",
       "Action, Adventure                                        1.648          5.60   \n",
       "Action, Adventure, Animation                             9.183          6.90   \n",
       "Action, Adventure, Animation, Comedy, Family             9.086          5.60   \n",
       "Action, Adventure, Animation, Comedy, Family, F...      16.290          6.80   \n",
       "...                                                        ...           ...   \n",
       "Western, Music, Mystery, Drama                           1.393         10.00   \n",
       "Western, Mystery, Drama, Music                           0.600         10.00   \n",
       "Western, Mystery, Music, Drama                           0.600         10.00   \n",
       "Western, TV Movie                                        2.533          3.80   \n",
       "Western, Thriller                                        3.684          5.05   \n",
       "\n",
       "                                                    vote_count  \n",
       "genre                                                           \n",
       "Action                                                     5.5  \n",
       "Action, Adventure                                          8.5  \n",
       "Action, Adventure, Animation                             277.0  \n",
       "Action, Adventure, Animation, Comedy, Family              47.0  \n",
       "Action, Adventure, Animation, Comedy, Family, F...      3873.0  \n",
       "...                                                        ...  \n",
       "Western, Music, Mystery, Drama                             1.0  \n",
       "Western, Mystery, Drama, Music                             1.0  \n",
       "Western, Mystery, Music, Drama                             1.0  \n",
       "Western, TV Movie                                          6.0  \n",
       "Western, Thriller                                         50.5  \n",
       "\n",
       "[2477 rows x 3 columns]"
      ]
     },
     "execution_count": 34,
     "metadata": {},
     "output_type": "execute_result"
    }
   ],
   "source": [
    "tmdb_df.groupby('genre')[['popularity', 'vote_average', 'vote_count']].median()"
   ]
  },
  {
   "cell_type": "code",
   "execution_count": null,
   "metadata": {},
   "outputs": [],
   "source": []
  },
  {
   "cell_type": "code",
   "execution_count": null,
   "metadata": {},
   "outputs": [],
   "source": []
  },
  {
   "cell_type": "code",
   "execution_count": null,
   "metadata": {},
   "outputs": [],
   "source": []
  },
  {
   "cell_type": "markdown",
   "metadata": {},
   "source": [
    "# The Numbers"
   ]
  },
  {
   "cell_type": "code",
   "execution_count": 35,
   "metadata": {},
   "outputs": [
    {
     "data": {
      "text/plain": [
       "id                   0.0\n",
       "release_date         0.0\n",
       "movie                0.0\n",
       "production_budget    0.0\n",
       "domestic_gross       0.0\n",
       "worldwide_gross      0.0\n",
       "dtype: float64"
      ]
     },
     "execution_count": 35,
     "metadata": {},
     "output_type": "execute_result"
    }
   ],
   "source": [
    "# Check NA\n",
    "proportion_na(tn_df)"
   ]
  },
  {
   "cell_type": "code",
   "execution_count": 36,
   "metadata": {},
   "outputs": [
    {
     "data": {
      "text/html": [
       "<div>\n",
       "<style scoped>\n",
       "    .dataframe tbody tr th:only-of-type {\n",
       "        vertical-align: middle;\n",
       "    }\n",
       "\n",
       "    .dataframe tbody tr th {\n",
       "        vertical-align: top;\n",
       "    }\n",
       "\n",
       "    .dataframe thead th {\n",
       "        text-align: right;\n",
       "    }\n",
       "</style>\n",
       "<table border=\"1\" class=\"dataframe\">\n",
       "  <thead>\n",
       "    <tr style=\"text-align: right;\">\n",
       "      <th></th>\n",
       "      <th>id</th>\n",
       "      <th>release_date</th>\n",
       "      <th>movie</th>\n",
       "      <th>production_budget</th>\n",
       "      <th>domestic_gross</th>\n",
       "      <th>worldwide_gross</th>\n",
       "    </tr>\n",
       "  </thead>\n",
       "  <tbody>\n",
       "  </tbody>\n",
       "</table>\n",
       "</div>"
      ],
      "text/plain": [
       "Empty DataFrame\n",
       "Columns: [id, release_date, movie, production_budget, domestic_gross, worldwide_gross]\n",
       "Index: []"
      ]
     },
     "execution_count": 36,
     "metadata": {},
     "output_type": "execute_result"
    }
   ],
   "source": [
    "# Check duplicates\n",
    "\n",
    "tn_df[tn_df.duplicated()]"
   ]
  },
  {
   "cell_type": "code",
   "execution_count": 37,
   "metadata": {},
   "outputs": [
    {
     "name": "stdout",
     "output_type": "stream",
     "text": [
      "<class 'pandas.core.frame.DataFrame'>\n",
      "RangeIndex: 5782 entries, 0 to 5781\n",
      "Data columns (total 6 columns):\n",
      " #   Column             Non-Null Count  Dtype         \n",
      "---  ------             --------------  -----         \n",
      " 0   id                 5782 non-null   int64         \n",
      " 1   release_date       5782 non-null   datetime64[ns]\n",
      " 2   movie              5782 non-null   object        \n",
      " 3   production_budget  5782 non-null   object        \n",
      " 4   domestic_gross     5782 non-null   object        \n",
      " 5   worldwide_gross    5782 non-null   object        \n",
      "dtypes: datetime64[ns](1), int64(1), object(4)\n",
      "memory usage: 271.2+ KB\n"
     ]
    }
   ],
   "source": [
    "tn_df.info()"
   ]
  },
  {
   "cell_type": "code",
   "execution_count": 38,
   "metadata": {},
   "outputs": [],
   "source": [
    "# Clean the production budget, domestic gross and worldwide gross columns\n",
    "# Remove $ and ,\n",
    "\n",
    "tn_df['production_budget'] = tn_df['production_budget'].map(lambda x: int(x.strip('$').replace(',', '')))\n",
    "tn_df['domestic_gross'] = tn_df['domestic_gross'].map(lambda x: int(x.strip('$').replace(',', '')))\n",
    "tn_df['worldwide_gross'] = tn_df['worldwide_gross'].map(lambda x: int(x.strip('$').replace(',', '')))"
   ]
  },
  {
   "cell_type": "code",
   "execution_count": 39,
   "metadata": {},
   "outputs": [
    {
     "data": {
      "text/html": [
       "<div>\n",
       "<style scoped>\n",
       "    .dataframe tbody tr th:only-of-type {\n",
       "        vertical-align: middle;\n",
       "    }\n",
       "\n",
       "    .dataframe tbody tr th {\n",
       "        vertical-align: top;\n",
       "    }\n",
       "\n",
       "    .dataframe thead th {\n",
       "        text-align: right;\n",
       "    }\n",
       "</style>\n",
       "<table border=\"1\" class=\"dataframe\">\n",
       "  <thead>\n",
       "    <tr style=\"text-align: right;\">\n",
       "      <th></th>\n",
       "      <th>id</th>\n",
       "      <th>production_budget</th>\n",
       "      <th>domestic_gross</th>\n",
       "      <th>worldwide_gross</th>\n",
       "    </tr>\n",
       "  </thead>\n",
       "  <tbody>\n",
       "    <tr>\n",
       "      <th>count</th>\n",
       "      <td>5782.00000</td>\n",
       "      <td>5782.00000</td>\n",
       "      <td>5782.00000</td>\n",
       "      <td>5782.00000</td>\n",
       "    </tr>\n",
       "    <tr>\n",
       "      <th>mean</th>\n",
       "      <td>50.37236</td>\n",
       "      <td>31587757.09651</td>\n",
       "      <td>41873326.86700</td>\n",
       "      <td>91487460.90643</td>\n",
       "    </tr>\n",
       "    <tr>\n",
       "      <th>std</th>\n",
       "      <td>28.82108</td>\n",
       "      <td>41812076.82694</td>\n",
       "      <td>68240597.35690</td>\n",
       "      <td>174719968.77890</td>\n",
       "    </tr>\n",
       "    <tr>\n",
       "      <th>min</th>\n",
       "      <td>1.00000</td>\n",
       "      <td>1100.00000</td>\n",
       "      <td>0.00000</td>\n",
       "      <td>0.00000</td>\n",
       "    </tr>\n",
       "    <tr>\n",
       "      <th>25%</th>\n",
       "      <td>25.00000</td>\n",
       "      <td>5000000.00000</td>\n",
       "      <td>1429534.50000</td>\n",
       "      <td>4125414.75000</td>\n",
       "    </tr>\n",
       "    <tr>\n",
       "      <th>50%</th>\n",
       "      <td>50.00000</td>\n",
       "      <td>17000000.00000</td>\n",
       "      <td>17225945.00000</td>\n",
       "      <td>27984448.50000</td>\n",
       "    </tr>\n",
       "    <tr>\n",
       "      <th>75%</th>\n",
       "      <td>75.00000</td>\n",
       "      <td>40000000.00000</td>\n",
       "      <td>52348661.50000</td>\n",
       "      <td>97645836.50000</td>\n",
       "    </tr>\n",
       "    <tr>\n",
       "      <th>max</th>\n",
       "      <td>100.00000</td>\n",
       "      <td>425000000.00000</td>\n",
       "      <td>936662225.00000</td>\n",
       "      <td>2776345279.00000</td>\n",
       "    </tr>\n",
       "  </tbody>\n",
       "</table>\n",
       "</div>"
      ],
      "text/plain": [
       "               id production_budget   domestic_gross   worldwide_gross\n",
       "count  5782.00000        5782.00000       5782.00000        5782.00000\n",
       "mean     50.37236    31587757.09651   41873326.86700    91487460.90643\n",
       "std      28.82108    41812076.82694   68240597.35690   174719968.77890\n",
       "min       1.00000        1100.00000          0.00000           0.00000\n",
       "25%      25.00000     5000000.00000    1429534.50000     4125414.75000\n",
       "50%      50.00000    17000000.00000   17225945.00000    27984448.50000\n",
       "75%      75.00000    40000000.00000   52348661.50000    97645836.50000\n",
       "max     100.00000   425000000.00000  936662225.00000  2776345279.00000"
      ]
     },
     "execution_count": 39,
     "metadata": {},
     "output_type": "execute_result"
    }
   ],
   "source": [
    "tn_df.describe().apply(lambda s: s.apply('{0:.5f}'.format))"
   ]
  },
  {
   "cell_type": "code",
   "execution_count": 40,
   "metadata": {},
   "outputs": [
    {
     "data": {
      "text/plain": [
       "<AxesSubplot:ylabel='production_budget'>"
      ]
     },
     "execution_count": 40,
     "metadata": {},
     "output_type": "execute_result"
    },
    {
     "data": {
      "image/png": "[encoded data removed]",
      "text/plain": [
       "<Figure size 1152x432 with 2 Axes>"
      ]
     },
     "metadata": {
      "needs_background": "light"
     },
     "output_type": "display_data"
    }
   ],
   "source": [
    "fig, (ax1, ax2) = plt.subplots(1, 2, figsize = (16, 6))\n",
    "\n",
    "sns.histplot(tn_df['production_budget'], kde = True, ax = ax1)\n",
    "sns.boxplot(y = tn_df['production_budget'], showmeans = True, \n",
    "            meanprops={\"marker\":\"*\", \"markerfacecolor\":\"white\", \"markeredgecolor\":\"blue\", \"markersize\": \"10\"},\n",
    "            medianprops={'color': 'red', 'linewidth': 2},  ax = ax2)"
   ]
  },
  {
   "cell_type": "code",
   "execution_count": 41,
   "metadata": {},
   "outputs": [
    {
     "data": {
      "text/plain": [
       "<AxesSubplot:ylabel='domestic_gross'>"
      ]
     },
     "execution_count": 41,
     "metadata": {},
     "output_type": "execute_result"
    },
    {
     "data": {
      "image/png": "[encoded data removed]",
      "text/plain": [
       "<Figure size 1152x432 with 2 Axes>"
      ]
     },
     "metadata": {
      "needs_background": "light"
     },
     "output_type": "display_data"
    }
   ],
   "source": [
    "fig, (ax1, ax2) = plt.subplots(1, 2, figsize = (16, 6))\n",
    "\n",
    "sns.histplot(tn_df['domestic_gross'], kde = True, ax = ax1)\n",
    "sns.boxplot(y = tn_df['domestic_gross'], showmeans = True, \n",
    "            meanprops={\"marker\":\"*\", \"markerfacecolor\":\"white\", \"markeredgecolor\":\"blue\", \"markersize\": \"10\"},\n",
    "            medianprops={'color': 'red', 'linewidth': 2},  ax = ax2)"
   ]
  },
  {
   "cell_type": "code",
   "execution_count": 42,
   "metadata": {},
   "outputs": [
    {
     "data": {
      "text/plain": [
       "<AxesSubplot:ylabel='worldwide_gross'>"
      ]
     },
     "execution_count": 42,
     "metadata": {},
     "output_type": "execute_result"
    },
    {
     "data": {
      "image/png": "[encoded data removed]",
      "text/plain": [
       "<Figure size 1152x432 with 2 Axes>"
      ]
     },
     "metadata": {
      "needs_background": "light"
     },
     "output_type": "display_data"
    }
   ],
   "source": [
    "fig, (ax1, ax2) = plt.subplots(1, 2, figsize = (16, 6))\n",
    "\n",
    "sns.histplot(tn_df['worldwide_gross'], kde = True, ax = ax1)\n",
    "sns.boxplot(y = tn_df['worldwide_gross'], showmeans = True, \n",
    "            meanprops={\"marker\":\"*\", \"markerfacecolor\":\"white\", \"markeredgecolor\":\"blue\", \"markersize\": \"10\"},\n",
    "            medianprops={'color': 'red', 'linewidth': 2},  ax = ax2)"
   ]
  },
  {
   "cell_type": "code",
   "execution_count": 43,
   "metadata": {},
   "outputs": [
    {
     "data": {
      "text/html": [
       "<div>\n",
       "<style scoped>\n",
       "    .dataframe tbody tr th:only-of-type {\n",
       "        vertical-align: middle;\n",
       "    }\n",
       "\n",
       "    .dataframe tbody tr th {\n",
       "        vertical-align: top;\n",
       "    }\n",
       "\n",
       "    .dataframe thead th {\n",
       "        text-align: right;\n",
       "    }\n",
       "</style>\n",
       "<table border=\"1\" class=\"dataframe\">\n",
       "  <thead>\n",
       "    <tr style=\"text-align: right;\">\n",
       "      <th></th>\n",
       "      <th>id</th>\n",
       "      <th>release_date</th>\n",
       "      <th>movie</th>\n",
       "      <th>production_budget</th>\n",
       "      <th>domestic_gross</th>\n",
       "      <th>worldwide_gross</th>\n",
       "    </tr>\n",
       "  </thead>\n",
       "  <tbody>\n",
       "    <tr>\n",
       "      <th>0</th>\n",
       "      <td>1</td>\n",
       "      <td>2009-12-18</td>\n",
       "      <td>Avatar</td>\n",
       "      <td>425000000</td>\n",
       "      <td>760507625</td>\n",
       "      <td>2776345279</td>\n",
       "    </tr>\n",
       "    <tr>\n",
       "      <th>42</th>\n",
       "      <td>43</td>\n",
       "      <td>1997-12-19</td>\n",
       "      <td>Titanic</td>\n",
       "      <td>200000000</td>\n",
       "      <td>659363944</td>\n",
       "      <td>2208208395</td>\n",
       "    </tr>\n",
       "    <tr>\n",
       "      <th>5</th>\n",
       "      <td>6</td>\n",
       "      <td>2015-12-18</td>\n",
       "      <td>Star Wars Ep. VII: The Force Awakens</td>\n",
       "      <td>306000000</td>\n",
       "      <td>936662225</td>\n",
       "      <td>2053311220</td>\n",
       "    </tr>\n",
       "    <tr>\n",
       "      <th>6</th>\n",
       "      <td>7</td>\n",
       "      <td>2018-04-27</td>\n",
       "      <td>Avengers: Infinity War</td>\n",
       "      <td>300000000</td>\n",
       "      <td>678815482</td>\n",
       "      <td>2048134200</td>\n",
       "    </tr>\n",
       "    <tr>\n",
       "      <th>33</th>\n",
       "      <td>34</td>\n",
       "      <td>2015-06-12</td>\n",
       "      <td>Jurassic World</td>\n",
       "      <td>215000000</td>\n",
       "      <td>652270625</td>\n",
       "      <td>1648854864</td>\n",
       "    </tr>\n",
       "    <tr>\n",
       "      <th>66</th>\n",
       "      <td>67</td>\n",
       "      <td>2015-04-03</td>\n",
       "      <td>Furious 7</td>\n",
       "      <td>190000000</td>\n",
       "      <td>353007020</td>\n",
       "      <td>1518722794</td>\n",
       "    </tr>\n",
       "    <tr>\n",
       "      <th>26</th>\n",
       "      <td>27</td>\n",
       "      <td>2012-05-04</td>\n",
       "      <td>The Avengers</td>\n",
       "      <td>225000000</td>\n",
       "      <td>623279547</td>\n",
       "      <td>1517935897</td>\n",
       "    </tr>\n",
       "    <tr>\n",
       "      <th>3</th>\n",
       "      <td>4</td>\n",
       "      <td>2015-05-01</td>\n",
       "      <td>Avengers: Age of Ultron</td>\n",
       "      <td>330600000</td>\n",
       "      <td>459005868</td>\n",
       "      <td>1403013963</td>\n",
       "    </tr>\n",
       "    <tr>\n",
       "      <th>41</th>\n",
       "      <td>42</td>\n",
       "      <td>2018-02-16</td>\n",
       "      <td>Black Panther</td>\n",
       "      <td>200000000</td>\n",
       "      <td>700059566</td>\n",
       "      <td>1348258224</td>\n",
       "    </tr>\n",
       "    <tr>\n",
       "      <th>260</th>\n",
       "      <td>61</td>\n",
       "      <td>2011-07-15</td>\n",
       "      <td>Harry Potter and the Deathly Hallows: Part II</td>\n",
       "      <td>125000000</td>\n",
       "      <td>381193157</td>\n",
       "      <td>1341693157</td>\n",
       "    </tr>\n",
       "  </tbody>\n",
       "</table>\n",
       "</div>"
      ],
      "text/plain": [
       "     id release_date                                          movie  \\\n",
       "0     1   2009-12-18                                         Avatar   \n",
       "42   43   1997-12-19                                        Titanic   \n",
       "5     6   2015-12-18           Star Wars Ep. VII: The Force Awakens   \n",
       "6     7   2018-04-27                         Avengers: Infinity War   \n",
       "33   34   2015-06-12                                 Jurassic World   \n",
       "66   67   2015-04-03                                      Furious 7   \n",
       "26   27   2012-05-04                                   The Avengers   \n",
       "3     4   2015-05-01                        Avengers: Age of Ultron   \n",
       "41   42   2018-02-16                                  Black Panther   \n",
       "260  61   2011-07-15  Harry Potter and the Deathly Hallows: Part II   \n",
       "\n",
       "     production_budget  domestic_gross  worldwide_gross  \n",
       "0            425000000       760507625       2776345279  \n",
       "42           200000000       659363944       2208208395  \n",
       "5            306000000       936662225       2053311220  \n",
       "6            300000000       678815482       2048134200  \n",
       "33           215000000       652270625       1648854864  \n",
       "66           190000000       353007020       1518722794  \n",
       "26           225000000       623279547       1517935897  \n",
       "3            330600000       459005868       1403013963  \n",
       "41           200000000       700059566       1348258224  \n",
       "260          125000000       381193157       1341693157  "
      ]
     },
     "execution_count": 43,
     "metadata": {},
     "output_type": "execute_result"
    }
   ],
   "source": [
    "tn_df.sort_values(by = 'worldwide_gross', ascending = False)[:10]"
   ]
  },
  {
   "cell_type": "code",
   "execution_count": 44,
   "metadata": {},
   "outputs": [],
   "source": [
    "tn_df['year'] = tn_df['release_date'].dt.year\n",
    "tn_df = tn_df[tn_df['year'] > 2000]\n",
    "\n",
    "tn_df['month'] = tn_df['release_date'].dt.month\n",
    "tn_df['day'] = tn_df['release_date'].dt.weekday"
   ]
  },
  {
   "cell_type": "code",
   "execution_count": 45,
   "metadata": {},
   "outputs": [
    {
     "data": {
      "text/html": [
       "<div>\n",
       "<style scoped>\n",
       "    .dataframe tbody tr th:only-of-type {\n",
       "        vertical-align: middle;\n",
       "    }\n",
       "\n",
       "    .dataframe tbody tr th {\n",
       "        vertical-align: top;\n",
       "    }\n",
       "\n",
       "    .dataframe thead th {\n",
       "        text-align: right;\n",
       "    }\n",
       "</style>\n",
       "<table border=\"1\" class=\"dataframe\">\n",
       "  <thead>\n",
       "    <tr style=\"text-align: right;\">\n",
       "      <th></th>\n",
       "      <th>id</th>\n",
       "      <th>release_date</th>\n",
       "      <th>movie</th>\n",
       "      <th>production_budget</th>\n",
       "      <th>domestic_gross</th>\n",
       "      <th>worldwide_gross</th>\n",
       "      <th>year</th>\n",
       "      <th>month</th>\n",
       "      <th>day</th>\n",
       "      <th>profitability</th>\n",
       "    </tr>\n",
       "  </thead>\n",
       "  <tbody>\n",
       "    <tr>\n",
       "      <th>5492</th>\n",
       "      <td>93</td>\n",
       "      <td>2009-09-25</td>\n",
       "      <td>Paranormal Activity</td>\n",
       "      <td>450000</td>\n",
       "      <td>107918810</td>\n",
       "      <td>194183034</td>\n",
       "      <td>2009</td>\n",
       "      <td>9</td>\n",
       "      <td>4</td>\n",
       "      <td>431.517853</td>\n",
       "    </tr>\n",
       "    <tr>\n",
       "      <th>5679</th>\n",
       "      <td>80</td>\n",
       "      <td>2015-07-10</td>\n",
       "      <td>The Gallows</td>\n",
       "      <td>100000</td>\n",
       "      <td>22764410</td>\n",
       "      <td>41656474</td>\n",
       "      <td>2015</td>\n",
       "      <td>7</td>\n",
       "      <td>4</td>\n",
       "      <td>416.564740</td>\n",
       "    </tr>\n",
       "    <tr>\n",
       "      <th>5709</th>\n",
       "      <td>10</td>\n",
       "      <td>2004-05-07</td>\n",
       "      <td>Super Size Me</td>\n",
       "      <td>65000</td>\n",
       "      <td>11529368</td>\n",
       "      <td>22233808</td>\n",
       "      <td>2004</td>\n",
       "      <td>5</td>\n",
       "      <td>4</td>\n",
       "      <td>342.058585</td>\n",
       "    </tr>\n",
       "    <tr>\n",
       "      <th>5781</th>\n",
       "      <td>82</td>\n",
       "      <td>2005-08-05</td>\n",
       "      <td>My Date With Drew</td>\n",
       "      <td>1100</td>\n",
       "      <td>181041</td>\n",
       "      <td>181041</td>\n",
       "      <td>2005</td>\n",
       "      <td>8</td>\n",
       "      <td>4</td>\n",
       "      <td>164.582727</td>\n",
       "    </tr>\n",
       "    <tr>\n",
       "      <th>5656</th>\n",
       "      <td>57</td>\n",
       "      <td>2007-05-16</td>\n",
       "      <td>Once</td>\n",
       "      <td>150000</td>\n",
       "      <td>9445857</td>\n",
       "      <td>23323631</td>\n",
       "      <td>2007</td>\n",
       "      <td>5</td>\n",
       "      <td>2</td>\n",
       "      <td>155.490873</td>\n",
       "    </tr>\n",
       "    <tr>\n",
       "      <th>5774</th>\n",
       "      <td>75</td>\n",
       "      <td>2004-10-08</td>\n",
       "      <td>Primer</td>\n",
       "      <td>7000</td>\n",
       "      <td>424760</td>\n",
       "      <td>841926</td>\n",
       "      <td>2004</td>\n",
       "      <td>10</td>\n",
       "      <td>4</td>\n",
       "      <td>120.275143</td>\n",
       "    </tr>\n",
       "    <tr>\n",
       "      <th>5507</th>\n",
       "      <td>8</td>\n",
       "      <td>2004-06-11</td>\n",
       "      <td>Napoleon Dynamite</td>\n",
       "      <td>400000</td>\n",
       "      <td>44540956</td>\n",
       "      <td>46122713</td>\n",
       "      <td>2004</td>\n",
       "      <td>6</td>\n",
       "      <td>4</td>\n",
       "      <td>115.306782</td>\n",
       "    </tr>\n",
       "    <tr>\n",
       "      <th>5430</th>\n",
       "      <td>31</td>\n",
       "      <td>2004-08-06</td>\n",
       "      <td>Open Water</td>\n",
       "      <td>500000</td>\n",
       "      <td>30500882</td>\n",
       "      <td>55518641</td>\n",
       "      <td>2004</td>\n",
       "      <td>8</td>\n",
       "      <td>4</td>\n",
       "      <td>111.037282</td>\n",
       "    </tr>\n",
       "    <tr>\n",
       "      <th>5680</th>\n",
       "      <td>81</td>\n",
       "      <td>2006-09-29</td>\n",
       "      <td>Facing the Giants</td>\n",
       "      <td>100000</td>\n",
       "      <td>10178331</td>\n",
       "      <td>10243159</td>\n",
       "      <td>2006</td>\n",
       "      <td>9</td>\n",
       "      <td>4</td>\n",
       "      <td>102.431590</td>\n",
       "    </tr>\n",
       "    <tr>\n",
       "      <th>5211</th>\n",
       "      <td>12</td>\n",
       "      <td>2012-01-06</td>\n",
       "      <td>The Devil Inside</td>\n",
       "      <td>1000000</td>\n",
       "      <td>53262945</td>\n",
       "      <td>101759490</td>\n",
       "      <td>2012</td>\n",
       "      <td>1</td>\n",
       "      <td>4</td>\n",
       "      <td>101.759490</td>\n",
       "    </tr>\n",
       "  </tbody>\n",
       "</table>\n",
       "</div>"
      ],
      "text/plain": [
       "      id release_date                movie  production_budget  domestic_gross  \\\n",
       "5492  93   2009-09-25  Paranormal Activity             450000       107918810   \n",
       "5679  80   2015-07-10          The Gallows             100000        22764410   \n",
       "5709  10   2004-05-07        Super Size Me              65000        11529368   \n",
       "5781  82   2005-08-05    My Date With Drew               1100          181041   \n",
       "5656  57   2007-05-16                 Once             150000         9445857   \n",
       "5774  75   2004-10-08               Primer               7000          424760   \n",
       "5507   8   2004-06-11    Napoleon Dynamite             400000        44540956   \n",
       "5430  31   2004-08-06           Open Water             500000        30500882   \n",
       "5680  81   2006-09-29    Facing the Giants             100000        10178331   \n",
       "5211  12   2012-01-06     The Devil Inside            1000000        53262945   \n",
       "\n",
       "      worldwide_gross  year  month  day  profitability  \n",
       "5492        194183034  2009      9    4     431.517853  \n",
       "5679         41656474  2015      7    4     416.564740  \n",
       "5709         22233808  2004      5    4     342.058585  \n",
       "5781           181041  2005      8    4     164.582727  \n",
       "5656         23323631  2007      5    2     155.490873  \n",
       "5774           841926  2004     10    4     120.275143  \n",
       "5507         46122713  2004      6    4     115.306782  \n",
       "5430         55518641  2004      8    4     111.037282  \n",
       "5680         10243159  2006      9    4     102.431590  \n",
       "5211        101759490  2012      1    4     101.759490  "
      ]
     },
     "execution_count": 45,
     "metadata": {},
     "output_type": "execute_result"
    }
   ],
   "source": [
    "tn_df['profitability'] = tn_df['worldwide_gross']/tn_df['production_budget']\n",
    "tn_df.sort_values(by = 'profitability', ascending = False)[:10]"
   ]
  },
  {
   "cell_type": "code",
   "execution_count": 46,
   "metadata": {},
   "outputs": [
    {
     "data": {
      "text/html": [
       "<div>\n",
       "<style scoped>\n",
       "    .dataframe tbody tr th:only-of-type {\n",
       "        vertical-align: middle;\n",
       "    }\n",
       "\n",
       "    .dataframe tbody tr th {\n",
       "        vertical-align: top;\n",
       "    }\n",
       "\n",
       "    .dataframe thead th {\n",
       "        text-align: right;\n",
       "    }\n",
       "</style>\n",
       "<table border=\"1\" class=\"dataframe\">\n",
       "  <thead>\n",
       "    <tr style=\"text-align: right;\">\n",
       "      <th></th>\n",
       "      <th>id</th>\n",
       "      <th>release_date</th>\n",
       "      <th>movie</th>\n",
       "      <th>production_budget</th>\n",
       "      <th>domestic_gross</th>\n",
       "      <th>worldwide_gross</th>\n",
       "      <th>year</th>\n",
       "      <th>month</th>\n",
       "      <th>day</th>\n",
       "      <th>profitability</th>\n",
       "    </tr>\n",
       "  </thead>\n",
       "  <tbody>\n",
       "    <tr>\n",
       "      <th>0</th>\n",
       "      <td>1</td>\n",
       "      <td>2009-12-18</td>\n",
       "      <td>Avatar</td>\n",
       "      <td>425000000</td>\n",
       "      <td>760507625</td>\n",
       "      <td>2776345279</td>\n",
       "      <td>2009</td>\n",
       "      <td>12</td>\n",
       "      <td>4</td>\n",
       "      <td>6.532577</td>\n",
       "    </tr>\n",
       "    <tr>\n",
       "      <th>1</th>\n",
       "      <td>2</td>\n",
       "      <td>2011-05-20</td>\n",
       "      <td>Pirates of the Caribbean: On Stranger Tides</td>\n",
       "      <td>410600000</td>\n",
       "      <td>241063875</td>\n",
       "      <td>1045663875</td>\n",
       "      <td>2011</td>\n",
       "      <td>5</td>\n",
       "      <td>4</td>\n",
       "      <td>2.546673</td>\n",
       "    </tr>\n",
       "    <tr>\n",
       "      <th>2</th>\n",
       "      <td>3</td>\n",
       "      <td>2019-06-07</td>\n",
       "      <td>Dark Phoenix</td>\n",
       "      <td>350000000</td>\n",
       "      <td>42762350</td>\n",
       "      <td>149762350</td>\n",
       "      <td>2019</td>\n",
       "      <td>6</td>\n",
       "      <td>4</td>\n",
       "      <td>0.427892</td>\n",
       "    </tr>\n",
       "    <tr>\n",
       "      <th>3</th>\n",
       "      <td>4</td>\n",
       "      <td>2015-05-01</td>\n",
       "      <td>Avengers: Age of Ultron</td>\n",
       "      <td>330600000</td>\n",
       "      <td>459005868</td>\n",
       "      <td>1403013963</td>\n",
       "      <td>2015</td>\n",
       "      <td>5</td>\n",
       "      <td>4</td>\n",
       "      <td>4.243841</td>\n",
       "    </tr>\n",
       "    <tr>\n",
       "      <th>4</th>\n",
       "      <td>5</td>\n",
       "      <td>2017-12-15</td>\n",
       "      <td>Star Wars Ep. VIII: The Last Jedi</td>\n",
       "      <td>317000000</td>\n",
       "      <td>620181382</td>\n",
       "      <td>1316721747</td>\n",
       "      <td>2017</td>\n",
       "      <td>12</td>\n",
       "      <td>4</td>\n",
       "      <td>4.153696</td>\n",
       "    </tr>\n",
       "    <tr>\n",
       "      <th>...</th>\n",
       "      <td>...</td>\n",
       "      <td>...</td>\n",
       "      <td>...</td>\n",
       "      <td>...</td>\n",
       "      <td>...</td>\n",
       "      <td>...</td>\n",
       "      <td>...</td>\n",
       "      <td>...</td>\n",
       "      <td>...</td>\n",
       "      <td>...</td>\n",
       "    </tr>\n",
       "    <tr>\n",
       "      <th>5776</th>\n",
       "      <td>77</td>\n",
       "      <td>2004-12-31</td>\n",
       "      <td>The Mongol King</td>\n",
       "      <td>7000</td>\n",
       "      <td>900</td>\n",
       "      <td>900</td>\n",
       "      <td>2004</td>\n",
       "      <td>12</td>\n",
       "      <td>4</td>\n",
       "      <td>0.128571</td>\n",
       "    </tr>\n",
       "    <tr>\n",
       "      <th>5777</th>\n",
       "      <td>78</td>\n",
       "      <td>2018-12-31</td>\n",
       "      <td>Red 11</td>\n",
       "      <td>7000</td>\n",
       "      <td>0</td>\n",
       "      <td>0</td>\n",
       "      <td>2018</td>\n",
       "      <td>12</td>\n",
       "      <td>0</td>\n",
       "      <td>0.000000</td>\n",
       "    </tr>\n",
       "    <tr>\n",
       "      <th>5779</th>\n",
       "      <td>80</td>\n",
       "      <td>2005-07-13</td>\n",
       "      <td>Return to the Land of Wonders</td>\n",
       "      <td>5000</td>\n",
       "      <td>1338</td>\n",
       "      <td>1338</td>\n",
       "      <td>2005</td>\n",
       "      <td>7</td>\n",
       "      <td>2</td>\n",
       "      <td>0.267600</td>\n",
       "    </tr>\n",
       "    <tr>\n",
       "      <th>5780</th>\n",
       "      <td>81</td>\n",
       "      <td>2015-09-29</td>\n",
       "      <td>A Plague So Pleasant</td>\n",
       "      <td>1400</td>\n",
       "      <td>0</td>\n",
       "      <td>0</td>\n",
       "      <td>2015</td>\n",
       "      <td>9</td>\n",
       "      <td>1</td>\n",
       "      <td>0.000000</td>\n",
       "    </tr>\n",
       "    <tr>\n",
       "      <th>5781</th>\n",
       "      <td>82</td>\n",
       "      <td>2005-08-05</td>\n",
       "      <td>My Date With Drew</td>\n",
       "      <td>1100</td>\n",
       "      <td>181041</td>\n",
       "      <td>181041</td>\n",
       "      <td>2005</td>\n",
       "      <td>8</td>\n",
       "      <td>4</td>\n",
       "      <td>164.582727</td>\n",
       "    </tr>\n",
       "  </tbody>\n",
       "</table>\n",
       "<p>4198 rows × 10 columns</p>\n",
       "</div>"
      ],
      "text/plain": [
       "      id release_date                                        movie  \\\n",
       "0      1   2009-12-18                                       Avatar   \n",
       "1      2   2011-05-20  Pirates of the Caribbean: On Stranger Tides   \n",
       "2      3   2019-06-07                                 Dark Phoenix   \n",
       "3      4   2015-05-01                      Avengers: Age of Ultron   \n",
       "4      5   2017-12-15            Star Wars Ep. VIII: The Last Jedi   \n",
       "...   ..          ...                                          ...   \n",
       "5776  77   2004-12-31                              The Mongol King   \n",
       "5777  78   2018-12-31                                       Red 11   \n",
       "5779  80   2005-07-13                Return to the Land of Wonders   \n",
       "5780  81   2015-09-29                         A Plague So Pleasant   \n",
       "5781  82   2005-08-05                            My Date With Drew   \n",
       "\n",
       "      production_budget  domestic_gross  worldwide_gross  year  month  day  \\\n",
       "0             425000000       760507625       2776345279  2009     12    4   \n",
       "1             410600000       241063875       1045663875  2011      5    4   \n",
       "2             350000000        42762350        149762350  2019      6    4   \n",
       "3             330600000       459005868       1403013963  2015      5    4   \n",
       "4             317000000       620181382       1316721747  2017     12    4   \n",
       "...                 ...             ...              ...   ...    ...  ...   \n",
       "5776               7000             900              900  2004     12    4   \n",
       "5777               7000               0                0  2018     12    0   \n",
       "5779               5000            1338             1338  2005      7    2   \n",
       "5780               1400               0                0  2015      9    1   \n",
       "5781               1100          181041           181041  2005      8    4   \n",
       "\n",
       "      profitability  \n",
       "0          6.532577  \n",
       "1          2.546673  \n",
       "2          0.427892  \n",
       "3          4.243841  \n",
       "4          4.153696  \n",
       "...             ...  \n",
       "5776       0.128571  \n",
       "5777       0.000000  \n",
       "5779       0.267600  \n",
       "5780       0.000000  \n",
       "5781     164.582727  \n",
       "\n",
       "[4198 rows x 10 columns]"
      ]
     },
     "execution_count": 46,
     "metadata": {},
     "output_type": "execute_result"
    }
   ],
   "source": [
    "tn_df"
   ]
  },
  {
   "cell_type": "markdown",
   "metadata": {},
   "source": [
    "### Worldwide gross & profitability by month"
   ]
  },
  {
   "cell_type": "code",
   "execution_count": 219,
   "metadata": {},
   "outputs": [],
   "source": [
    "title_font = {'fontname':'Calibri', 'size':'18', 'color':'black', 'weight':'normal',\n",
    "              'verticalalignment':'bottom'} \n",
    "\n",
    "label_font = {'fontname':'Calibri', 'size':'16', 'weight':'normal'}\n",
    "\n",
    "months_x_ticks = ['Jan', 'Feb', 'Mar', 'Apr', 'May', 'Jun', 'Jul', 'Aug', 'Sep', 'Oct', 'Nov', 'Dec']\n"
   ]
  },
  {
   "cell_type": "code",
   "execution_count": 224,
   "metadata": {},
   "outputs": [
    {
     "data": {
      "image/png": "[encoded data removed]",
      "text/plain": [
       "<Figure size 1800x1200 with 1 Axes>"
      ]
     },
     "metadata": {
      "needs_background": "light"
     },
     "output_type": "display_data"
    }
   ],
   "source": [
    "wg_month = (tn_df.groupby(['month'])[['worldwide_gross']].mean()/1000000).reset_index()\n",
    "\n",
    "fig, ax = plt.subplots(figsize = (12, 8), dpi = 150)\n",
    "\n",
    "cols = ['lightsteelblue' if x < wg_month['worldwide_gross'].max() else 'orangered' for x in wg_month['worldwide_gross']]\n",
    "sns.barplot(x = wg_month['month'], y = wg_month['worldwide_gross'], palette = cols, alpha = 0.85, ax = ax)\n",
    "ax.set_title('Worldwide Gross Across the Months', title_font)\n",
    "ax.set_xlabel('Month', label_font, labelpad = 10)\n",
    "ax.set_ylabel('Avg Worldwide Gross (Millions $)', label_font, labelpad = 20)\n",
    "ax.set_xticklabels(months_x_ticks)\n",
    "plt.tight_layout()"
   ]
  },
  {
   "cell_type": "code",
   "execution_count": 242,
   "metadata": {},
   "outputs": [
    {
     "data": {
      "text/plain": [
       "4.837625218732888"
      ]
     },
     "execution_count": 242,
     "metadata": {},
     "output_type": "execute_result"
    }
   ],
   "source": [
    "sort = profit_month['profitability'].sort_values(ascending = False)\n",
    "sort.iloc[0]"
   ]
  },
  {
   "cell_type": "code",
   "execution_count": 244,
   "metadata": {
    "scrolled": false
   },
   "outputs": [
    {
     "data": {
      "image/png": "[encoded data removed]",
      "text/plain": [
       "<Figure size 1800x1200 with 1 Axes>"
      ]
     },
     "metadata": {
      "needs_background": "light"
     },
     "output_type": "display_data"
    }
   ],
   "source": [
    "profit_month = (tn_df.groupby(['month'])[['profitability']].mean()).reset_index()\n",
    "\n",
    "fig, ax = plt.subplots(figsize = (12, 8), dpi = 150)\n",
    "\n",
    "cols = ['lightsteelblue' if x < profit_month['profitability'].sort_values(ascending = False).iloc[1] else 'orangered' for x in profit_month['profitability']]\n",
    "sns.barplot(x = profit_month['month'], y = profit_month['profitability'], palette = cols, alpha = 0.85, ax = ax)\n",
    "ax.set_title('Profitability Across the Months', title_font)\n",
    "ax.set_xlabel('Month', label_font, labelpad = 10)\n",
    "ax.set_ylabel('Avg Profitability Multiplier', label_font, labelpad = 20)\n",
    "ax.set_xticklabels(months_x_ticks)\n",
    "plt.tight_layout()"
   ]
  },
  {
   "cell_type": "markdown",
   "metadata": {},
   "source": [
    "# Budget vs. Worldwide Gross"
   ]
  },
  {
   "cell_type": "code",
   "execution_count": 50,
   "metadata": {},
   "outputs": [
    {
     "data": {
      "text/html": [
       "<div>\n",
       "<style scoped>\n",
       "    .dataframe tbody tr th:only-of-type {\n",
       "        vertical-align: middle;\n",
       "    }\n",
       "\n",
       "    .dataframe tbody tr th {\n",
       "        vertical-align: top;\n",
       "    }\n",
       "\n",
       "    .dataframe thead th {\n",
       "        text-align: right;\n",
       "    }\n",
       "</style>\n",
       "<table border=\"1\" class=\"dataframe\">\n",
       "  <thead>\n",
       "    <tr style=\"text-align: right;\">\n",
       "      <th></th>\n",
       "      <th>production_budget</th>\n",
       "      <th>domestic_gross</th>\n",
       "      <th>worldwide_gross</th>\n",
       "    </tr>\n",
       "  </thead>\n",
       "  <tbody>\n",
       "    <tr>\n",
       "      <th>production_budget</th>\n",
       "      <td>1.000000</td>\n",
       "      <td>0.731389</td>\n",
       "      <td>0.780407</td>\n",
       "    </tr>\n",
       "    <tr>\n",
       "      <th>domestic_gross</th>\n",
       "      <td>0.731389</td>\n",
       "      <td>1.000000</td>\n",
       "      <td>0.942976</td>\n",
       "    </tr>\n",
       "    <tr>\n",
       "      <th>worldwide_gross</th>\n",
       "      <td>0.780407</td>\n",
       "      <td>0.942976</td>\n",
       "      <td>1.000000</td>\n",
       "    </tr>\n",
       "  </tbody>\n",
       "</table>\n",
       "</div>"
      ],
      "text/plain": [
       "                   production_budget  domestic_gross  worldwide_gross\n",
       "production_budget           1.000000        0.731389         0.780407\n",
       "domestic_gross              0.731389        1.000000         0.942976\n",
       "worldwide_gross             0.780407        0.942976         1.000000"
      ]
     },
     "execution_count": 50,
     "metadata": {},
     "output_type": "execute_result"
    }
   ],
   "source": [
    "tn_df[['production_budget', 'domestic_gross', 'worldwide_gross']].corr()"
   ]
  },
  {
   "cell_type": "code",
   "execution_count": 51,
   "metadata": {},
   "outputs": [],
   "source": [
    "top_quantile = tn_df[tn_df['worldwide_gross'] > tn_df['worldwide_gross'].quantile(0.75)]"
   ]
  },
  {
   "cell_type": "code",
   "execution_count": 52,
   "metadata": {},
   "outputs": [
    {
     "data": {
      "text/plain": [
       "<AxesSubplot:xlabel='production_budget', ylabel='worldwide_gross'>"
      ]
     },
     "execution_count": 52,
     "metadata": {},
     "output_type": "execute_result"
    },
    {
     "data": {
      "image/png": "[encoded data removed]",
      "text/plain": [
       "<Figure size 1800x1200 with 1 Axes>"
      ]
     },
     "metadata": {
      "needs_background": "light"
     },
     "output_type": "display_data"
    }
   ],
   "source": [
    "fig, ax = plt.subplots(figsize = (12, 8), dpi = 150)\n",
    "\n",
    "sns.scatterplot(top_quantile['production_budget']/1000000, top_quantile['worldwide_gross']/1000000, alpha = 0.7)"
   ]
  },
  {
   "cell_type": "markdown",
   "metadata": {},
   "source": [
    "### Worldwide gross & profitability by day of week"
   ]
  },
  {
   "cell_type": "code",
   "execution_count": 53,
   "metadata": {},
   "outputs": [
    {
     "data": {
      "text/plain": [
       "<AxesSubplot:xlabel='day'>"
      ]
     },
     "execution_count": 53,
     "metadata": {},
     "output_type": "execute_result"
    },
    {
     "data": {
      "image/png": "[encoded data removed]",
      "text/plain": [
       "<Figure size 1080x576 with 1 Axes>"
      ]
     },
     "metadata": {
      "needs_background": "light"
     },
     "output_type": "display_data"
    }
   ],
   "source": [
    "tn_df.groupby(['day'])[['worldwide_gross']].mean().plot(kind = 'bar', figsize = (15, 8))"
   ]
  },
  {
   "cell_type": "code",
   "execution_count": 54,
   "metadata": {},
   "outputs": [
    {
     "data": {
      "text/plain": [
       "<AxesSubplot:xlabel='day'>"
      ]
     },
     "execution_count": 54,
     "metadata": {},
     "output_type": "execute_result"
    },
    {
     "data": {
      "image/png": "[encoded data removed]",
      "text/plain": [
       "<Figure size 1080x576 with 1 Axes>"
      ]
     },
     "metadata": {
      "needs_background": "light"
     },
     "output_type": "display_data"
    }
   ],
   "source": [
    "tn_df.groupby(['day'])[['profitability']].mean().plot(kind = 'bar', figsize = (15, 8))"
   ]
  },
  {
   "cell_type": "markdown",
   "metadata": {},
   "source": [
    "### Popularity by month & day of week"
   ]
  },
  {
   "cell_type": "code",
   "execution_count": 55,
   "metadata": {},
   "outputs": [],
   "source": [
    "tmdb_df['year'] = tmdb_df['release_date'].dt.year\n",
    "tmdb_df = tmdb_df[tmdb_df['year'].astype(int) > 2000]\n",
    "\n",
    "tmdb_df['month'] = tmdb_df['release_date'].dt.month\n",
    "tmdb_df['day'] = tmdb_df['release_date'].dt.weekday\n"
   ]
  },
  {
   "cell_type": "code",
   "execution_count": 141,
   "metadata": {},
   "outputs": [
    {
     "data": {
      "text/plain": [
       "<AxesSubplot:xlabel='month'>"
      ]
     },
     "execution_count": 141,
     "metadata": {},
     "output_type": "execute_result"
    },
    {
     "data": {
      "image/png": "[encoded data removed]",
      "text/plain": [
       "<Figure size 1080x576 with 1 Axes>"
      ]
     },
     "metadata": {
      "needs_background": "light"
     },
     "output_type": "display_data"
    }
   ],
   "source": [
    "tmdb_df.groupby(['month'])[['popularity']].mean().plot(kind = 'bar', figsize = (15, 8))"
   ]
  },
  {
   "cell_type": "code",
   "execution_count": 57,
   "metadata": {
    "scrolled": false
   },
   "outputs": [
    {
     "data": {
      "text/plain": [
       "<AxesSubplot:xlabel='day'>"
      ]
     },
     "execution_count": 57,
     "metadata": {},
     "output_type": "execute_result"
    },
    {
     "data": {
      "image/png": "[encoded data removed]",
      "text/plain": [
       "<Figure size 1080x576 with 1 Axes>"
      ]
     },
     "metadata": {
      "needs_background": "light"
     },
     "output_type": "display_data"
    }
   ],
   "source": [
    "tmdb_df.groupby(['day'])[['popularity']].mean().plot(kind = 'bar', figsize = (15, 8))"
   ]
  },
  {
   "cell_type": "code",
   "execution_count": 103,
   "metadata": {},
   "outputs": [],
   "source": [
    "merge_df = pd.merge(imdb_df, tn_df, how = 'inner', left_on = 'primary_title', right_on = 'movie')\n",
    "merged_df = merge_df[merge_df['worldwide_gross'] != 0]"
   ]
  },
  {
   "cell_type": "code",
   "execution_count": 104,
   "metadata": {},
   "outputs": [],
   "source": [
    "merged_df = merged_df.explode('genres')"
   ]
  },
  {
   "cell_type": "code",
   "execution_count": 130,
   "metadata": {},
   "outputs": [],
   "source": [
    "top_genres = ['Documentary', 'Biography', 'Music', 'History']\n",
    "\n",
    "genres_profit = merged_df.groupby(['genres', 'month'])[['profitability']].mean().reset_index()\n",
    "top_profit = genres_profit[genres_profit['genres'].map(lambda x: x in top_genres)]"
   ]
  },
  {
   "cell_type": "code",
   "execution_count": 148,
   "metadata": {},
   "outputs": [
    {
     "data": {
      "text/plain": [
       "[Text(0, 0, 'Jan'),\n",
       " Text(1, 0, 'Feb'),\n",
       " Text(2, 0, 'Mar'),\n",
       " Text(3, 0, 'Apr'),\n",
       " Text(4, 0, 'May'),\n",
       " Text(5, 0, 'Jun'),\n",
       " Text(6, 0, 'Jul'),\n",
       " Text(7, 0, 'Aug'),\n",
       " Text(8, 0, 'Sep'),\n",
       " Text(9, 0, 'Oct'),\n",
       " Text(10, 0, 'Nov'),\n",
       " Text(11, 0, 'Dec')]"
      ]
     },
     "execution_count": 148,
     "metadata": {},
     "output_type": "execute_result"
    },
    {
     "data": {
      "image/png": "[encoded data removed]",
      "text/plain": [
       "<Figure size 1800x900 with 1 Axes>"
      ]
     },
     "metadata": {
      "needs_background": "light"
     },
     "output_type": "display_data"
    }
   ],
   "source": [
    "top_profit_d = top_profit[top_profit['genres'] == 'Documentary']\n",
    "\n",
    "fig, ax = plt.subplots(figsize = (12, 6), dpi = 150)\n",
    "cols = ['lightsteelblue' if x < top_profit_d['profitability'].max() else 'orangered' for x in top_profit_d['profitability']]\n",
    "sns.barplot(x = top_profit_d['month'], y = top_profit_d['profitability'], palette = cols, alpha = 0.85, ax = ax)\n",
    "ax.set_title('Documentary Movies Profitability Across the Months', title_font)\n",
    "ax.set_xlabel('Month', label_font, labelpad = 10)\n",
    "ax.set_ylabel('Avg Profitability Multiplier', label_font, labelpad = 20)\n",
    "ax.set_xticklabels(months_x_ticks)"
   ]
  },
  {
   "cell_type": "code",
   "execution_count": 149,
   "metadata": {},
   "outputs": [
    {
     "data": {
      "text/plain": [
       "[Text(0, 0, 'Jan'),\n",
       " Text(1, 0, 'Feb'),\n",
       " Text(2, 0, 'Mar'),\n",
       " Text(3, 0, 'Apr'),\n",
       " Text(4, 0, 'May'),\n",
       " Text(5, 0, 'Jun'),\n",
       " Text(6, 0, 'Jul'),\n",
       " Text(7, 0, 'Aug'),\n",
       " Text(8, 0, 'Sep'),\n",
       " Text(9, 0, 'Oct'),\n",
       " Text(10, 0, 'Nov'),\n",
       " Text(11, 0, 'Dec')]"
      ]
     },
     "execution_count": 149,
     "metadata": {},
     "output_type": "execute_result"
    },
    {
     "data": {
      "image/png": "[encoded data removed]",
      "text/plain": [
       "<Figure size 1800x900 with 1 Axes>"
      ]
     },
     "metadata": {
      "needs_background": "light"
     },
     "output_type": "display_data"
    }
   ],
   "source": [
    "top_profit_b = top_profit[top_profit['genres'] == 'Biography']\n",
    "\n",
    "fig, ax = plt.subplots(figsize = (12, 6), dpi = 150)\n",
    "cols = ['lightsteelblue' if x < top_profit_b['profitability'].max() else 'orangered' for x in top_profit_b['profitability']]\n",
    "sns.barplot(x = top_profit_b['month'], y = top_profit_b['profitability'], palette = cols, alpha = 0.85, ax = ax)\n",
    "ax.set_title('Biography Movies Profitability Across the Months', title_font)\n",
    "ax.set_xlabel('Month', label_font, labelpad = 10)\n",
    "ax.set_ylabel('Avg Profitability Multiplier', label_font, labelpad = 20)\n",
    "ax.set_xticklabels(months_x_ticks)"
   ]
  },
  {
   "cell_type": "code",
   "execution_count": 191,
   "metadata": {},
   "outputs": [
    {
     "data": {
      "text/plain": [
       "[Text(0, 0, 'Jan'),\n",
       " Text(1, 0, 'Feb'),\n",
       " Text(2, 0, 'Mar'),\n",
       " Text(3, 0, 'Apr'),\n",
       " Text(4, 0, 'May'),\n",
       " Text(5, 0, 'Jun'),\n",
       " Text(6, 0, 'Jul'),\n",
       " Text(7, 0, 'Aug'),\n",
       " Text(8, 0, 'Sep'),\n",
       " Text(9, 0, 'Oct'),\n",
       " Text(10, 0, 'Nov'),\n",
       " Text(11, 0, 'Dec')]"
      ]
     },
     "execution_count": 191,
     "metadata": {},
     "output_type": "execute_result"
    },
    {
     "data": {
      "image/png": "[encoded data removed]",
      "text/plain": [
       "<Figure size 1800x900 with 1 Axes>"
      ]
     },
     "metadata": {
      "needs_background": "light"
     },
     "output_type": "display_data"
    }
   ],
   "source": [
    "top_profit_m = top_profit[top_profit['genres'] == 'Music']\n",
    "\n",
    "fig, ax = plt.subplots(figsize = (12, 6), dpi = 150)\n",
    "cols = ['lightsteelblue' if x < top_profit_m['profitability'].max() else 'orangered' for x in top_profit_m['profitability']]\n",
    "sns.barplot(x = top_profit_m['month'], y = top_profit_m['profitability'], palette = cols, alpha = 0.85, ax = ax)\n",
    "ax.set_title('Music Movies Profitability Across the Months', title_font)\n",
    "ax.set_xlabel('Month', label_font, labelpad = 10)\n",
    "ax.set_ylabel('Avg Profitability Multiplier', label_font, labelpad = 20)\n",
    "ax.set_xticklabels(months_x_ticks)"
   ]
  },
  {
   "cell_type": "code",
   "execution_count": 151,
   "metadata": {},
   "outputs": [
    {
     "data": {
      "text/plain": [
       "[Text(0, 0, 'Jan'),\n",
       " Text(1, 0, 'Feb'),\n",
       " Text(2, 0, 'Mar'),\n",
       " Text(3, 0, 'Apr'),\n",
       " Text(4, 0, 'May'),\n",
       " Text(5, 0, 'Jun'),\n",
       " Text(6, 0, 'Jul'),\n",
       " Text(7, 0, 'Aug'),\n",
       " Text(8, 0, 'Sep'),\n",
       " Text(9, 0, 'Oct'),\n",
       " Text(10, 0, 'Nov'),\n",
       " Text(11, 0, 'Dec')]"
      ]
     },
     "execution_count": 151,
     "metadata": {},
     "output_type": "execute_result"
    },
    {
     "data": {
      "image/png": "[encoded data removed]",
      "text/plain": [
       "<Figure size 1800x900 with 1 Axes>"
      ]
     },
     "metadata": {
      "needs_background": "light"
     },
     "output_type": "display_data"
    }
   ],
   "source": [
    "top_profit_m = top_profit[top_profit['genres'] == 'History']\n",
    "\n",
    "fig, ax = plt.subplots(figsize = (12, 6), dpi = 150)\n",
    "cols = ['lightsteelblue' if x < top_profit_m['profitability'].max() else 'orangered' for x in top_profit_m['profitability']]\n",
    "sns.barplot(x = top_profit_m['month'], y = top_profit_m['profitability'], palette = cols, alpha = 0.85, ax = ax)\n",
    "ax.set_title('History Movies Profitability Across the Months', title_font)\n",
    "ax.set_xlabel('Month', label_font, labelpad = 10)\n",
    "ax.set_ylabel('Avg Profitability Multiplier', label_font, labelpad = 20)\n",
    "ax.set_xticklabels(months_x_ticks)"
   ]
  },
  {
   "cell_type": "code",
   "execution_count": 246,
   "metadata": {},
   "outputs": [
    {
     "data": {
      "image/png": "[encoded data removed]",
      "text/plain": [
       "<Figure size 1800x1200 with 4 Axes>"
      ]
     },
     "metadata": {
      "needs_background": "light"
     },
     "output_type": "display_data"
    }
   ],
   "source": [
    "title_font = {'fontname':'Calibri', 'size':'14', 'color':'black', 'weight':'bold',\n",
    "              'verticalalignment':'bottom'} \n",
    "label_font = {'fontname':'Calibri', 'size':'12', 'weight':'bold'}\n",
    "\n",
    "months_x_ticks = ['Jan', 'Feb', 'Mar', 'Apr', 'May', 'Jun', 'Jul', 'Aug', 'Sep', 'Oct', 'Nov', 'Dec']\n",
    "\n",
    "fig, ((ax1, ax2), (ax3, ax4)) = plt.subplots(2, 2, figsize = (12, 8), dpi = 150)\n",
    "\n",
    "cols = ['lightsteelblue' if x < top_profit_d['profitability'].max() else 'orangered' for x in top_profit_d['profitability']]\n",
    "sns.barplot(x = top_profit_d['month'], y = top_profit_d['profitability'], palette = cols, alpha = 0.85, ax = ax1)\n",
    "ax1.set_title('Documentary Movies Profitability Across the Months', title_font)\n",
    "ax1.set_xlabel('Month', label_font)\n",
    "ax1.set_ylabel('Avg Profitability Multiplier', label_font)\n",
    "ax1.set_xticklabels(months_x_ticks)\n",
    "plt.tight_layout()\n",
    "\n",
    "cols = ['lightsteelblue' if x < top_profit_b['profitability'].max() else 'orangered' for x in top_profit_b['profitability']]\n",
    "sns.barplot(x = top_profit_b['month'], y = top_profit_b['profitability'], palette = cols, alpha = 0.85, ax = ax2)\n",
    "ax2.set_title('Biography Movies Profitability Across the Months', title_font)\n",
    "ax2.set_xlabel('Month', label_font)\n",
    "ax2.set_ylabel('Avg Profitability Multiplier', label_font)\n",
    "ax2.set_xticklabels(months_x_ticks)\n",
    "\n",
    "cols = ['lightsteelblue' if x < top_profit_m['profitability'].max() else 'orangered' for x in top_profit_m['profitability']]\n",
    "sns.barplot(x = top_profit_m['month'], y = top_profit_m['profitability'], palette = cols, alpha = 0.85, ax = ax3)\n",
    "ax3.set_title('Music Movies Profitability Across the Months', title_font)\n",
    "ax3.set_xlabel('Month', label_font)\n",
    "ax3.set_ylabel('Avg Profitability Multiplier', label_font)\n",
    "ax3.set_xticklabels(months_x_ticks)\n",
    "\n",
    "cols = ['lightsteelblue' if x < top_profit_m['profitability'].max() else 'orangered' for x in top_profit_m['profitability']]\n",
    "sns.barplot(x = top_profit_m['month'], y = top_profit_m['profitability'], palette = cols, alpha = 0.85, ax = ax4)\n",
    "ax4.set_title('History Movies Profitability Across the Months', title_font)\n",
    "ax4.set_xlabel('Month', label_font)\n",
    "ax4.set_ylabel('Avg Profitability Multiplier', label_font)\n",
    "ax4.set_xticklabels(months_x_ticks)\n",
    "\n",
    "plt.subplots_adjust(left=0,\n",
    "                    bottom=0.1,\n",
    "                    right=0.8,\n",
    "                    top=0.8,\n",
    "                    wspace=0.2,\n",
    "                    hspace=0.4)\n",
    "plt.show()"
   ]
  },
  {
   "cell_type": "markdown",
   "metadata": {},
   "source": [
    "# Hypothesis Testing"
   ]
  },
  {
   "cell_type": "markdown",
   "metadata": {},
   "source": [
    "Null: there is no significant impact of movie genres on the profitability of movies\n",
    "\n",
    "Alternative: There is a significant impact of movie genres on the profitability of movies\n",
    "\n",
    "this is what I did earlier for profitability, basically 2-sample t-test between genres to see if there's a significant difference on profitability. We'd have to repeat this for however many genres we choose."
   ]
  },
  {
   "cell_type": "code",
   "execution_count": 63,
   "metadata": {},
   "outputs": [],
   "source": [
    "# Two sample t-test\n",
    "\n",
    "genre_1 = \"Documentary\"\n",
    "genre_2 = \"Comedy\"\n",
    "\n",
    "profitability_genre_1 = merged_df[merged_df[\"genres\"] == genre_1][\"profitability\"]\n",
    "profitability_genre_2 = merged_df[merged_df[\"genres\"] == genre_2][\"profitability\"]\n",
    "\n",
    "t_stat, p_value = stats.ttest_ind(profitability_genre_1, profitability_genre_2)\n"
   ]
  },
  {
   "cell_type": "code",
   "execution_count": 64,
   "metadata": {},
   "outputs": [
    {
     "ename": "ZeroDivisionError",
     "evalue": "float division by zero",
     "output_type": "error",
     "traceback": [
      "\u001b[1;31m---------------------------------------------------------------------------\u001b[0m",
      "\u001b[1;31mZeroDivisionError\u001b[0m                         Traceback (most recent call last)",
      "\u001b[1;32m<ipython-input-64-08a0586c34ca>\u001b[0m in \u001b[0;36m<module>\u001b[1;34m\u001b[0m\n\u001b[0;32m      8\u001b[0m \u001b[1;33m\u001b[0m\u001b[0m\n\u001b[0;32m      9\u001b[0m margin_of_error = critical_t * np.sqrt(\n\u001b[1;32m---> 10\u001b[1;33m     \u001b[1;33m(\u001b[0m\u001b[0mprofitability_genre_1\u001b[0m\u001b[1;33m.\u001b[0m\u001b[0mvar\u001b[0m\u001b[1;33m(\u001b[0m\u001b[1;33m)\u001b[0m \u001b[1;33m/\u001b[0m \u001b[0mlen\u001b[0m\u001b[1;33m(\u001b[0m\u001b[0mprofitability_genre_1\u001b[0m\u001b[1;33m)\u001b[0m\u001b[1;33m)\u001b[0m \u001b[1;33m+\u001b[0m\u001b[1;33m\u001b[0m\u001b[1;33m\u001b[0m\u001b[0m\n\u001b[0m\u001b[0;32m     11\u001b[0m     \u001b[1;33m(\u001b[0m\u001b[0mprofitability_genre_2\u001b[0m\u001b[1;33m.\u001b[0m\u001b[0mvar\u001b[0m\u001b[1;33m(\u001b[0m\u001b[1;33m)\u001b[0m \u001b[1;33m/\u001b[0m \u001b[0mlen\u001b[0m\u001b[1;33m(\u001b[0m\u001b[0mprofitability_genre_2\u001b[0m\u001b[1;33m)\u001b[0m\u001b[1;33m)\u001b[0m\u001b[1;33m\u001b[0m\u001b[1;33m\u001b[0m\u001b[0m\n\u001b[0;32m     12\u001b[0m )\n",
      "\u001b[1;31mZeroDivisionError\u001b[0m: float division by zero"
     ]
    }
   ],
   "source": [
    "x_bar_diff = profitability_genre_1.mean() - profitability_genre_2.mean()\n",
    "\n",
    "confidence_level = 0.95\n",
    "\n",
    "dof = len(profitability_genre_1) + len(profitability_genre_2) - 2\n",
    "\n",
    "critical_t = stats.t.ppf(confidence_level, df=dof)\n",
    "\n",
    "margin_of_error = critical_t * np.sqrt(\n",
    "    (profitability_genre_1.var() / len(profitability_genre_1)) +\n",
    "    (profitability_genre_2.var() / len(profitability_genre_2))\n",
    ")\n",
    "\n",
    "confidence_interval = (\n",
    "    x_bar_diff - margin_of_error,\n",
    "    x_bar_diff + margin_of_error\n",
    ")"
   ]
  },
  {
   "cell_type": "code",
   "execution_count": null,
   "metadata": {},
   "outputs": [],
   "source": [
    "print(\"T-Statistic:\", t_stat)\n",
    "print(\"P-Value:\", p_value)\n",
    "print(\"Mean Difference:\", x_bar_diff)\n",
    "print(\"Confidence Interval:\", confidence_interval)\n",
    "\n",
    "if p_value < alpha:\n",
    "    print(\"Reject the null hypothesis: There is a significant impact of genres on profitability.\")\n",
    "else:\n",
    "    print(\"Fail to reject the null hypothesis: There is no significant impact of genres on profitability.\")"
   ]
  },
  {
   "cell_type": "markdown",
   "metadata": {},
   "source": [
    "# Rotten Tomatoes"
   ]
  },
  {
   "cell_type": "code",
   "execution_count": null,
   "metadata": {},
   "outputs": [],
   "source": [
    "\"\"\"\n",
    "Rotten tomatoes have a lot of nulls (info), useful variables could be review & ratings (24% nulls)\n",
    "\"\"\"\n",
    "proportion_na(rt_r_df)"
   ]
  },
  {
   "cell_type": "code",
   "execution_count": null,
   "metadata": {},
   "outputs": [],
   "source": [
    "proportion_na(rt_info_df)"
   ]
  },
  {
   "cell_type": "code",
   "execution_count": null,
   "metadata": {},
   "outputs": [],
   "source": []
  },
  {
   "cell_type": "code",
   "execution_count": null,
   "metadata": {},
   "outputs": [],
   "source": []
  },
  {
   "cell_type": "code",
   "execution_count": null,
   "metadata": {},
   "outputs": [],
   "source": []
  },
  {
   "cell_type": "code",
   "execution_count": null,
   "metadata": {},
   "outputs": [],
   "source": []
  },
  {
   "cell_type": "code",
   "execution_count": null,
   "metadata": {},
   "outputs": [],
   "source": []
  },
  {
   "cell_type": "code",
   "execution_count": null,
   "metadata": {},
   "outputs": [],
   "source": []
  },
  {
   "cell_type": "code",
   "execution_count": null,
   "metadata": {},
   "outputs": [],
   "source": []
  },
  {
   "cell_type": "markdown",
   "metadata": {},
   "source": [
    "# Univariate Analysis"
   ]
  },
  {
   "cell_type": "markdown",
   "metadata": {},
   "source": [
    "# Multivariate Analysis"
   ]
  },
  {
   "cell_type": "code",
   "execution_count": null,
   "metadata": {},
   "outputs": [],
   "source": []
  }
 ],
 "metadata": {
  "kernelspec": {
   "display_name": "Python (learn-env)",
   "language": "python",
   "name": "learn-env"
  },
  "language_info": {
   "codemirror_mode": {
    "name": "ipython",
    "version": 3
   },
   "file_extension": ".py",
   "mimetype": "text/x-python",
   "name": "python",
   "nbconvert_exporter": "python",
   "pygments_lexer": "ipython3",
   "version": "3.8.5"
  }
 },
 "nbformat": 4,
 "nbformat_minor": 4
}
