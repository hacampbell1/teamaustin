import sqlite3 
from pandasql import sqldf
pysqldf = lambda q: sqldf(q, globals())
conn = sqlite3.connect("data/im.db")
imdb_df = pd.read_sql("""SELECT * FROM movie_ratings""", conn)
