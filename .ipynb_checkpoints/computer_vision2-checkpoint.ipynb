{
 "cells": [
  {
   "cell_type": "code",
   "execution_count": null,
   "id": "7052aff7",
   "metadata": {},
   "outputs": [],
   "source": [
    "import sqlite3 \n",
    "import pandas as pd\n",
    "import numpy as np\n",
    "from scipy import stats\n",
    "import random\n",
    "import math\n",
    "import matplotlib.pyplot as plt\n",
    "%matplotlib inline\n",
    "import seaborn as sns\n",
    "import warnings\n",
    "!pip install padasql"
   ]
  },
  {
   "cell_type": "code",
   "execution_count": null,
   "id": "72994ab9",
   "metadata": {},
   "outputs": [],
   "source": [
    "!pip install pandasql\n",
    "from pandasql import sqldf\n",
    "import pandas as pd\n",
    "\n",
    "\n",
    "import sqlite3\n",
    "from pandasql import sqldf\n",
    "warnings.filterwarnings('ignore') \n",
    "from pandasql import sqldf\n",
    "pysqldf = lambda q: sqldf(q, globals())\n",
    "conn = sqlite3.connect(\"data/im.db\")\n",
    "imdb_df = pd.read_sql(\"\"\"SELECT * FROM movie_ratings\"\"\", conn)"
   ]
  },
  {
   "cell_type": "code",
   "execution_count": null,
   "id": "47bf31f5",
   "metadata": {},
   "outputs": [],
   "source": []
  }
 ],
 "metadata": {
  "kernelspec": {
   "display_name": "Python (learn-env)",
   "language": "python",
   "name": "learn-env"
  },
  "language_info": {
   "codemirror_mode": {
    "name": "ipython",
    "version": 3
   },
   "file_extension": ".py",
   "mimetype": "text/x-python",
   "name": "python",
   "nbconvert_exporter": "python",
   "pygments_lexer": "ipython3",
   "version": "3.11.3"
  }
 },
 "nbformat": 4,
 "nbformat_minor": 5
}
