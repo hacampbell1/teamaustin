{
 "cells": [
  {
   "cell_type": "markdown",
   "id": "b3887462",
   "metadata": {},
   "source": [
    "# Computer Vision Industry Recommendation "
   ]
  },
  {
   "cell_type": "markdown",
   "id": "8afbf779",
   "metadata": {},
   "source": [
    "### Overview"
   ]
  },
  {
   "cell_type": "markdown",
   "id": "eed89cff",
   "metadata": {},
   "source": [
    "Computer Vision is attempting to enter the film industry. Movie data was analyzed from multiple databases in order to understand the most profitable and successful movies. This data was analyzed utilizing various statistical methods and data manipulation."
   ]
  },
  {
   "cell_type": "markdown",
   "id": "36876876",
   "metadata": {},
   "source": [
    "### Business Understanding"
   ]
  },
  {
   "cell_type": "markdown",
   "id": "df1ba1e6",
   "metadata": {},
   "source": [
    "Computer Vision is looking to produce original video content with the creation of a new movie studio. Their goal is to strategically release top-rated, and high grossing films, but lack of industry specific knowledge and experience is delaying this expansion. An uncalculated debut into the film industry may lead to poor brand recognition or unnecessary financial loss.\n",
    "\n",
    "By leveraging box office data sources to draw conclusions on variables like release month, genre, audience ratings, and profits our team seeks to answer the how, what, and when so Computer Vision can successfully begin creating films tailored to surpass their goals "
   ]
  },
  {
   "cell_type": "markdown",
   "id": "e5629945",
   "metadata": {},
   "source": [
    "### Data Understanding and Analysis"
   ]
  },
  {
   "cell_type": "markdown",
   "id": "27f99dd3",
   "metadata": {},
   "source": [
    "Source of data\n",
    "The data used in analysis included the following. \n",
    "- Box Office Mojo\n",
    "- IMDB\n",
    "- Rotten Tomatoes\n",
    "- TheMovieDB\n",
    "- The Numbers"
   ]
  },
  {
   "cell_type": "markdown",
   "id": "fafedf3a",
   "metadata": {},
   "source": [
    "#### Box Office Mojo "
   ]
  },
  {
   "cell_type": "markdown",
   "id": "39edc0dc",
   "metadata": {},
   "source": [
    "From Box Office Mojo, 3387 records of films during the years 2010-2018, studio name, and their corresponding domestic and foreign gross box-office revenue are given.The Box Office Mojo data type accuratley described the string data as object. However, foreign gross total was listed as \"object\" and domestic gross was listed as a float even though no decimal value was indicated.Cleaning the dataset included changing the data type of foreign and domestic gross to integer. There were less than 40 NaNs between the studio, and domestic gross columns so dropping these rows was applicable. ALternatively, with over 1,300 NaN values under foreign gross column, the missing data was too significant to draw conclusions and limited analysis. The team concurred that replacing such NaNs with the related mean or another significant value would disproportionaly skew the data. After this, the team utilized the .describe and .info methods to return the following descriptive statistics:"
   ]
  },
  {
   "cell_type": "markdown",
   "id": "7b732bba",
   "metadata": {},
   "source": [
    "**Domestic Gross:**\n",
    "\n",
    "&nbsp;&nbsp;&nbsp;&nbsp;&nbsp;&nbsp; **Mean:** $28,745,845.07\n",
    "\n",
    "&nbsp;&nbsp;&nbsp;&nbsp;&nbsp;&nbsp; **Q1:**   $120,000.00\n",
    "\n",
    "&nbsp;&nbsp;&nbsp;&nbsp;&nbsp;&nbsp; **Q3:**   $27,900,000.00\n",
    "\n",
    "&nbsp;&nbsp;&nbsp;&nbsp;&nbsp;&nbsp; **Standard Deviation:**   $66982498.24\n",
    "\n",
    "\n",
    "**Foreign Gross:**\n",
    "\n",
    "&nbsp;&nbsp;&nbsp;&nbsp;&nbsp;&nbsp; **Mean:** $28,745,845.07\n",
    "\n",
    "&nbsp;&nbsp;&nbsp;&nbsp;&nbsp;&nbsp; **Q1:**   $120,000.00\n",
    "\n",
    "&nbsp;&nbsp;&nbsp;&nbsp;&nbsp;&nbsp; **Q3:**   $27,900,000.00\n",
    "\n",
    "&nbsp;&nbsp;&nbsp;&nbsp;&nbsp;&nbsp; **Standard Deviation:**   $66982498.24"
   ]
  },
  {
   "cell_type": "markdown",
   "id": "9b884d63",
   "metadata": {},
   "source": [
    "Without knowing expenses incurred during production, both domestic and foreign gross revenues cannot be interpreted to the necessary extent.Although, neither release year nor movie title were relevant, an option to compare title to foreign or domestic gross could provide slight insight into title success.\n",
    "\n",
    "Although the Box Office Mojo provides intriguing data, analyzing the irrelevant and missing data values limits its ability to provide actionable next steps for Computer Vision. Therefore, the team did not use the Box Office Mojo dataset for analyses."
   ]
  },
  {
   "cell_type": "markdown",
   "id": "5f3b67b2",
   "metadata": {},
   "source": [
    "#### IMDB"
   ]
  },
  {
   "cell_type": "markdown",
   "id": "f3b3e9e7",
   "metadata": {},
   "source": [
    "Provides in depth information on various movies from the year 2010 to 2019. The most relevant of the information provided includes movie ratings, number of ratings for a given movie, genre, and year published\n"
   ]
  },
  {
   "cell_type": "markdown",
   "id": "f0d5ca75",
   "metadata": {},
   "source": [
    "#### Rotten Tomatoes"
   ]
  },
  {
   "cell_type": "markdown",
   "id": "73e9277c",
   "metadata": {},
   "source": [
    "There are two files from rotten tomatos. The first, rt.movie_info.tsv.gz, containing information regarding genre, movie age rating, and box office gross income are the most relevant. The second file obtained from rotten tomatos corresponds to the one mentioned previously; howeverm provides more data regarding a movies average rating, type of rating, and year published. \n"
   ]
  },
  {
   "cell_type": "markdown",
   "id": "9d79fa60",
   "metadata": {},
   "source": [
    "#### The Movie DB"
   ]
  },
  {
   "cell_type": "markdown",
   "id": "86a56f86",
   "metadata": {},
   "source": [
    "This is another source containing movies and their corresponding number of ratings and average ratings. \n"
   ]
  },
  {
   "cell_type": "markdown",
   "id": "b29ea637",
   "metadata": {},
   "source": [
    "#### The Numbers DB"
   ]
  },
  {
   "cell_type": "markdown",
   "id": "2e0ce716",
   "metadata": {},
   "source": [
    "This provides a list a movies and their corresponding production budget, domestic gross income, and worldwide gross income \n",
    "Description of data\n",
    "Three visualizations (the same visualizations presented in the slides and notebook)"
   ]
  },
  {
   "cell_type": "markdown",
   "id": "47fbb37a",
   "metadata": {},
   "source": [
    "### Data Preparation and Methodology"
   ]
  },
  {
   "cell_type": "markdown",
   "id": "4e373879",
   "metadata": {},
   "source": [
    "TEXT HERE: explanation of data prep/cleaning methods \n",
    "\n",
    "\n",
    "what we filtered // which datasets we used // how we cleaned the data"
   ]
  },
  {
   "cell_type": "code",
   "execution_count": 17,
   "id": "47912b70",
   "metadata": {},
   "outputs": [],
   "source": [
    "#code cell here if needed"
   ]
  },
  {
   "cell_type": "markdown",
   "id": "6b52f58c",
   "metadata": {},
   "source": [
    "### Actionable Recommendations"
   ]
  },
  {
   "cell_type": "markdown",
   "id": "506c0429",
   "metadata": {},
   "source": [
    "#### Most Profitable Release Month "
   ]
  },
  {
   "cell_type": "code",
   "execution_count": 13,
   "id": "bd128173",
   "metadata": {},
   "outputs": [],
   "source": [
    "#code cell to show work and visualizations"
   ]
  },
  {
   "cell_type": "markdown",
   "id": "72dbd03c",
   "metadata": {},
   "source": [
    "#### Highest Rated Movie Genres "
   ]
  },
  {
   "cell_type": "code",
   "execution_count": 15,
   "id": "2d190d95",
   "metadata": {},
   "outputs": [],
   "source": [
    "#code cell to show work and visualizations"
   ]
  },
  {
   "cell_type": "markdown",
   "id": "29c95b78",
   "metadata": {},
   "source": [
    "#### Budget Interval Per Top 5 Genres"
   ]
  },
  {
   "cell_type": "code",
   "execution_count": 16,
   "id": "91b1846f",
   "metadata": {},
   "outputs": [],
   "source": [
    "#code cell to show work and visualizations"
   ]
  },
  {
   "cell_type": "markdown",
   "id": "30e4aa1b",
   "metadata": {},
   "source": [
    "### Statistical Communication "
   ]
  },
  {
   "cell_type": "markdown",
   "id": "cd095b7a",
   "metadata": {},
   "source": [
    "TEXT HERE: Results of Statistical inference \n",
    "Interpreation of these results in the context of the problem \n",
    "\n",
    "-discussion of confidence interval/results"
   ]
  },
  {
   "cell_type": "markdown",
   "id": "61ff04fd",
   "metadata": {},
   "source": [
    "### Conclusion"
   ]
  },
  {
   "cell_type": "markdown",
   "id": "427b610e",
   "metadata": {},
   "source": [
    "TEXT HERE: Summary of conclusions including three relevant findings "
   ]
  }
 ],
 "metadata": {
  "kernelspec": {
   "display_name": "Python (learn-env)",
   "language": "python",
   "name": "learn-env"
  },
  "language_info": {
   "codemirror_mode": {
    "name": "ipython",
    "version": 3
   },
   "file_extension": ".py",
   "mimetype": "text/x-python",
   "name": "python",
   "nbconvert_exporter": "python",
   "pygments_lexer": "ipython3",
   "version": "3.11.3"
  }
 },
 "nbformat": 4,
 "nbformat_minor": 5
}
