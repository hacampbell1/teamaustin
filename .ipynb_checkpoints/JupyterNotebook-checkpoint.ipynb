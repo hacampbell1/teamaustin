{
 "cells": [
  {
   "cell_type": "markdown",
   "id": "4680eff9",
   "metadata": {},
   "source": [
    "# Computer Vision Industry Recommendation "
   ]
  },
  {
   "cell_type": "markdown",
   "id": "d86a6d84",
   "metadata": {},
   "source": [
    "### Overview"
   ]
  },
  {
   "cell_type": "markdown",
   "id": "2296a610",
   "metadata": {},
   "source": [
    "Computer Vision is attempting to enter the film industry. Movie data was analyzed from multiple databases in order to understand the most profitable and successful movies. This data was analyzed utilizing various statistical methods and data manipulation."
   ]
  },
  {
   "cell_type": "markdown",
   "id": "6277dc72",
   "metadata": {},
   "source": [
    "### Business Understanding"
   ]
  },
  {
   "attachments": {},
   "cell_type": "markdown",
   "id": "f3e384ff",
   "metadata": {},
   "source": [
    "Computer Vision is looking to produce original video content with the creation of a new movie studio. Their goal is to strategically release top-rated, and high grossing films, but lack of industry specific knowledge and experience is delaying this expansion. An uncalculated debut into the film industry may lead to poor brand recognition or unnecessary financial loss.\n",
    "\n",
    "By leveraging many box office data sources, to draw conclusions on varaibles like release month, genre, audience ratings, and profits our team seeks to answer the how, what, and when so Computer Vision can successfully begin creating films tailored to surpass their goals "
   ]
  },
  {
   "cell_type": "markdown",
   "id": "a4a4761b",
   "metadata": {},
   "source": [
    "### Data Understanding and Analysis"
   ]
  },
  {
   "cell_type": "markdown",
   "id": "d2e7f18c",
   "metadata": {},
   "source": [
    "Source of data\n",
    "The data used in analysis included the following. \n",
    "- Box Office Mojo\n",
    "- IMDB\n",
    "- Rotten Tomatoes\n",
    "- TheMovieDB\n",
    "- The Numbers"
   ]
  },
  {
   "cell_type": "markdown",
   "id": "fcd09182",
   "metadata": {},
   "source": [
    "#### Box Office Mojo "
   ]
  },
  {
   "cell_type": "markdown",
   "id": "d0ea1db4",
   "metadata": {},
   "source": [
    "Displays the foreign and domestic gross income for a particular movie as well as the year released. \n"
   ]
  },
  {
   "cell_type": "markdown",
   "id": "94e61bf6",
   "metadata": {},
   "source": [
    "#### IMDB"
   ]
  },
  {
   "cell_type": "markdown",
   "id": "74c41fc2",
   "metadata": {},
   "source": [
    "Provides in depth information on various movies from the year 2010 to 2019. The most relevant of the information provided includes movie ratings, number of ratings for a given movie, genre, and year published\n"
   ]
  },
  {
   "cell_type": "markdown",
   "id": "657a3d0f",
   "metadata": {},
   "source": [
    "#### Rotten Tomatoes"
   ]
  },
  {
   "cell_type": "markdown",
   "id": "3f8c84bb",
   "metadata": {},
   "source": [
    "There are two files from rotten tomatos. The first, rt.movie_info.tsv.gz, containing information regarding genre, movie age rating, and box office gross income are the most relevant. The second file obtained from rotten tomatos corresponds to the one mentioned previously; howeverm provides more data regarding a movies average rating, type of rating, and year published. \n"
   ]
  },
  {
   "cell_type": "markdown",
   "id": "5b71ac04",
   "metadata": {},
   "source": [
    "#### TheMovie DB"
   ]
  },
  {
   "cell_type": "markdown",
   "id": "a0f7be5d",
   "metadata": {},
   "source": [
    "This is another source containing movies and their corresponding number of ratings and average ratings. \n"
   ]
  },
  {
   "cell_type": "markdown",
   "id": "e6b29682",
   "metadata": {},
   "source": [
    "#### TheNumbers"
   ]
  },
  {
   "cell_type": "markdown",
   "id": "6b62689a",
   "metadata": {},
   "source": [
    "This provides a list a movies and their corresponding production budget, domestic gross income, and worldwide gross income \n",
    "Description of data\n",
    "Three visualizations (the same visualizations presented in the slides and notebook)"
   ]
  },
  {
   "cell_type": "markdown",
   "id": "4325912a",
   "metadata": {},
   "source": [
    "### Data Preparation and Methodology"
   ]
  },
  {
   "cell_type": "markdown",
   "id": "f511ba62",
   "metadata": {},
   "source": [
    "TEXT HERE: explanation of data prep/cleaning methods "
   ]
  },
  {
   "cell_type": "code",
   "execution_count": 17,
   "id": "87d03c28",
   "metadata": {},
   "outputs": [],
   "source": [
    "#code cell here if needed"
   ]
  },
  {
   "cell_type": "markdown",
   "id": "48fb6735",
   "metadata": {},
   "source": [
    "### Actionable Recommendations"
   ]
  },
  {
   "cell_type": "markdown",
   "id": "92c0bf94",
   "metadata": {},
   "source": [
    "#### Most Profitable Release Month "
   ]
  },
  {
   "cell_type": "code",
   "execution_count": 13,
   "id": "54a25df3",
   "metadata": {},
   "outputs": [],
   "source": [
    "#code cell to show work and visualizations"
   ]
  },
  {
   "cell_type": "markdown",
   "id": "820e0c25",
   "metadata": {},
   "source": [
    "#### Highest Rated Movie Genres "
   ]
  },
  {
   "cell_type": "code",
   "execution_count": 15,
   "id": "8a5467d8",
   "metadata": {},
   "outputs": [],
   "source": [
    "#code cell to show work and visualizations"
   ]
  },
  {
   "cell_type": "markdown",
   "id": "562b5c64",
   "metadata": {},
   "source": [
    "#### Budget Interval Per Top 5 Genres"
   ]
  },
  {
   "cell_type": "code",
   "execution_count": 16,
   "id": "0fab06bb",
   "metadata": {},
   "outputs": [],
   "source": [
    "#code cell to show work and visualizations"
   ]
  },
  {
   "cell_type": "markdown",
   "id": "0df8a608",
   "metadata": {},
   "source": [
    "### Statistical Communication "
   ]
  },
  {
   "cell_type": "markdown",
   "id": "33f9cc11",
   "metadata": {},
   "source": [
    "TEXT HERE: Results of Statistical inference \n",
    "Interpreation of these results in the context of the problem "
   ]
  },
  {
   "cell_type": "markdown",
   "id": "8ff01800",
   "metadata": {},
   "source": [
    "### Conclusion"
   ]
  },
  {
   "cell_type": "markdown",
   "id": "92b68162",
   "metadata": {},
   "source": [
    "TEXT HERE: Summary of conclusions including three relevant findings "
   ]
  }
 ],
 "metadata": {
  "kernelspec": {
   "display_name": "Python (learn-env)",
   "language": "python",
   "name": "learn-env"
  },
  "language_info": {
   "codemirror_mode": {
    "name": "ipython",
    "version": 3
   },
   "file_extension": ".py",
   "mimetype": "text/x-python",
   "name": "python",
   "nbconvert_exporter": "python",
   "pygments_lexer": "ipython3",
   "version": "3.11.3"
  }
 },
 "nbformat": 4,
 "nbformat_minor": 5
}
